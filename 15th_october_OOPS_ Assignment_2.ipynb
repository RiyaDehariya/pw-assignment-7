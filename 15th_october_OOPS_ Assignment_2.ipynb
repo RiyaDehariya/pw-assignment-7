{
 "cells": [
  {
   "cell_type": "markdown",
   "id": "2f69978f",
   "metadata": {},
   "source": [
    "## Constructor"
   ]
  },
  {
   "cell_type": "markdown",
   "id": "742c4a15",
   "metadata": {},
   "source": [
    "1. What is a constructor in Python? Explain its purpose and usage."
   ]
  },
  {
   "cell_type": "markdown",
   "id": "79390f3a",
   "metadata": {},
   "source": [
    "Constructors are generally used for instantiating an object. The task of constructors is to initialize(assign values) to the data members of the class when an object of the class is created. In Python the __init__() method is called the constructor and is always called when an object is created.\n",
    "\n",
    "Syntax of constructor declaration : \n",
    "\n",
    "def __init__(self):\n",
    "    # body of the constructor\n",
    "    \n",
    "Types of constructors : \n",
    "\n",
    "Default constructor: The default constructor is a simple constructor which doesn’t accept any arguments. Its definition has only one argument which is a reference to the instance being constructed.\n",
    "\n",
    "Parameterized constructor: constructor with parameters is known as parameterized constructor. The parameterized constructor takes its first argument as a reference to the instance being constructed known as self and the rest of the arguments are provided by the programmer. \n",
    "The purpose of the constructor is to construct an object and assign a value to the object’s members.\n",
    "\n",
    "Some rules for defining constructors in Python are:\n",
    "\n",
    "1) The constructor method must be named __init__. This is a special name that is recognized by Python as the constructor method.\n",
    "2) The first argument of the constructor method must be self. This is a reference to the object itself, and it is used to access    the object’s attributes and methods.\n",
    "3) The constructor method must be defined inside the class definition. It cannot be defined outside the class.\n",
    "4) The constructor method is called automatically when an object is created. You don’t need to call it explicitly.\n",
    "5) You can define both default and parameterized constructors in a class. If you define both, the parameterized constructor will    be used when you pass arguments to the object constructor, and the default constructor will be used when you don’t pass any      arguments.\n"
   ]
  },
  {
   "cell_type": "markdown",
   "id": "256f6ba1",
   "metadata": {},
   "source": [
    "2. Differentiate between a parameterless constructor and a parameterized constructor in Python."
   ]
  },
  {
   "cell_type": "markdown",
   "id": "d1a126ba",
   "metadata": {},
   "source": [
    "In Python, constructors are special methods used to initialize objects of a class. The two main types of constructors are parameterless constructors and parameterized constructors.\n",
    "\n",
    "Parameterless Constructor:\n",
    "1) Also known as a default constructor.\n",
    "2) Doesn't accept any parameters.\n",
    "3) Automatically invoked when an object of the class is created.\n",
    "4) Typically used to initialize instance variables or set up default values.\n",
    "5) If a class doesn't define a constructor, Python provides a default parameterless constructor.\n",
    "\n",
    "Example of a parameterless constructor in Python:\n",
    "class MyClass:\n",
    "    def __init__(self):                   # Parameterless constructor\n",
    "        self.my_variable = 0\n",
    "\n",
    "obj = MyClass()\n",
    "\n",
    "Parameterized Constructor:\n",
    "1) Accepts one or more parameters.\n",
    "2) Allows initialization of instance variables with custom values passed during object creation.\n",
    "3) Provides flexibility to initialize objects differently based on user input or other factors.\n",
    "4) If both parameterized and parameterless constructors are defined in a class, the parameterized constructor takes precedence.\n",
    "\n",
    "Example of a parameterized constructor in Python:\n",
    "class MyClass:\n",
    "    def __init__(self, value):                # Parameterized constructor\n",
    "        self.my_variable = value\n",
    "\n",
    "obj = MyClass(10)"
   ]
  },
  {
   "cell_type": "markdown",
   "id": "a571781e",
   "metadata": {},
   "source": [
    "3. How do you define a constructor in a Python class? Provide an example."
   ]
  },
  {
   "cell_type": "markdown",
   "id": "b9c3a7b2",
   "metadata": {},
   "source": [
    "In Python, constructors are defined using a special method called `__init__()`. This method is automatically called when an object of the class is created. Here's how you define a constructor in a Python class:\n",
    "\n",
    "class MyClass:\n",
    "    def __init__(self, parameter1, parameter2):\n",
    "        # Constructor definition\n",
    "        self.parameter1 = parameter1\n",
    "        self.parameter2 = parameter2\n",
    "\n",
    "#Creating an object of MyClass and passing values to the constructor\n",
    "obj = MyClass(\"value1\", \"value2\")\n",
    "\n",
    "In this example:\n",
    "\n",
    "- We define a class named `MyClass`.\n",
    "- The constructor `__init__()` accepts two parameters `parameter1` and `parameter2`.\n",
    "- Inside the constructor, we initialize instance variables `self.parameter1` and `self.parameter2` with the values passed as arguments to the constructor.\n",
    "- When an object `obj` of `MyClass` is created, the constructor is automatically invoked with the values `\"value1\"` and `\"value2\"`.\n",
    "- We can then access the instance variables of the object `obj` using dot notation (`obj.parameter1` and `obj.parameter2`)."
   ]
  },
  {
   "cell_type": "markdown",
   "id": "254b9f03",
   "metadata": {},
   "source": [
    "4. Explain the `__init__` method in Python and its role in constructors."
   ]
  },
  {
   "cell_type": "markdown",
   "id": "008e448e",
   "metadata": {},
   "source": [
    "In Python, the `__init__()` method is a special method, also known as the initializer or constructor method. It is automatically called when a new instance of a class is created. The primary role of the `__init__()` method is to initialize the newly created object by setting up its initial state.\n",
    "\n",
    "Here are the key points about the `__init__()` method and its role in constructors:\n",
    "\n",
    "1. **Initialization**: The `__init__()` method is used to initialize the attributes (or instance variables) of the class. It allows you to specify the initial state of the object by assigning values to its attributes.\n",
    "\n",
    "2. **Automatically Called**: When you create a new instance of a class by calling the class name followed by parentheses (like `obj = MyClass()`), Python automatically invokes the `__init__()` method of that class.\n",
    "\n",
    "3. **Arguments**: The `__init__()` method can accept arguments, allowing you to initialize the object with custom values. By convention, the first argument of `__init__()` is always `self`, which refers to the instance of the class itself.\n",
    "\n",
    "4. **Self**: Inside the `__init__()` method (as well as other instance methods), `self` is used to access the attributes and methods of the object being created. It represents the instance of the class and allows you to work with its attributes and methods within the class definition.\n",
    "\n",
    "5. **Optional**: While defining a class in Python, defining an `__init__()` method is optional. If you don't define one, Python provides a default constructor that doesn't initialize any attributes. However, defining your own `__init__()` method allows you to explicitly control the initialization process.\n"
   ]
  },
  {
   "cell_type": "markdown",
   "id": "bda8ce58",
   "metadata": {},
   "source": [
    "5. In a class named `Person`, create a constructor that initializes the `name` and `age` attributes. Provide an\n",
    "example of creating an object of this class."
   ]
  },
  {
   "cell_type": "code",
   "execution_count": 3,
   "id": "dedaeef0",
   "metadata": {},
   "outputs": [
    {
     "data": {
      "text/plain": [
       "'Riya'"
      ]
     },
     "execution_count": 3,
     "metadata": {},
     "output_type": "execute_result"
    }
   ],
   "source": [
    "class Person:\n",
    "    def __init__(self,name,age):\n",
    "        self.name = name\n",
    "        self.age = age\n",
    "        \n",
    "obj = Person('Riya',22)          #creating object\n",
    "\n",
    "obj.name"
   ]
  },
  {
   "cell_type": "code",
   "execution_count": 4,
   "id": "270860db",
   "metadata": {},
   "outputs": [
    {
     "data": {
      "text/plain": [
       "22"
      ]
     },
     "execution_count": 4,
     "metadata": {},
     "output_type": "execute_result"
    }
   ],
   "source": [
    "obj.age"
   ]
  },
  {
   "cell_type": "markdown",
   "id": "8506602e",
   "metadata": {},
   "source": [
    "6. How can you call a constructor explicitly in Python? Give an example."
   ]
  },
  {
   "cell_type": "markdown",
   "id": "6927a326",
   "metadata": {},
   "source": [
    "In Python, constructors are automatically called when you create a new instance of a class. However, you can also call a constructor explicitly by directly invoking the `__init__()` method. This can be useful in certain scenarios, such as when you want to reinitialize an object with new values without creating a new instance. Here's an example:\n",
    "\n",
    "```python\n",
    "class MyClass:\n",
    "    def __init__(self, value):\n",
    "        self.value = value\n",
    "\n",
    "    def display_value(self):\n",
    "        print(\"Value:\", self.value)\n",
    "\n",
    "# Creating an instance of MyClass\n",
    "obj = MyClass(10)\n",
    "\n",
    "# Calling the constructor explicitly to reinitialize the object\n",
    "obj.__init__(20)\n",
    "\n",
    "# Displaying the updated value\n",
    "obj.display_value()  # Output: Value: 20\n",
    "```\n",
    "\n",
    "In this example:\n",
    "\n",
    "- We define a class `MyClass` with a parameterized constructor `__init__()` that initializes an attribute `value`.\n",
    "- We create an instance `obj` of `MyClass` with an initial value of `10`.\n",
    "- We then explicitly call the constructor `__init__(20)` on the object `obj`, passing a new value of `20`. This reinitializes the `value` attribute of the object.\n",
    "- Finally, we call the `display_value()` method to print the updated value, which is now `20`."
   ]
  },
  {
   "cell_type": "markdown",
   "id": "d230d0d8",
   "metadata": {},
   "source": [
    "7. What is the significance of the `self` parameter in Python constructors? Explain with an example."
   ]
  },
  {
   "cell_type": "markdown",
   "id": "26aae9da",
   "metadata": {},
   "source": [
    "In Python, the `self` parameter in constructors (as well as in other instance methods) is a reference to the current instance of the class. It allows you to access and modify the attributes and methods of the object within the class definition. The `self` parameter is implicitly passed to the instance methods, including the constructor, when they are called.\n",
    "\n",
    "Here's the significance of the `self` parameter in Python constructors explained with an example:\n",
    "\n",
    "```python\n",
    "class MyClass:\n",
    "    def __init__(self, value):\n",
    "        self.value = value\n",
    "\n",
    "    def display_value(self):\n",
    "        print(\"Value:\", self.value)\n",
    "\n",
    "# Creating instances of MyClass\n",
    "obj1 = MyClass(10)\n",
    "obj2 = MyClass(20)\n",
    "\n",
    "# Accessing and displaying values using instance methods\n",
    "obj1.display_value()  # Output: Value: 10\n",
    "obj2.display_value()  # Output: Value: 20\n",
    "```\n",
    "\n",
    "In this example:\n",
    "\n",
    "- We define a class `MyClass` with a constructor `__init__()` that accepts a parameter `value`. Inside the constructor, `self.value` is used to initialize an instance variable `value`.\n",
    "- When we create instances of `MyClass` (`obj1` and `obj2`), we pass different values (`10` and `20`) to the constructor.\n",
    "- Within the `display_value()` method, we use `self.value` to access the `value` attribute of the current instance. The `self` parameter ensures that the method can access the correct instance variable for the object it is called on.\n",
    "- When we call `obj1.display_value()`, it prints the value `10`, and when we call `obj2.display_value()`, it prints the value `20`.\n",
    "\n",
    "In summary, the `self` parameter in Python constructors allows you to refer to the instance being created and access its attributes and methods. It plays a crucial role in properly initializing and working with objects within a class definition."
   ]
  },
  {
   "cell_type": "markdown",
   "id": "dbdcb36d",
   "metadata": {},
   "source": [
    "8. Discuss the concept of default constructors in Python. When are they used?"
   ]
  },
  {
   "cell_type": "markdown",
   "id": "0f7d1829",
   "metadata": {},
   "source": [
    "In Python, a default constructor is automatically provided by the language if you haven't explicitly defined one in your class. This default constructor doesn't accept any parameters and doesn't perform any initialization beyond what's provided by default. It is essentially equivalent to defining an empty `__init__()` method.\n",
    "\n",
    "Here's an example demonstrating the concept of default constructors:\n",
    "\n",
    "```python\n",
    "class MyClass:\n",
    "    # This class does not have an explicit constructor defined\n",
    "\n",
    "# Creating an instance of MyClass\n",
    "obj = MyClass()\n",
    "```\n",
    "\n",
    "In this example:\n",
    "\n",
    "- We define a class `MyClass` without explicitly defining a constructor (`__init__()` method).\n",
    "- When we create an instance `obj` of `MyClass`, Python automatically invokes the default constructor because we haven't provided a custom constructor. Since there are no additional initialization tasks, the default constructor doesn't do anything beyond what's provided by Python's default behavior.\n",
    "\n",
    "Default constructors are used:\n",
    "\n",
    "1. **When No Constructor is Defined**: If you don't define a constructor in your class, Python provides a default constructor. This default constructor initializes the object without any additional logic.\n",
    "\n",
    "2. **Minimal Initialization**: When your class doesn't require any special initialization logic or doesn't have any attributes to initialize, the default constructor suffices. In such cases, there's no need to define a custom constructor.\n",
    "\n",
    "3. **Inheritance**: Default constructors are also relevant in inheritance scenarios. If a subclass doesn't define its own constructor, it inherits the default constructor from its superclass.\n",
    "\n",
    "While default constructors are convenient for simple cases, in more complex scenarios where you need to initialize attributes or perform other setup tasks, it's common to define a custom constructor to explicitly control the initialization process."
   ]
  },
  {
   "cell_type": "markdown",
   "id": "1f9e6f82",
   "metadata": {},
   "source": [
    "9. Create a Python class called `Rectangle` with a constructor that initializes the `width` and `height`\n",
    "attributes. Provide a method to calculate the area of the rectangle."
   ]
  },
  {
   "cell_type": "code",
   "execution_count": 8,
   "id": "832f760b",
   "metadata": {},
   "outputs": [
    {
     "name": "stdout",
     "output_type": "stream",
     "text": [
      "Area of the rectangle: 20\n"
     ]
    }
   ],
   "source": [
    "class Rectangle:\n",
    "    def __init__(self,width,height):\n",
    "        self.width = width\n",
    "        self.height = height\n",
    "        \n",
    "    def Calculate_area(self):\n",
    "        Area =  self.width * self.height\n",
    "        return Area\n",
    "    \n",
    "obj = Rectangle(4,5)\n",
    "print(\"Area of the rectangle:\", obj.Calculate_area())"
   ]
  },
  {
   "cell_type": "markdown",
   "id": "5db373a9",
   "metadata": {},
   "source": [
    "10. How can you have multiple constructors in a Python class? Explain with an example."
   ]
  },
  {
   "cell_type": "markdown",
   "id": "b1b556ce",
   "metadata": {},
   "source": [
    "In Python, you cannot have multiple constructors in the same way as some other programming languages like Java or C++, where you can overload constructors with different parameter signatures. However, you can simulate the behavior of multiple constructors by using default parameter values or by defining multiple class methods for object instantiation.\n",
    "\n",
    "Here's how you can achieve multiple constructors in a Python class using both approaches:\n",
    "\n",
    "1. **Using Default Parameter Values**:\n",
    "\n",
    "```python\n",
    "class Rectangle:\n",
    "    def __init__(self, width=None, height=None):\n",
    "        if width is not None and height is not None:\n",
    "            self.width = width\n",
    "            self.height = height\n",
    "        else:\n",
    "            self.width = 0\n",
    "            self.height = 0\n",
    "\n",
    "    def calculate_area(self):\n",
    "        return self.width * self.height\n",
    "\n",
    "# Creating an instance of Rectangle with default values\n",
    "rectangle1 = Rectangle()\n",
    "\n",
    "# Creating an instance of Rectangle with custom values\n",
    "rectangle2 = Rectangle(5, 4)\n",
    "\n",
    "print(\"Area of rectangle1:\", rectangle1.calculate_area())  # Output: 0\n",
    "print(\"Area of rectangle2:\", rectangle2.calculate_area())  # Output: 20\n",
    "```\n",
    "\n",
    "In this approach, we define a single constructor with default parameter values for `width` and `height`. If `width` and `height` are provided during object instantiation, the constructor initializes the attributes with those values. Otherwise, it initializes them with default values.\n",
    "\n",
    "2. **Using Class Methods for Object Instantiation**:\n",
    "\n",
    "```python\n",
    "class Rectangle:\n",
    "    def __init__(self, width, height):\n",
    "        self.width = width\n",
    "        self.height = height\n",
    "\n",
    "    @classmethod\n",
    "    def create_square(cls, side_length):\n",
    "        return cls(side_length, side_length)\n",
    "\n",
    "    def calculate_area(self):\n",
    "        return self.width * self.height\n",
    "\n",
    "# Creating a rectangle with custom width and height\n",
    "rectangle1 = Rectangle(5, 4)\n",
    "\n",
    "# Creating a square using the class method\n",
    "square = Rectangle.create_square(6)\n",
    "\n",
    "print(\"Area of rectangle1:\", rectangle1.calculate_area())  # Output: 20\n",
    "print(\"Area of square:\", square.calculate_area())          # Output: 36\n",
    "```\n",
    "\n",
    "In this approach, we define a class method `create_square()` that serves as an alternative constructor for creating square rectangles. It internally calls the main constructor to create a rectangle with equal width and height.\n",
    "\n",
    "These approaches allow you to achieve the concept of having multiple constructors in a Python class by providing flexibility in object instantiation."
   ]
  },
  {
   "cell_type": "markdown",
   "id": "fd33db39",
   "metadata": {},
   "source": [
    "11. What is method overloading, and how is it related to constructors in Python?"
   ]
  },
  {
   "cell_type": "markdown",
   "id": "a8d0f80d",
   "metadata": {},
   "source": [
    "Method overloading is a concept in object-oriented programming where multiple methods with the same name but different parameters or different number of parameters are defined within a class. Depending on the parameters provided during method invocation, the appropriate method is called. \n",
    "\n",
    "However, in Python, method overloading in the traditional sense (as seen in languages like Java or C++) where you can define multiple methods with the same name but different parameters, is not directly supported. Python does not support method overloading by default because it is a dynamically-typed language and the types of arguments are determined at runtime.\n",
    "\n",
    "Instead, Python supports a form of polymorphism called \"duck typing,\" where the behavior of a method depends on the types of the arguments passed to it. This means that you can define a single method with a generic name and handle different types of arguments within that method.\n",
    "\n",
    "Now, how is this related to constructors in Python?\n",
    "\n",
    "Constructors in Python are special methods used for initializing objects of a class. In Python, you can only have one constructor per class, which is the `__init__()` method. You cannot define multiple constructors with different parameter signatures as you might in languages like Java or C++. Instead, you can use default parameter values or class methods for object instantiation to achieve similar functionality.\n",
    "\n",
    "So, while method overloading in the traditional sense is not directly applicable to constructors in Python, the concept of providing different ways to initialize objects (similar to overloaded constructors) can still be achieved using different techniques such as default parameter values or class methods. These techniques provide flexibility in object instantiation, even though they may not strictly adhere to the concept of method overloading as seen in other languages."
   ]
  },
  {
   "cell_type": "markdown",
   "id": "65138eac",
   "metadata": {},
   "source": [
    "12. Explain the use of the `super()` function in Python constructors. Provide an example."
   ]
  },
  {
   "cell_type": "markdown",
   "id": "2565023e",
   "metadata": {},
   "source": [
    "In Python, the `super()` function is used to call the constructor or methods of the parent class (also called the superclass or base class) within the child class (also called the subclass). This is particularly useful when you want to extend the behavior of a parent class in the child class while still utilizing the functionality provided by the parent class.\n",
    "\n",
    "Here's how you can use the `super()` function in Python constructors:\n",
    "\n",
    "```python\n",
    "class Parent:\n",
    "    def __init__(self, name):\n",
    "        self.name = name\n",
    "\n",
    "    def display(self):\n",
    "        print(\"Name:\", self.name)\n",
    "\n",
    "class Child(Parent):\n",
    "    def __init__(self, name, age):\n",
    "        super().__init__(name)  # Call parent class constructor\n",
    "        self.age = age\n",
    "\n",
    "    def display(self):\n",
    "        super().display()  # Call parent class method\n",
    "        print(\"Age:\", self.age)\n",
    "\n",
    "# Creating an instance of Child\n",
    "child = Child(\"Alice\", 30)\n",
    "\n",
    "# Calling the display method of Child\n",
    "child.display()\n",
    "```\n",
    "\n",
    "In this example:\n",
    "\n",
    "- We define a parent class `Parent` with a constructor `__init__()` that initializes the `name` attribute and a method `display()` that displays the name.\n",
    "- We define a child class `Child` that inherits from the `Parent` class. The `Child` class also has a constructor `__init__()` that initializes both `name` and `age` attributes.\n",
    "- Inside the `__init__()` method of the `Child` class, we use `super().__init__(name)` to call the constructor of the parent class and initialize the `name` attribute. This ensures that the parent class's initialization logic is executed before the child class's initialization logic.\n",
    "- Similarly, inside the `display()` method of the `Child` class, we use `super().display()` to call the `display()` method of the parent class and then extend its behavior by printing the `age` attribute.\n",
    "- When we create an instance of the `Child` class (`child = Child(\"Alice\", 30)`), the constructor of the parent class is automatically invoked via `super().__init__(name)`, ensuring that the `name` attribute is initialized properly.\n",
    "- Finally, when we call the `display()` method of the `Child` class (`child.display()`), it calls the `display()` method of the parent class first using `super().display()`, and then prints the `age` attribute specific to the child class."
   ]
  },
  {
   "cell_type": "markdown",
   "id": "eb0fa755",
   "metadata": {},
   "source": [
    "13. Create a class called `Book` with a constructor that initializes the `title`, `author`, and `published_year`\n",
    "attributes. Provide a method to display book details."
   ]
  },
  {
   "cell_type": "code",
   "execution_count": 9,
   "id": "f04952ef",
   "metadata": {},
   "outputs": [
    {
     "name": "stdout",
     "output_type": "stream",
     "text": [
      "Title: To Kill a Mockingbird\n",
      "Author: Harper Lee\n",
      "Published Year: 1960\n"
     ]
    }
   ],
   "source": [
    "class Book:\n",
    "    def __init__(self, title, author, published_year):\n",
    "        self.title = title\n",
    "        self.author = author\n",
    "        self.published_year = published_year\n",
    "\n",
    "    def display_details(self):\n",
    "        print(\"Title:\", self.title)\n",
    "        print(\"Author:\", self.author)\n",
    "        print(\"Published Year:\", self.published_year)\n",
    "\n",
    "# Creating an instance of Book\n",
    "book1 = Book(\"To Kill a Mockingbird\", \"Harper Lee\", 1960)\n",
    "\n",
    "# Displaying book details\n",
    "book1.display_details()"
   ]
  },
  {
   "cell_type": "markdown",
   "id": "f889ff27",
   "metadata": {},
   "source": [
    "14. Discuss the differences between constructors and regular methods in Python classes."
   ]
  },
  {
   "cell_type": "markdown",
   "id": "d3a373a8",
   "metadata": {},
   "source": [
    "In Python classes, constructors and regular methods serve different purposes and have distinct characteristics. Here are the main differences between constructors and regular methods:\n",
    "\n",
    "1. **Initialization**:\n",
    "   - Constructors: Constructors are special methods used for initializing objects of a class. They are automatically called when an object of the class is created. In Python, constructors are defined using the `__init__()` method.\n",
    "   - Regular methods: Regular methods are used to define the behavior or actions that objects of the class can perform. They can be called on objects after they have been initialized.\n",
    "\n",
    "2. **Invocation**:\n",
    "   - Constructors: Constructors are invoked automatically when an object of the class is created. You don't need to call them explicitly.\n",
    "   - Regular methods: Regular methods must be called explicitly on objects of the class using dot notation (`object.method()`).\n",
    "\n",
    "3. **Return Value**:\n",
    "   - Constructors: Constructors do not return any value explicitly. Their primary purpose is to initialize the object's state.\n",
    "   - Regular methods: Regular methods can return values, perform actions, or modify the object's state.\n",
    "\n",
    "4. **Naming Convention**:\n",
    "   - Constructors: Constructors in Python classes are conventionally named `__init__()`. They are used for initializing instance variables.\n",
    "   - Regular methods: Regular methods can have any name that follows the rules for naming identifiers in Python. They are used to define the behavior of objects.\n",
    "\n",
    "5. **Usage**:\n",
    "   - Constructors: Constructors are used to set up initial state, perform initialization tasks, and prepare objects for use.\n",
    "   - Regular methods: Regular methods are used to define the behavior or functionality of objects. They encapsulate actions that objects can perform.\n",
    "\n",
    "6. **Multiple Definitions**:\n",
    "   - Constructors: In Python, you can have only one constructor per class, defined using `__init__()` method. If you need to simulate multiple constructors, you can use default parameter values or class methods for object instantiation.\n",
    "   - Regular methods: You can define multiple regular methods within a class with different names.\n",
    "\n",
    "In summary, constructors are special methods used for initializing objects when they are created, while regular methods define the behavior or actions of objects. Constructors are automatically invoked upon object creation, whereas regular methods need to be called explicitly on objects."
   ]
  },
  {
   "cell_type": "markdown",
   "id": "70542482",
   "metadata": {},
   "source": [
    "15. Explain the role of the `self` parameter in instance variable initialization within a constructor."
   ]
  },
  {
   "cell_type": "markdown",
   "id": "2f791539",
   "metadata": {},
   "source": [
    "In Python, the `self` parameter in a constructor (and other instance methods) refers to the instance of the class itself. It is a conventional name, though you could technically name it something else (but `self` is highly recommended for readability and convention). The `self` parameter is used to access and manipulate instance variables and methods within the class.\n",
    "\n",
    "Here's how the `self` parameter is used in instance variable initialization within a constructor:\n",
    "\n",
    "1. **Accessing Instance Variables**: Inside the constructor, you use `self` to access instance variables. When you assign values to instance variables within the constructor, you use `self` to specify that you're modifying the instance's attributes.\n",
    "\n",
    "```python\n",
    "class MyClass:\n",
    "    def __init__(self, value):\n",
    "        self.instance_variable = value\n",
    "```\n",
    "\n",
    "2. **Initializing Instance Variables**: The `self` parameter is essential for initializing instance variables within the constructor. By using `self.variable_name`, you ensure that the variable belongs to the instance of the class and not just to the scope of the constructor.\n",
    "\n",
    "3. **Referencing Instance Variables**: After the instance variables are initialized in the constructor, you can reference them within other methods of the class using `self.variable_name`.\n",
    "\n",
    "Here's a more detailed example:\n",
    "\n",
    "```python\n",
    "class Person:\n",
    "    def __init__(self, name, age):\n",
    "        self.name = name  # Initializing instance variable 'name'\n",
    "        self.age = age    # Initializing instance variable 'age'\n",
    "\n",
    "    def display_details(self):\n",
    "        print(\"Name:\", self.name)\n",
    "        print(\"Age:\", self.age)\n",
    "\n",
    "# Creating an instance of Person\n",
    "person1 = Person(\"Alice\", 30)\n",
    "\n",
    "# Accessing instance variables using dot notation\n",
    "print(person1.name)  # Output: Alice\n",
    "print(person1.age)   # Output: 30\n",
    "\n",
    "# Calling method to display details\n",
    "person1.display_details()\n",
    "```\n",
    "\n",
    "In this example:\n",
    "\n",
    "- In the `__init__()` constructor, `self.name` and `self.age` are used to initialize the instance variables `name` and `age`, respectively.\n",
    "- In the `display_details()` method, `self.name` and `self.age` are used to reference the instance variables and display their values.\n",
    "- When we create an instance of `Person` (`person1`), we pass arguments for `name` and `age`. The constructor initializes the instance variables with these values.\n",
    "- We can then access the instance variables using dot notation (`person1.name`, `person1.age`) and call the `display_details()` method to display the details of the person."
   ]
  },
  {
   "cell_type": "markdown",
   "id": "f4a90244",
   "metadata": {},
   "source": [
    "16. How do you prevent a class from having multiple instances by using constructors in Python? Provide an\n",
    "example."
   ]
  },
  {
   "cell_type": "markdown",
   "id": "9127c54e",
   "metadata": {},
   "source": [
    "In Python, you can prevent a class from having multiple instances by using a design pattern called the Singleton pattern. The Singleton pattern ensures that a class has only one instance and provides a global point of access to that instance. You can achieve this by controlling object creation within the class constructor and returning the same instance each time it's requested.\n",
    "\n",
    "Here's an example of implementing the Singleton pattern in Python:\n",
    "\n",
    "```python\n",
    "class Singleton:\n",
    "    _instance = None\n",
    "\n",
    "    def __new__(cls, *args, **kwargs):\n",
    "        if cls._instance is None:\n",
    "            cls._instance = super().__new__(cls, *args, **kwargs)\n",
    "        return cls._instance\n",
    "\n",
    "    def __init__(self, value):\n",
    "        if not hasattr(self, 'initialized'):\n",
    "            self.value = value\n",
    "            self.initialized = True\n",
    "\n",
    "# Creating instances of Singleton\n",
    "singleton1 = Singleton(1)\n",
    "singleton2 = Singleton(2)\n",
    "\n",
    "# Checking if both instances refer to the same object\n",
    "print(singleton1 is singleton2)  # Output: True\n",
    "print(singleton1.value)          # Output: 1\n",
    "print(singleton2.value)          # Output: 1\n",
    "```\n",
    "\n",
    "In this example:\n",
    "\n",
    "- We define a class `Singleton` that implements the Singleton pattern.\n",
    "- We override the `__new__()` method, which is responsible for object creation, to control the creation of instances. It ensures that only one instance of the class is created by checking if `_instance` attribute is already set.\n",
    "- We also define the `__init__()` method to initialize the instance variables. However, we ensure that it's only executed once using the `initialized` attribute.\n",
    "- When we create instances `singleton1` and `singleton2`, both are initialized with different values (`1` and `2` respectively). However, since the Singleton pattern ensures that only one instance exists, `singleton2` refers to the same instance as `singleton1`.\n",
    "- Therefore, `singleton1 is singleton2` evaluates to `True`, indicating that both variables refer to the same object."
   ]
  },
  {
   "cell_type": "markdown",
   "id": "c3a8cba8",
   "metadata": {},
   "source": [
    "17. Create a Python class called `Student` with a constructor that takes a list of subjects as a parameter and\n",
    "initializes the `subjects` attribute."
   ]
  },
  {
   "cell_type": "code",
   "execution_count": 10,
   "id": "764a36b6",
   "metadata": {},
   "outputs": [
    {
     "name": "stdout",
     "output_type": "stream",
     "text": [
      "Subjects: ['Math', 'Science', 'History']\n"
     ]
    }
   ],
   "source": [
    "class Student:\n",
    "    def __init__(self, subjects):\n",
    "        self.subjects = subjects\n",
    "\n",
    "# Creating an instance of Student with a list of subjects\n",
    "student = Student([\"Math\", \"Science\", \"History\"])\n",
    "\n",
    "# Accessing and printing the subjects attribute\n",
    "print(\"Subjects:\", student.subjects)"
   ]
  },
  {
   "cell_type": "markdown",
   "id": "4ce075c5",
   "metadata": {},
   "source": [
    "18. What is the purpose of the `__del__` method in Python classes, and how does it relate to constructors?"
   ]
  },
  {
   "cell_type": "markdown",
   "id": "b95d3e04",
   "metadata": {},
   "source": [
    "In Python, the `__del__()` method is a special method that serves as a destructor in a class. It is called when an object is about to be destroyed, typically when it's no longer being used and is being garbage collected. The purpose of the `__del__()` method is to perform any necessary cleanup or resource release tasks before the object is removed from memory.\n",
    "\n",
    "Here's how the `__del__()` method relates to constructors:\n",
    "\n",
    "1. **Constructor (`__init__()` method)**:\n",
    "   - The constructor, `__init__()`, is used to initialize the object's state and set up initial values for attributes.\n",
    "   - It is invoked automatically when an object of the class is created.\n",
    "\n",
    "2. **Destructor (`__del__()` method)**:\n",
    "   - The destructor, `__del__()`, is used to perform cleanup tasks and release resources associated with an object before it is destroyed.\n",
    "   - It is invoked automatically when an object is about to be destroyed and removed from memory.\n",
    "\n",
    "The relationship between the constructor and the destructor is that they are both special methods that are automatically called at different stages of an object's lifecycle:\n",
    "\n",
    "- The constructor is called when the object is being created, allowing you to initialize its state.\n",
    "- The destructor is called when the object is being destroyed, allowing you to perform cleanup tasks and release resources.\n",
    "\n",
    "It's important to note that while Python provides a `__del__()` method for cleanup, it's not always reliable to rely on it for resource management, especially for complex or long-lived objects. It's generally better to use explicit resource management techniques like context managers (`with` statement) or implementing a specific `close()` method for resource cleanup.\n",
    "\n",
    "Here's a simple example to demonstrate the use of `__del__()`:\n",
    "\n",
    "```python\n",
    "class MyClass:\n",
    "    def __init__(self, name):\n",
    "        self.name = name\n",
    "        print(f\"{self.name} created\")\n",
    "\n",
    "    def __del__(self):\n",
    "        print(f\"{self.name} destroyed\")\n",
    "\n",
    "# Creating an instance of MyClass\n",
    "obj = MyClass(\"Object\")\n",
    "\n",
    "# Object is automatically destroyed when it goes out of scope\n",
    "```\n",
    "\n",
    "In this example:\n",
    "\n",
    "- We define a class `MyClass` with both `__init__()` and `__del__()` methods.\n",
    "- When an instance `obj` of `MyClass` is created, the constructor `__init__()` is automatically called, printing \"Object created\".\n",
    "- When the instance `obj` goes out of scope and is about to be destroyed, the destructor `__del__()` is automatically called, printing \"Object destroyed\"."
   ]
  },
  {
   "cell_type": "markdown",
   "id": "e4f491b7",
   "metadata": {},
   "source": [
    "19. Explain the use of constructor chaining in Python. Provide a practical example."
   ]
  },
  {
   "cell_type": "markdown",
   "id": "eb9e9628",
   "metadata": {},
   "source": [
    "Constructor chaining in Python refers to the ability to call one constructor from another constructor within the same class hierarchy. This allows you to avoid duplicating initialization logic by reusing code from other constructors. It's particularly useful when you have multiple constructors with different parameters or initialization tasks, and you want to ensure that common initialization logic is shared among them.\n",
    "\n",
    "Here's an example demonstrating constructor chaining in Python:\n",
    "\n",
    "```python\n",
    "class Person:\n",
    "    def __init__(self, name):\n",
    "        self.name = name\n",
    "        print(\"Person constructor called\")\n",
    "    \n",
    "    def display_name(self):\n",
    "        print(\"Name:\", self.name)\n",
    "\n",
    "class Student(Person):\n",
    "    def __init__(self, name, student_id):\n",
    "        super().__init__(name)  # Call parent class constructor\n",
    "        self.student_id = student_id\n",
    "        print(\"Student constructor called\")\n",
    "\n",
    "    def display_details(self):\n",
    "        super().display_name()  # Call parent class method\n",
    "        print(\"Student ID:\", self.student_id)\n",
    "\n",
    "# Creating an instance of Student\n",
    "student = Student(\"Alice\", \"12345\")\n",
    "\n",
    "# Displaying student details\n",
    "student.display_details()\n",
    "```\n",
    "\n",
    "In this example:\n",
    "\n",
    "- We define a base class `Person` with a constructor `__init__()` that initializes the `name` attribute and a method `display_name()` to display the name.\n",
    "- We define a subclass `Student` that inherits from `Person`. The `Student` class has its own constructor `__init__()` that initializes the `student_id` attribute.\n",
    "- Inside the `__init__()` method of the `Student` class, we use `super().__init__(name)` to call the constructor of the parent class `Person` and initialize the `name` attribute. This ensures that the common initialization logic from the `Person` constructor is reused.\n",
    "- Similarly, we call the `display_name()` method of the parent class within the `display_details()` method of the `Student` class using `super().display_name()`.\n",
    "- When we create an instance `student` of the `Student` class with the name \"Alice\" and student ID \"12345\", both constructors (`Person` and `Student`) are called, and the output confirms this sequence of execution.\n",
    "- We then call the `display_details()` method on the `student` object to display its details, including the name and student ID."
   ]
  },
  {
   "cell_type": "markdown",
   "id": "818f41ed",
   "metadata": {},
   "source": [
    "20. Create a Python class called `Car` with a default constructor that initializes the `make` and `model`\n",
    "attributes. Provide a method to display car information."
   ]
  },
  {
   "cell_type": "code",
   "execution_count": 11,
   "id": "e567f37e",
   "metadata": {},
   "outputs": [
    {
     "name": "stdout",
     "output_type": "stream",
     "text": [
      "Make: Toyota\n",
      "Model: Camry\n"
     ]
    }
   ],
   "source": [
    "class Car:\n",
    "    def __init__(self, make, model):\n",
    "        self.make = make\n",
    "        self.model = model\n",
    "\n",
    "    def display_info(self):\n",
    "        print(\"Make:\", self.make)\n",
    "        print(\"Model:\", self.model)\n",
    "\n",
    "# Creating an instance of Car with default values\n",
    "car = Car(\"Toyota\", \"Camry\")\n",
    "\n",
    "# Displaying car information\n",
    "car.display_info()"
   ]
  },
  {
   "cell_type": "code",
   "execution_count": null,
   "id": "ed493d46",
   "metadata": {},
   "outputs": [],
   "source": []
  },
  {
   "cell_type": "markdown",
   "id": "dd254e1f",
   "metadata": {},
   "source": [
    "## Inheritance"
   ]
  },
  {
   "cell_type": "markdown",
   "id": "82710ab3",
   "metadata": {},
   "source": [
    "1. What is inheritance in Python? Explain its significance in object-oriented programming."
   ]
  },
  {
   "cell_type": "markdown",
   "id": "4a9f42ac",
   "metadata": {},
   "source": [
    "Inheritance in Python is a mechanism that allows a class to inherit properties and behavior (methods) from another class, called the base class or superclass. The class that inherits from the superclass is called the derived class or subclass. Inheritance enables code reuse and the creation of a hierarchy of classes where subclasses can extend and specialize the functionality of their parent classes.\n",
    "\n",
    "Here are some key points about inheritance in Python and its significance in object-oriented programming:\n",
    "\n",
    "1. **Code Reusability**: Inheritance promotes code reuse by allowing subclasses to inherit attributes and methods from their parent classes. This means that common behavior can be defined in a superclass and reused in multiple subclasses without duplicating code.\n",
    "\n",
    "2. **Hierarchy of Classes**: Inheritance allows you to create a hierarchy of classes, where classes at higher levels in the hierarchy (superclasses) provide general functionality that is shared by subclasses. Subclasses can then add specific features or behavior on top of what they inherit.\n",
    "\n",
    "3. **Specialization and Extension**: Subclasses can extend the functionality of their parent classes by adding new methods or overriding existing ones. This allows for specialization, where subclasses can tailor behavior to suit their specific needs while still benefiting from the common functionality provided by the superclass.\n",
    "\n",
    "4. **Polymorphism**: Inheritance enables polymorphism, which is the ability for objects of different classes to be treated as objects of a common superclass. This allows for more flexible and modular code, as methods can operate on objects of the superclass without needing to know the specific subclass they belong to.\n",
    "\n",
    "5. **Maintainability and Modularity**: Inheritance promotes a modular approach to designing and organizing code. By defining common functionality in superclasses and extending it in subclasses, you can create more maintainable and easily understandable code that can be modified or extended with minimal impact on other parts of the system.\n",
    "\n",
    "Overall, inheritance is a fundamental concept in object-oriented programming that facilitates code reuse, promotes modular design, and allows for the creation of flexible and extensible software systems. It provides a powerful mechanism for organizing and structuring classes in a way that reflects the relationships and hierarchy among different types of objects in a system."
   ]
  },
  {
   "cell_type": "markdown",
   "id": "c6abbbb7",
   "metadata": {},
   "source": [
    "2. Differentiate between single inheritance and multiple inheritance in Python. Provide examples for each."
   ]
  },
  {
   "cell_type": "markdown",
   "id": "04c5f0d6",
   "metadata": {},
   "source": [
    "In Python, inheritance allows a class to inherit attributes and methods from one or more parent classes. There are two main types of inheritance: single inheritance and multiple inheritance.\n",
    "\n",
    "1. **Single Inheritance**:\n",
    "   - In single inheritance, a class inherits from only one parent class.\n",
    "   - This means that the subclass has access to the attributes and methods of its single superclass.\n",
    "   - Single inheritance promotes simplicity and clarity in class relationships.\n",
    "   \n",
    "Here's an example of single inheritance:\n",
    "\n",
    "```python\n",
    "class Animal:\n",
    "    def sound(self):\n",
    "        print(\"Animal makes a sound\")\n",
    "\n",
    "class Dog(Animal):\n",
    "    def sound(self):\n",
    "        print(\"Dog barks\")\n",
    "\n",
    "# Creating an instance of Dog\n",
    "dog = Dog()\n",
    "\n",
    "# Calling the sound method of Dog\n",
    "dog.sound()  # Output: Dog barks\n",
    "```\n",
    "\n",
    "2. **Multiple Inheritance**:\n",
    "   - In multiple inheritance, a class inherits from more than one parent class.\n",
    "   - This means that the subclass has access to the attributes and methods of all its parent classes.\n",
    "   - Multiple inheritance allows for more complex class relationships and can lead to greater code reuse, but it can also introduce ambiguity and complexity.\n",
    "   \n",
    "Here's an example of multiple inheritance:\n",
    "\n",
    "```python\n",
    "class Parent1:\n",
    "    def method1(self):\n",
    "        print(\"Method 1 from Parent1\")\n",
    "\n",
    "class Parent2:\n",
    "    def method2(self):\n",
    "        print(\"Method 2 from Parent2\")\n",
    "\n",
    "class Child(Parent1, Parent2):\n",
    "    pass\n",
    "\n",
    "# Creating an instance of Child\n",
    "child = Child()\n",
    "\n",
    "# Calling methods from both parent classes\n",
    "child.method1()  # Output: Method 1 from Parent1\n",
    "child.method2()  # Output: Method 2 from Parent2\n",
    "```\n",
    "In summary, single inheritance involves inheriting from a single parent class, while multiple inheritance involves inheriting from more than one parent class. Both types of inheritance have their own advantages and use cases, and the choice between them depends on the specific requirements of your application and the design of your class hierarchy."
   ]
  },
  {
   "cell_type": "markdown",
   "id": "8df8137d",
   "metadata": {},
   "source": [
    "3. Create a Python class called `Vehicle` with attributes `color` and `speed`. Then, create a child class called\n",
    "`Car` that inherits from `Vehicle` and adds a `brand` attribute. Provide an example of creating a `Car` object."
   ]
  },
  {
   "cell_type": "code",
   "execution_count": 28,
   "id": "beb41fa1",
   "metadata": {},
   "outputs": [
    {
     "name": "stdout",
     "output_type": "stream",
     "text": [
      "Brand :  kia\n",
      "Color :  Black\n",
      "Speed :  120\n"
     ]
    }
   ],
   "source": [
    "class Vehicle:\n",
    "    def __init__(self,color,speed):\n",
    "        self.color = color\n",
    "        self.speed = speed\n",
    "        \n",
    "class car(Vehicle):\n",
    "    def __init__(self,color,speed,brand):\n",
    "        super().__init__(color,speed)\n",
    "        self.brand = brand\n",
    "    \n",
    "    def display_car_details(self):\n",
    "        print('Brand : ', self.brand)\n",
    "        print('Color : ', self.color)\n",
    "        print('Speed : ', self.speed)\n",
    "        \n",
    "obj = car(\"Black\",120,\"kia\")\n",
    "obj.display_car_details()\n",
    "        \n"
   ]
  },
  {
   "cell_type": "markdown",
   "id": "9f1eab9d",
   "metadata": {},
   "source": [
    "4. Explain the concept of method overriding in inheritance. Provide a practical example."
   ]
  },
  {
   "cell_type": "markdown",
   "id": "7d30076e",
   "metadata": {},
   "source": [
    "Method overriding is a feature of object-oriented programming that allows a subclass to provide a specific implementation of a method that is already defined in its superclass. This means that a subclass can redefine the behavior of a method inherited from its superclass to suit its own requirements. Method overriding is a way to achieve polymorphism, where different classes can provide their own implementation of the same method.\n",
    "\n",
    "Here's how method overriding works in inheritance:\n",
    "\n",
    "1. **Inheritance**: A subclass inherits methods from its superclass.\n",
    "\n",
    "2. **Method Definition in Subclass**: The subclass can redefine (override) a method that it inherits from its superclass by providing a new implementation with the same method signature (name and parameters).\n",
    "\n",
    "3. **Execution**: When an object of the subclass calls the overridden method, the subclass's implementation of the method is executed instead of the superclass's implementation.\n",
    "\n",
    "Here's a practical example to illustrate method overriding:\n",
    "\n",
    "```python\n",
    "class Animal:\n",
    "    def make_sound(self):\n",
    "        print(\"Animal makes a sound\")\n",
    "\n",
    "class Dog(Animal):\n",
    "    def make_sound(self):\n",
    "        print(\"Dog barks\")\n",
    "\n",
    "# Creating instances of Animal and Dog\n",
    "animal = Animal()\n",
    "dog = Dog()\n",
    "\n",
    "# Calling the make_sound method of both instances\n",
    "animal.make_sound()  # Output: Animal makes a sound\n",
    "dog.make_sound()     # Output: Dog barks\n",
    "```\n",
    "\n",
    "In this example:\n",
    "- We define a superclass `Animal` with a method `make_sound` that prints a generic sound.\n",
    "- We define a subclass `Dog` that inherits from `Animal` and overrides the `make_sound` method with its own implementation to print \"Dog barks\".\n",
    "- When we create instances of both `Animal` and `Dog` classes and call the `make_sound` method on each instance, we see that the method call on the `Dog` object executes the overridden method in the `Dog` class, while the method call on the `Animal` object executes the method defined in the `Animal` class.\n",
    "\n",
    "Method overriding allows subclasses to provide specialized behavior while still benefiting from the common interface provided by their superclass. It promotes flexibility and extensibility in object-oriented design by allowing classes to adapt their behavior to specific requirements."
   ]
  },
  {
   "cell_type": "markdown",
   "id": "c9816155",
   "metadata": {},
   "source": [
    "5. How can you access the methods and attributes of a parent class from a child class in Python? Give an\n",
    "example."
   ]
  },
  {
   "cell_type": "markdown",
   "id": "2edd1f51",
   "metadata": {},
   "source": [
    "In Python, you can access the methods and attributes of a parent class from a child class using the `super()` function or by directly referencing the parent class name. \n",
    "\n",
    "Here's how you can access the methods and attributes of a parent class from a child class using both approaches:\n",
    "\n",
    "```python\n",
    "class Parent:\n",
    "    def __init__(self, name):\n",
    "        self.name = name\n",
    "\n",
    "    def display_name(self):\n",
    "        print(\"Name:\", self.name)\n",
    "\n",
    "class Child(Parent):\n",
    "    def __init__(self, name, age):\n",
    "        super().__init__(name)  # Using super() to call parent class constructor\n",
    "        self.age = age\n",
    "\n",
    "    def display_details(self):\n",
    "        super().display_name()  # Using super() to call parent class method\n",
    "        print(\"Age:\", self.age)\n",
    "\n",
    "    def display_name(self):\n",
    "        super().display_name()  # Using super() to call parent class method\n",
    "        print(\"Name Length:\", len(self.name))  # Accessing parent class attribute\n",
    "\n",
    "    def display_name_directly(self):\n",
    "        print(\"Directly accessing parent class method and attribute:\")\n",
    "        Parent.display_name(self)  # Directly referencing parent class method\n",
    "        print(\"Name Length:\", len(self.name))  # Directly referencing parent class attribute\n",
    "\n",
    "# Creating an instance of Child\n",
    "child = Child(\"Alice\", 30)\n",
    "\n",
    "# Calling methods to display details\n",
    "child.display_details()\n",
    "print()\n",
    "\n",
    "# Calling methods to display name using both approaches\n",
    "child.display_name()\n",
    "print()\n",
    "child.display_name_directly()\n",
    "```\n",
    "Both approaches achieve the same result, but using `super()` provides a more flexible and maintainable way to access parent class methods and attributes, especially in the case of multiple inheritance."
   ]
  },
  {
   "cell_type": "markdown",
   "id": "48c1798c",
   "metadata": {},
   "source": [
    "6. Discuss the use of the `super()` function in Python inheritance. When and why is it used? Provide an\n",
    "example."
   ]
  },
  {
   "cell_type": "markdown",
   "id": "9727236e",
   "metadata": {},
   "source": [
    "In Python inheritance, the `super()` function is used to call methods and constructors from the parent class (superclass) within the child class (subclass). It provides a way to access and invoke methods or constructors of the superclass, allowing for code reuse and ensuring that the superclass's behavior is properly executed. `super()` is particularly useful in cases of multiple inheritance where it helps maintain the method resolution order (MRO) and ensures that all superclass methods are called correctly.\n",
    "\n",
    "Here are some key points about the use of the `super()` function in Python inheritance:\n",
    "\n",
    "1. **Calling Superclass Methods**: `super()` allows you to call methods defined in the superclass from within the subclass. This is useful when you want to extend the behavior of a method defined in the superclass while still executing its functionality.\n",
    "\n",
    "2. **Calling Superclass Constructors**: `super()` can be used to call the constructor of the superclass from within the constructor of the subclass. This ensures that the initialization logic defined in the superclass's constructor is properly executed before any additional initialization logic in the subclass's constructor.\n",
    "\n",
    "3. **Maintaining Method Resolution Order (MRO)**: In cases of multiple inheritance, where a subclass inherits from multiple superclasses, `super()` helps maintain the correct method resolution order. It ensures that methods are called in the order specified by the MRO, which is determined by the C3 linearization algorithm.\n",
    "\n",
    "4. **Avoiding Hardcoding Class Names**: Using `super()` instead of explicitly referencing the superclass name allows for more flexible and maintainable code. If the superclass name changes or if the subclass is inherited by another subclass, the code using `super()` remains unchanged.\n",
    "\n",
    "Here's an example demonstrating the use of the `super()` function in Python inheritance:\n",
    "\n",
    "```python\n",
    "class Animal:\n",
    "    def __init__(self, species):\n",
    "        self.species = species\n",
    "\n",
    "    def display_species(self):\n",
    "        print(\"Species:\", self.species)\n",
    "\n",
    "class Dog(Animal):\n",
    "    def __init__(self, species, breed):\n",
    "        super().__init__(species)  # Call superclass constructor\n",
    "        self.breed = breed\n",
    "\n",
    "    def display_breed(self):\n",
    "        print(\"Breed:\", self.breed)\n",
    "\n",
    "    def display_details(self):\n",
    "        super().display_species()  # Call superclass method\n",
    "        self.display_breed()      # Call subclass method\n",
    "\n",
    "# Creating an instance of Dog\n",
    "dog = Dog(\"Canine\", \"Labrador Retriever\")\n",
    "\n",
    "# Displaying dog details\n",
    "dog.display_details()\n",
    "```"
   ]
  },
  {
   "cell_type": "markdown",
   "id": "6ea94a48",
   "metadata": {},
   "source": [
    "7. Create a Python class called `Animal` with a method `speak()`. Then, create child classes `Dog` and `Cat` that inherit from `Animal` and override the `speak()` method. Provide an example of using these classes."
   ]
  },
  {
   "cell_type": "code",
   "execution_count": 46,
   "id": "cdfab96e",
   "metadata": {},
   "outputs": [
    {
     "data": {
      "text/plain": [
       "'I am a cat'"
      ]
     },
     "execution_count": 46,
     "metadata": {},
     "output_type": "execute_result"
    }
   ],
   "source": [
    "class Animal:\n",
    "    def speak(self):\n",
    "        return 'I am an Animal'\n",
    "class Dog(Animal):\n",
    "    def speak(self):\n",
    "        return 'I am a dog'\n",
    "class Cat(Animal):\n",
    "    def speak(self):\n",
    "        return 'I am a cat'\n",
    "\n",
    "    \n",
    "obj = Cat()\n",
    "obj.speak()\n"
   ]
  },
  {
   "cell_type": "code",
   "execution_count": 47,
   "id": "dcfb34d7",
   "metadata": {},
   "outputs": [
    {
     "data": {
      "text/plain": [
       "'I am a dog'"
      ]
     },
     "execution_count": 47,
     "metadata": {},
     "output_type": "execute_result"
    }
   ],
   "source": [
    "obj_1 = Dog()\n",
    "obj_1.speak()"
   ]
  },
  {
   "cell_type": "code",
   "execution_count": 48,
   "id": "fad4e805",
   "metadata": {},
   "outputs": [
    {
     "data": {
      "text/plain": [
       "True"
      ]
     },
     "execution_count": 48,
     "metadata": {},
     "output_type": "execute_result"
    }
   ],
   "source": [
    "isinstance(obj_1,Dog)"
   ]
  },
  {
   "cell_type": "code",
   "execution_count": 50,
   "id": "1aba2548",
   "metadata": {},
   "outputs": [
    {
     "data": {
      "text/plain": [
       "True"
      ]
     },
     "execution_count": 50,
     "metadata": {},
     "output_type": "execute_result"
    }
   ],
   "source": [
    "issubclass(Cat,Animal)"
   ]
  },
  {
   "cell_type": "code",
   "execution_count": 51,
   "id": "c1dcdbac",
   "metadata": {},
   "outputs": [
    {
     "data": {
      "text/plain": [
       "False"
      ]
     },
     "execution_count": 51,
     "metadata": {},
     "output_type": "execute_result"
    }
   ],
   "source": [
    "issubclass(Cat,Dog)"
   ]
  },
  {
   "cell_type": "markdown",
   "id": "f0c12117",
   "metadata": {},
   "source": [
    "8. Explain the role of the `isinstance()` function in Python and how it relates to inheritance."
   ]
  },
  {
   "cell_type": "markdown",
   "id": "f138b407",
   "metadata": {},
   "source": [
    "In Python, the `isinstance()` function is used to determine whether an object is an instance of a particular class or subclass. It takes two arguments: the object to be checked and the class (or a tuple of classes) to check against. The function returns `True` if the object is an instance of the specified class or subclass, and `False` otherwise.\n",
    "\n",
    "The `isinstance()` function plays a significant role in inheritance in Python in the following ways:\n",
    "\n",
    "1. **Checking Instance Type**: `isinstance()` allows you to check the type of an object dynamically at runtime. This is particularly useful when you have polymorphic behavior and want to handle different types of objects in a generic way.\n",
    "\n",
    "2. **Subclass Checking**: Since `isinstance()` checks for both the specified class and its subclasses, it can be used to determine whether an object belongs to a subclass of a given class. This is important for implementing class hierarchies and handling objects polymorphically.\n",
    "\n",
    "3. **Dynamic Dispatch**: In conjunction with polymorphism and method overriding, `isinstance()` allows you to dynamically dispatch methods based on the type of object. This enables you to write more flexible and modular code that adapts to different types of objects.\n",
    "\n",
    "4. **Type Checking in Conditional Statements**: `isinstance()` is often used in conditional statements to perform type checking and take appropriate actions based on the type of object. This helps ensure that the program behaves correctly for different types of inputs.\n",
    "\n",
    "Here's an example demonstrating the use of `isinstance()` in Python inheritance:\n",
    "\n",
    "```python\n",
    "class Animal:\n",
    "    pass\n",
    "\n",
    "class Dog(Animal):\n",
    "    pass\n",
    "\n",
    "class Cat(Animal):\n",
    "    pass\n",
    "\n",
    "# Creating instances of Dog and Cat\n",
    "dog = Dog()\n",
    "cat = Cat()\n",
    "\n",
    "# Checking if objects are instances of Animal or its subclasses\n",
    "print(isinstance(dog, Animal))  # Output: True\n",
    "print(isinstance(cat, Animal))  # Output: True\n",
    "\n",
    "# Checking if objects are instances of Dog or Cat\n",
    "print(isinstance(dog, Dog))  # Output: True\n",
    "print(isinstance(cat, Cat))  # Output: True\n",
    "\n",
    "# Checking if objects are instances of each other's class\n",
    "print(isinstance(dog, Cat))  # Output: False\n",
    "print(isinstance(cat, Dog))  # Output: False\n",
    "```\n"
   ]
  },
  {
   "cell_type": "markdown",
   "id": "81783f65",
   "metadata": {},
   "source": [
    "9. What is the purpose of the `issubclass()` function in Python? Provide an example."
   ]
  },
  {
   "cell_type": "markdown",
   "id": "2f658ead",
   "metadata": {},
   "source": [
    "In Python, the `issubclass()` function is used to check whether a given class is a subclass of another class. It takes two arguments: the class to be checked and the class it is being checked against. The function returns `True` if the first class is a subclass of the second class, and `False` otherwise.\n",
    "\n",
    "The `issubclass()` function is particularly useful when you want to programmatically verify class hierarchies and relationships between classes. It allows you to determine if a class inherits from another class without needing to create instances of the classes.\n",
    "\n",
    "Here's an example demonstrating the use of the `issubclass()` function:\n",
    "\n",
    "```python\n",
    "class Animal:\n",
    "    pass\n",
    "\n",
    "class Dog(Animal):\n",
    "    pass\n",
    "\n",
    "class Cat(Animal):\n",
    "    pass\n",
    "\n",
    "# Checking if Dog is a subclass of Animal\n",
    "print(issubclass(Dog, Animal))  # Output: True\n",
    "\n",
    "# Checking if Cat is a subclass of Animal\n",
    "print(issubclass(Cat, Animal))  # Output: True\n",
    "\n",
    "# Checking if Animal is a subclass of Dog (which it isn't)\n",
    "print(issubclass(Animal, Dog))  # Output: False\n",
    "\n",
    "# Checking if Dog is a subclass of Cat (which it isn't)\n",
    "print(issubclass(Dog, Cat))  # Output: False\n",
    "```\n"
   ]
  },
  {
   "cell_type": "markdown",
   "id": "b26f8cbf",
   "metadata": {},
   "source": [
    "10. Discuss the concept of constructor inheritance in Python. How are constructors inherited in child classes?"
   ]
  },
  {
   "cell_type": "markdown",
   "id": "4d24cfbe",
   "metadata": {},
   "source": [
    "In Python, constructor inheritance refers to the automatic inheritance of constructors from parent classes to their child classes. When a child class is created, it inherits the constructor (the `__init__()` method) from its parent class(es) if the child class does not define its own constructor. If the child class defines its own constructor, it can still call the constructor of the parent class explicitly using `super().__init__()` to initialize attributes inherited from the parent class(es).\n",
    "\n",
    "Here's how constructors are inherited in child classes in Python:\n",
    "\n",
    "1. **Automatic Inheritance**: If a child class does not define its own constructor, Python automatically inherits the constructor from its parent class(es). This means that the child class inherits the initialization behavior defined in the constructor of its parent class(es).\n",
    "\n",
    "2. **Implicit Call to Parent Constructor**: When the child class is instantiated, the constructor of the parent class(es) is implicitly called to initialize attributes inherited from the parent class(es). This ensures that the object is properly initialized according to the behavior defined in the parent class(es).\n",
    "\n",
    "3. **Explicit Call to Parent Constructor**: If the child class defines its own constructor but still wants to initialize attributes inherited from the parent class(es), it can call the constructor of the parent class explicitly using `super().__init__()`. This allows the child class to customize its initialization behavior while still benefiting from the initialization logic defined in the parent class(es).\n",
    "\n",
    "Here's an example demonstrating constructor inheritance in Python:\n",
    "\n",
    "```python\n",
    "class Parent:\n",
    "    def __init__(self, name):\n",
    "        self.name = name\n",
    "\n",
    "class Child(Parent):\n",
    "    def __init__(self, name, age):\n",
    "        super().__init__(name)  # Call parent class constructor\n",
    "        self.age = age\n",
    "\n",
    "# Creating an instance of Child\n",
    "child = Child(\"Alice\", 30)\n",
    "\n",
    "# Accessing attributes inherited from Parent class\n",
    "print(\"Name:\", child.name)  # Output: Name: Alice\n",
    "print(\"Age:\", child.age)    # Output: Age: 30\n",
    "```"
   ]
  },
  {
   "cell_type": "markdown",
   "id": "aee1fd16",
   "metadata": {},
   "source": [
    "11. Create a Python class called `Shape` with a method `area()` that calculates the area of a shape. Then, create child classes `Circle` and `Rectangle` that inherit from `Shape` and implement the `area()` method\n",
    "accordingly. Provide an example."
   ]
  },
  {
   "cell_type": "code",
   "execution_count": 52,
   "id": "fe5b2000",
   "metadata": {},
   "outputs": [
    {
     "name": "stdout",
     "output_type": "stream",
     "text": [
      "Area of the circle: 78.53981633974483\n",
      "Area of the rectangle: 24\n"
     ]
    }
   ],
   "source": [
    "import math\n",
    "\n",
    "class Shape:\n",
    "    def area(self):\n",
    "        pass  # Placeholder method to be overridden by subclasses\n",
    "\n",
    "class Circle(Shape):\n",
    "    def __init__(self, radius):\n",
    "        self.radius = radius\n",
    "\n",
    "    def area(self):\n",
    "        return math.pi * self.radius ** 2\n",
    "\n",
    "class Rectangle(Shape):\n",
    "    def __init__(self, width, height):\n",
    "        self.width = width\n",
    "        self.height = height\n",
    "\n",
    "    def area(self):\n",
    "        return self.width * self.height\n",
    "\n",
    "# Creating instances of Circle and Rectangle\n",
    "circle = Circle(5)\n",
    "rectangle = Rectangle(4, 6)\n",
    "\n",
    "# Calculating and displaying the area of each shape\n",
    "print(\"Area of the circle:\", circle.area())      # Output: Area of the circle: 78.53981633974483\n",
    "print(\"Area of the rectangle:\", rectangle.area())  # Output: Area of the rectangle: 24\n"
   ]
  },
  {
   "cell_type": "markdown",
   "id": "37032513",
   "metadata": {},
   "source": [
    "12. Explain the use of abstract base classes (ABCs) in Python and how they relate to inheritance. Provide an\n",
    "    example using the `abc` module."
   ]
  },
  {
   "cell_type": "markdown",
   "id": "1e51f2cd",
   "metadata": {},
   "source": [
    "Abstract Base Classes (ABCs) in Python provide a way to define a common interface for a group of subclasses. They allow you to define methods that must be implemented by the subclasses, ensuring a certain level of consistency and structure across related classes. ABCs are not meant to be instantiated directly but rather serve as a blueprint for defining interfaces and behavior that subclasses should adhere to.\n",
    "\n",
    "The `abc` module in Python provides the necessary tools for defining and working with abstract base classes. You can use the `ABC` class and the `abstractmethod` decorator from the `abc` module to create abstract methods and classes.\n",
    "\n",
    "Here's how ABCs relate to inheritance in Python:\n",
    "\n",
    "1. **Defining Abstract Methods**: Abstract methods declared in an ABC must be implemented by any concrete subclass that inherits from the ABC. This enforces a contract that all subclasses must adhere to, ensuring that certain methods are always available and consistent across subclasses.\n",
    "\n",
    "2. **Enforcing Interface**: ABCs define a common interface for a group of related classes. Subclasses are required to implement the methods defined in the ABC, ensuring that they provide the necessary functionality specified by the interface.\n",
    "\n",
    "3. **Polymorphism**: ABCs enable polymorphism, allowing different subclasses to be treated uniformly based on their common interface. This promotes flexibility and modularity in code design, as methods can operate on objects of different subclasses without needing to know their specific types.\n",
    "\n",
    "Here's an example demonstrating the use of the `abc` module to define an abstract base class and concrete subclasses:\n",
    "\n",
    "```python\n",
    "from abc import ABC, abstractmethod\n",
    "\n",
    "class Shape(ABC):\n",
    "    @abstractmethod\n",
    "    def area(self):\n",
    "        pass\n",
    "\n",
    "class Circle(Shape):\n",
    "    def __init__(self, radius):\n",
    "        self.radius = radius\n",
    "\n",
    "    def area(self):\n",
    "        return 3.14 * self.radius ** 2\n",
    "\n",
    "class Rectangle(Shape):\n",
    "    def __init__(self, width, height):\n",
    "        self.width = width\n",
    "        self.height = height\n",
    "\n",
    "    def area(self):\n",
    "        return self.width * self.height\n",
    "\n",
    "# Creating instances of Circle and Rectangle\n",
    "circle = Circle(5)\n",
    "rectangle = Rectangle(4, 6)\n",
    "\n",
    "# Calculating and displaying the area of each shape\n",
    "print(\"Area of the circle:\", circle.area())      # Output: Area of the circle: 78.5\n",
    "print(\"Area of the rectangle:\", rectangle.area())  # Output: Area of the rectangle: 24\n",
    "```\n",
    "\n",
    "In this example:\n",
    "- We define an abstract base class `Shape` using the `ABC` class from the `abc` module and the `abstractmethod` decorator. The `Shape` class declares an abstract method `area()` that must be implemented by concrete subclasses.\n",
    "- We define concrete subclasses `Circle` and `Rectangle` that inherit from `Shape`. Each subclass provides its own implementation of the `area()` method to calculate the area of a circle and a rectangle, respectively.\n",
    "- The `Circle` and `Rectangle` classes adhere to the common interface defined by the `Shape` class, ensuring that they both provide the required functionality of calculating the area of a shape."
   ]
  },
  {
   "cell_type": "markdown",
   "id": "4925b876",
   "metadata": {},
   "source": [
    "13. How can you prevent a child class from modifying certain attributes or methods inherited from a parent\n",
    "class in Python?"
   ]
  },
  {
   "cell_type": "markdown",
   "id": "2fc4c16d",
   "metadata": {},
   "source": [
    "In Python, you can prevent a child class from modifying certain attributes or methods inherited from a parent class by using encapsulation and access modifiers. Encapsulation involves restricting access to certain attributes or methods of a class, typically by marking them as private or protected. Access modifiers such as `private` and `protected` control the visibility of attributes and methods within a class hierarchy.\n",
    "\n",
    "Here are some approaches to prevent a child class from modifying certain attributes or methods inherited from a parent class:\n",
    "\n",
    "1. **Private Attributes and Methods**: Declare the attributes or methods as private in the parent class by prefixing their names with a double underscore (`__`). Private attributes and methods are not directly accessible from outside the class, including from child classes.\n",
    "\n",
    "2. **Protected Attributes and Methods**: Declare the attributes or methods as protected in the parent class by prefixing their names with a single underscore (`_`). Protected attributes and methods can be accessed from within the class and its subclasses, but they are considered non-public, so they should be used with caution.\n",
    "\n",
    "3. **Property Decorators**: Use property decorators to create getter and setter methods for attributes. By controlling access to attributes through getter and setter methods, you can impose restrictions on how attributes are modified.\n",
    "\n",
    "4. **Overriding Methods**: If a method in the parent class needs to be protected from modification in the child class, consider making it `final` by raising an exception in the parent class's method. This way, any attempt to override the method in the child class will result in an error.\n",
    "\n",
    "Here's an example demonstrating how to prevent a child class from modifying certain attributes or methods inherited from a parent class using private attributes and methods:\n",
    "\n",
    "```python\n",
    "class Parent:\n",
    "    def __init__(self):\n",
    "        self.__private_attr = 10   # Private attribute\n",
    "        self._protected_attr = 20  # Protected attribute\n",
    "\n",
    "    def __private_method(self):\n",
    "        print(\"This is a private method\")\n",
    "\n",
    "    def _protected_method(self):\n",
    "        print(\"This is a protected method\")\n",
    "\n",
    "class Child(Parent):\n",
    "    def __init__(self):\n",
    "        super().__init__()\n",
    "\n",
    "    def modify_attributes(self):\n",
    "        # Attempt to modify attributes inherited from parent class\n",
    "        self.__private_attr = 100  # This won't modify the parent's private attribute\n",
    "        self._protected_attr = 200  # This will modify the parent's protected attribute\n",
    "\n",
    "    def access_methods(self):\n",
    "        # Attempt to access methods inherited from parent class\n",
    "        self.__private_method()  # This will raise an AttributeError\n",
    "        self._protected_method()  # This will access the parent's protected method\n",
    "\n",
    "# Creating instances of Parent and Child classes\n",
    "parent = Parent()\n",
    "child = Child()\n",
    "\n",
    "# Attempting to modify attributes and access methods from Child class\n",
    "child.modify_attributes()\n",
    "child.access_methods()\n",
    "```\n",
    "\n",
    "In this example:\n",
    "- The `Parent` class defines a private attribute `__private_attr` and a private method `__private_method()`, as well as a protected attribute `_protected_attr` and a protected method `_protected_method()`.\n",
    "- The `Child` class inherits from `Parent` but attempts to modify the parent's private attribute and access the parent's private method in the `modify_attributes()` and `access_methods()` methods, respectively.\n",
    "- Accessing or modifying the parent's private attribute or private method from the child class results in an `AttributeError` because private attributes and methods are not directly accessible from outside the class."
   ]
  },
  {
   "cell_type": "markdown",
   "id": "c87be25d",
   "metadata": {},
   "source": [
    "14. Create a Python class called `Employee` with attributes `name` and `salary`. Then, create a child class\n",
    "`Manager` that inherits from `Employee` and adds an attribute `department`. Provide an example."
   ]
  },
  {
   "cell_type": "code",
   "execution_count": 53,
   "id": "b2c8d6dd",
   "metadata": {},
   "outputs": [
    {
     "name": "stdout",
     "output_type": "stream",
     "text": [
      "Manager Name: John Doe\n",
      "Manager Salary: 50000\n",
      "Manager Department: Sales\n"
     ]
    }
   ],
   "source": [
    "class Employee:\n",
    "    def __init__(self, name, salary):\n",
    "        self.name = name\n",
    "        self.salary = salary\n",
    "\n",
    "class Manager(Employee):\n",
    "    def __init__(self, name, salary, department):\n",
    "        super().__init__(name, salary)\n",
    "        self.department = department\n",
    "\n",
    "# Creating an instance of Manager\n",
    "manager = Manager(\"John Doe\", 50000, \"Sales\")\n",
    "\n",
    "# Accessing attributes of the Manager object\n",
    "print(\"Manager Name:\", manager.name)\n",
    "print(\"Manager Salary:\", manager.salary)\n",
    "print(\"Manager Department:\", manager.department)"
   ]
  },
  {
   "cell_type": "markdown",
   "id": "69595f75",
   "metadata": {},
   "source": [
    "15. Discuss the concept of method overloading in Python inheritance. How does it differ from method\n",
    "overriding?"
   ]
  },
  {
   "cell_type": "markdown",
   "id": "f815db40",
   "metadata": {},
   "source": [
    "In Python, method overloading refers to the ability to define multiple methods with the same name but different parameters within the same class. This allows a single method name to perform different actions based on the number or types of parameters it receives. Method overloading is achieved using default parameter values or variable-length argument lists (*args and **kwargs).\n",
    "\n",
    "Here's a brief explanation of method overloading in Python:\n",
    "\n",
    "1. **Overloading with Default Parameter Values**: You can define multiple methods with the same name but different parameter lists, where some parameters have default values. Python will choose the appropriate method based on the number of arguments provided during the function call.\n",
    "\n",
    "2. **Overloading with Variable-Length Argument Lists**: You can define a single method with a variable-length argument list (*args or **kwargs) to accept any number of arguments. The method can then perform different actions based on the number or types of arguments received.\n",
    "\n",
    "Method overriding, on the other hand, is a concept in inheritance where a subclass provides a specific implementation of a method that is already defined in its superclass. When a method is overridden in a subclass, the subclass method is called instead of the superclass method when objects of the subclass are involved. Method overriding is achieved by redefining a method in the subclass with the same name and parameters as the method in the superclass.\n",
    "\n",
    "Here's a summary of the differences between method overloading and method overriding:\n",
    "\n",
    "1. **Method Overloading**:\n",
    "   - Refers to defining multiple methods with the same name but different parameters within the same class.\n",
    "   - Allows a single method name to perform different actions based on the number or types of parameters it receives.\n",
    "   - Can be achieved using default parameter values or variable-length argument lists.\n",
    "   - Python does not support method overloading by default, but it can be simulated using techniques like default parameter values or variable-length argument lists.\n",
    "\n",
    "2. **Method Overriding**:\n",
    "   - Refers to providing a specific implementation of a method in a subclass that is already defined in its superclass.\n",
    "   - Involves redefining a method in the subclass with the same name and parameters as the method in the superclass.\n",
    "   - When objects of the subclass are involved, the subclass method is called instead of the superclass method.\n",
    "   - Allows subclasses to customize or extend the behavior of inherited methods.\n",
    "\n",
    "In essence, method overloading allows a single method name to perform different actions based on parameters, while method overriding allows subclasses to provide their own implementation of methods inherited from a superclass."
   ]
  },
  {
   "cell_type": "markdown",
   "id": "4cbc9657",
   "metadata": {},
   "source": [
    "16. Explain the purpose of the `__init__()` method in Python inheritance and how it is utilized in child classes."
   ]
  },
  {
   "cell_type": "markdown",
   "id": "687c96c2",
   "metadata": {},
   "source": [
    "In Python inheritance, the `__init__()` method serves as the constructor for classes. It is called automatically when an object of the class is created. The primary purpose of the `__init__()` method is to initialize the object's attributes or perform any other initialization tasks necessary for the object to function correctly. \n",
    "\n",
    "When a child class inherits from a parent class, it can define its own `__init__()` method to customize the initialization process. In doing so, the child class can take advantage of the initialization logic provided by the parent class by calling the parent class's `__init__()` method within its own constructor, typically using `super().__init__()`. This ensures that the attributes defined in the parent class are properly initialized before any additional initialization logic specific to the child class is executed.\n",
    "\n",
    "Here's a summary of the purpose of the `__init__()` method in Python inheritance and how it is utilized in child classes:\n",
    "\n",
    "1. **Initialization**: The `__init__()` method initializes the object's attributes or performs any other necessary setup tasks when an object is created.\n",
    "\n",
    "2. **Inheritance**: When a child class inherits from a parent class, it can define its own `__init__()` method to customize the initialization process.\n",
    "\n",
    "3. **Superclass Initialization**: To utilize the initialization logic provided by the parent class, the child class typically calls the parent class's `__init__()` method within its own constructor using `super().__init__()`. This ensures that the parent class's attributes are initialized before any additional initialization logic specific to the child class is executed.\n",
    "\n",
    "Here's an example demonstrating how the `__init__()` method is utilized in child classes:\n",
    "\n",
    "```python\n",
    "class Parent:\n",
    "    def __init__(self, name):\n",
    "        self.name = name\n",
    "\n",
    "class Child(Parent):\n",
    "    def __init__(self, name, age):\n",
    "        super().__init__(name)  # Call parent class constructor\n",
    "        self.age = age\n",
    "\n",
    "# Creating an instance of Child\n",
    "child = Child(\"Alice\", 30)\n",
    "\n",
    "# Accessing attributes of the Child object\n",
    "print(\"Name:\", child.name)  # Output: Name: Alice\n",
    "print(\"Age:\", child.age)    # Output: Age: 30\n",
    "```"
   ]
  },
  {
   "cell_type": "markdown",
   "id": "8319c4f5",
   "metadata": {},
   "source": [
    "17. Create a Python class called `Bird` with a method `fly()`. Then, create child classes `Eagle` and `Sparrow` that inherit from `Bird` and implement the `fly()` method differently. Provide an example of using these\n",
    "classes."
   ]
  },
  {
   "cell_type": "code",
   "execution_count": 54,
   "id": "dca6f5f0",
   "metadata": {},
   "outputs": [
    {
     "name": "stdout",
     "output_type": "stream",
     "text": [
      "Eagle: Soaring high in the sky\n",
      "Sparrow: Flitting from branch to branch\n"
     ]
    }
   ],
   "source": [
    "class Bird:\n",
    "    def fly(self):\n",
    "        pass  # Placeholder method to be overridden by subclasses\n",
    "\n",
    "class Eagle(Bird):\n",
    "    def fly(self):\n",
    "        return \"Soaring high in the sky\"\n",
    "\n",
    "class Sparrow(Bird):\n",
    "    def fly(self):\n",
    "        return \"Flitting from branch to branch\"\n",
    "\n",
    "# Creating instances of Eagle and Sparrow\n",
    "eagle = Eagle()\n",
    "sparrow = Sparrow()\n",
    "\n",
    "# Calling the fly() method of each bird\n",
    "print(\"Eagle:\", eagle.fly())    \n",
    "print(\"Sparrow:\", sparrow.fly())  "
   ]
  },
  {
   "cell_type": "code",
   "execution_count": null,
   "id": "fa44b414",
   "metadata": {},
   "outputs": [],
   "source": [
    "18. What is the \"diamond problem\" in multiple inheritance, and how does Python address it?"
   ]
  },
  {
   "cell_type": "markdown",
   "id": "20e741d6",
   "metadata": {},
   "source": [
    "The \"diamond problem\" is a challenge that arises in languages that support multiple inheritance, such as C++ and Python. It occurs when a class inherits from two or more classes that have a common ancestor. If the common ancestor class has overridden methods or attributes, it can lead to ambiguity and conflicts in the derived class.\n",
    "\n",
    "Here's an illustration of the diamond problem:\n",
    "\n",
    "```\n",
    "   A\n",
    "  / \\\n",
    " B   C\n",
    "  \\ /\n",
    "   D\n",
    "```\n",
    "\n",
    "In this diagram, class `D` inherits from both classes `B` and `C`, which in turn both inherit from class `A`. If classes `B` and `C` override the same method or have conflicting attributes inherited from `A`, it can lead to ambiguity in class `D`.\n",
    "\n",
    "Python addresses the diamond problem by following the C3 linearization algorithm, also known as the C3 superclass linearization. This algorithm ensures that the method resolution order (MRO) is consistent and unambiguous, even in the presence of multiple inheritance hierarchies.\n",
    "\n",
    "Python's approach to resolving the diamond problem can be summarized as follows:\n",
    "\n",
    "1. **Depth-First Search (DFS)**: Python uses a depth-first search algorithm to traverse the inheritance hierarchy. It starts from the most derived class and follows the chain of base classes depth-first until it reaches the root classes.\n",
    "\n",
    "2. **C3 Linearization**: Python applies the C3 linearization algorithm to merge the inheritance hierarchies of all base classes into a single linear ordering. This linearization preserves the order of inheritance and ensures that the method resolution order is consistent and unambiguous.\n",
    "\n",
    "3. **Method Resolution Order (MRO)**: Python uses the linearization result to determine the method resolution order (MRO) for the derived class. The MRO defines the order in which methods are searched for and called when they are invoked on an object of the derived class.\n",
    "\n",
    "By following the C3 linearization algorithm, Python ensures that the method resolution order is predictable and that conflicts or ambiguities in multiple inheritance hierarchies are resolved systematically. This helps to mitigate the issues associated with the diamond problem and provides a robust mechanism for handling multiple inheritance in Python."
   ]
  },
  {
   "cell_type": "markdown",
   "id": "a4b26b26",
   "metadata": {},
   "source": [
    "19. Discuss the concept of \"is-a\" and \"has-a\" relationships in inheritance, and provide examples of each."
   ]
  },
  {
   "cell_type": "markdown",
   "id": "a5417fc0",
   "metadata": {},
   "source": [
    "In object-oriented programming, particularly in the context of inheritance, two common types of relationships between classes are \"is-a\" and \"has-a\" relationships.\n",
    "\n",
    "1. **\"Is-a\" Relationship**:\n",
    "   - In an \"is-a\" relationship, one class is considered to be a specialization or subtype of another class.\n",
    "   - This relationship implies that an object of the subclass type can be used wherever an object of the superclass type is expected.\n",
    "   - It often indicates inheritance, where the subclass inherits properties and behavior from the superclass.\n",
    "   - \"Is-a\" relationships typically involve subclassing or specialization, where the subclass shares characteristics with the superclass but may have additional attributes or behaviors.\n",
    "\n",
    "   Example: Animal Hierarchy\n",
    "   ```python\n",
    "   class Animal:\n",
    "       def speak(self):\n",
    "           pass\n",
    "\n",
    "   class Dog(Animal):  # Dog \"is-a\" Animal\n",
    "       def speak(self):\n",
    "           return \"Woof!\"\n",
    "\n",
    "   class Cat(Animal):  # Cat \"is-a\" Animal\n",
    "       def speak(self):\n",
    "           return \"Meow!\"\n",
    "\n",
    "   # Usage\n",
    "   dog = Dog()\n",
    "   print(dog.speak())  # Output: Woof!\n",
    "\n",
    "   cat = Cat()\n",
    "   print(cat.speak())  # Output: Meow!\n",
    "   ```\n",
    "\n",
    "2. **\"Has-a\" Relationship**:\n",
    "   - In a \"has-a\" relationship, one class contains an instance of another class as a member or attribute.\n",
    "   - This relationship implies that an object of one class has another object as part of its state or behavior.\n",
    "   - It often indicates composition or aggregation, where one class is composed of or aggregates one or more objects of another class.\n",
    "\n",
    "   Example: Car and Engine\n",
    "   ```python\n",
    "   class Engine:\n",
    "       def start(self):\n",
    "           return \"Engine started\"\n",
    "\n",
    "   class Car:\n",
    "       def __init__(self):\n",
    "           self.engine = Engine()  # Car \"has-a\" Engine\n",
    "\n",
    "       def start(self):\n",
    "           return self.engine.start()  # Delegating start operation to Engine\n",
    "\n",
    "   # Usage\n",
    "   car = Car()\n",
    "   print(car.start())  # Output: Engine started\n",
    "   ```\n",
    "\n",
    "In the \"is-a\" relationship example, the `Dog` and `Cat` classes are subclasses of the `Animal` class, indicating that they share characteristics of being animals. In the \"has-a\" relationship example, the `Car` class contains an instance of the `Engine` class as an attribute, indicating that a car has an engine as part of its composition.\n",
    "\n",
    "Both types of relationships play crucial roles in object-oriented design and modeling, allowing for the creation of flexible and modular class hierarchies and structures."
   ]
  },
  {
   "cell_type": "markdown",
   "id": "e34ac120",
   "metadata": {},
   "source": [
    "20. Create a Python class hierarchy for a university system. Start with a base class `Person` and create child\n",
    "classes `Student` and `Professor`, each with their own attributes and methods. Provide an example of using\n",
    "these classes in a university context."
   ]
  },
  {
   "cell_type": "code",
   "execution_count": 56,
   "id": "c787b934",
   "metadata": {},
   "outputs": [
    {
     "name": "stdout",
     "output_type": "stream",
     "text": [
      "Student Information:\n",
      "Student ID: S12345, Name: John Doe, Age: 20\n",
      "\n",
      "Professor Information:\n",
      "Employee ID: P98765, Name: Dr. Smith, Age: 45\n"
     ]
    }
   ],
   "source": [
    "class Person:\n",
    "    def __init__(self, name, age):\n",
    "        self.name = name\n",
    "        self.age = age\n",
    "\n",
    "    def __str__(self):\n",
    "        return f\"Name: {self.name}, Age: {self.age}\"\n",
    "\n",
    "\n",
    "class Student(Person):\n",
    "    def __init__(self, name, age, student_id):\n",
    "        super().__init__(name, age)\n",
    "        self.student_id = student_id\n",
    "\n",
    "    def __str__(self):\n",
    "        return f\"Student ID: {self.student_id}, \" + super().__str__()\n",
    "\n",
    "\n",
    "class Professor(Person):\n",
    "    def __init__(self, name, age, employee_id):\n",
    "        super().__init__(name, age)\n",
    "        self.employee_id = employee_id\n",
    "\n",
    "    def __str__(self):\n",
    "        return f\"Employee ID: {self.employee_id}, \" + super().__str__()\n",
    "\n",
    "\n",
    "# Example usage\n",
    "student1 = Student(\"John Doe\", 20, \"S12345\")\n",
    "professor1 = Professor(\"Dr. Smith\", 45, \"P98765\")\n",
    "\n",
    "print(\"Student Information:\")\n",
    "print(student1)\n",
    "print()\n",
    "\n",
    "print(\"Professor Information:\")\n",
    "print(professor1)"
   ]
  },
  {
   "cell_type": "code",
   "execution_count": null,
   "id": "fe73211d",
   "metadata": {},
   "outputs": [],
   "source": []
  },
  {
   "cell_type": "markdown",
   "id": "f06ee4d6",
   "metadata": {},
   "source": [
    "## Encapsulation:"
   ]
  },
  {
   "cell_type": "markdown",
   "id": "3281cd45",
   "metadata": {},
   "source": [
    "1. Explain the concept of encapsulation in Python. What is its role in object-oriented programming?"
   ]
  },
  {
   "cell_type": "markdown",
   "id": "307f55b2",
   "metadata": {},
   "source": [
    "Encapsulation is one of the fundamental principles of object-oriented programming (OOP) and refers to the bundling of data (attributes) and methods (functions) that operate on the data into a single unit, known as a class. In Python, classes are used to create objects, and encapsulation allows these objects to hide their internal state and only expose the necessary functionality through well-defined interfaces.\n",
    "\n",
    "There are two main aspects of encapsulation:\n",
    "\n",
    "1. **Data Hiding**: Encapsulation allows the attributes of a class to be hidden from external access. This means that the internal state of an object can only be accessed and modified through the methods provided by the class. By controlling access to the data, encapsulation helps maintain the integrity of the data and prevents unintended modification or misuse.\n",
    "\n",
    "2. **Abstraction**: Encapsulation also enables abstraction, which means that the internal details of how a class works are hidden from the outside world. Instead, the class presents a simplified interface that allows users to interact with it without needing to understand its implementation details. This simplifies the usage of the class and promotes code modularity and reusability.\n",
    "\n",
    "Encapsulation plays a crucial role in object-oriented programming by providing several benefits:\n",
    "\n",
    "- **Modularity**: Encapsulating related data and functionality into a single unit promotes modularity, making it easier to understand and maintain code by breaking it into smaller, more manageable components.\n",
    "\n",
    "- **Information Hiding**: By hiding the internal state of objects, encapsulation prevents direct access to data, reducing the risk of accidental modification and ensuring that the object's behavior remains consistent.\n",
    "\n",
    "- **Security**: Encapsulation helps protect sensitive data by restricting access to it and only allowing manipulation through controlled methods.\n",
    "\n",
    "- **Code Reusability**: Encapsulation facilitates code reusability by encapsulating common functionality into classes that can be easily reused in different parts of a program or in different programs altogether.\n",
    "\n",
    "In Python, encapsulation is implemented using access modifiers such as public, private, and protected attributes. However, Python does not enforce strict access control like some other languages (e.g., Java), and instead relies on naming conventions to indicate the intended visibility of attributes and methods. For example, attributes with names prefixed by a double underscore `__` are considered conventionally private, and those with names prefixed by a double underscore `__` are considered conventionally strongly private (name-mangled). Nonetheless, it's essential to understand that these are conventions, and Python does not enforce them in the same way as languages with stricter access control mechanisms."
   ]
  },
  {
   "cell_type": "markdown",
   "id": "5e1f3205",
   "metadata": {},
   "source": [
    "2. Describe the key principles of encapsulation, including access control and data hiding."
   ]
  },
  {
   "cell_type": "markdown",
   "id": "9e29233a",
   "metadata": {},
   "source": [
    "Encapsulation is a key principle in object-oriented programming (OOP) that involves bundling data (attributes) and methods (functions) that operate on the data into a single unit, known as a class. It promotes modularity, information hiding, and abstraction, making code easier to understand, maintain, and reuse. The key principles of encapsulation include access control and data hiding:\n",
    "\n",
    "1. **Access Control**:\n",
    "   \n",
    "   Access control refers to the mechanisms that regulate the accessibility of attributes and methods from outside the class. In many programming languages, including Python, access control is implemented using access modifiers. These modifiers define the level of visibility of attributes and methods to other parts of the program. Common access modifiers include:\n",
    "   \n",
    "   - **Public**: Attributes and methods marked as public are accessible from outside the class. They can be freely accessed and modified by code outside the class.\n",
    "   \n",
    "   - **Private**: Attributes and methods marked as private are only accessible within the class itself. They cannot be accessed or modified directly from outside the class. In Python, private attributes and methods are conventionally indicated by prefixing their names with a double underscore `__`.\n",
    "   \n",
    "   - **Protected**: Attributes and methods marked as protected are accessible within the class and its subclasses (inheritance hierarchy). They are not accessible from outside the class or its subclasses. In Python, protected attributes and methods are conventionally indicated by prefixing their names with a single underscore `_`, but this is more of a naming convention and doesn't enforce strict access control.\n",
    "   \n",
    "   Access control helps enforce encapsulation by allowing classes to control how their internal state is accessed and modified, thereby preventing unintended manipulation and ensuring data integrity.\n",
    "\n",
    "2. **Data Hiding**:\n",
    "\n",
    "   Data hiding refers to the practice of encapsulating the internal state of an object and exposing only a limited interface for interacting with that state. It involves hiding the implementation details of a class's attributes and methods from outside code, while providing well-defined methods for accessing and modifying the data.\n",
    "\n",
    "   - **Private Attributes**: By marking attributes as private, a class can restrict direct access to its internal state from outside code. Instead, external code must use accessor (getter) and mutator (setter) methods to read and modify the attribute values. This allows the class to enforce validation, perform additional actions (such as logging or synchronization), and maintain control over how the data is accessed and modified.\n",
    "\n",
    "   - **Getter and Setter Methods**: Getter methods are used to retrieve the values of private attributes, while setter methods are used to modify them. By providing these methods, a class can control access to its internal state, validate input values, and ensure consistency.\n",
    "\n",
    "   Data hiding promotes encapsulation by decoupling the internal representation of an object from its external interface, making it easier to maintain and evolve the class without affecting other parts of the code. It also helps prevent unintended side effects by enforcing controlled access to the object's state."
   ]
  },
  {
   "cell_type": "markdown",
   "id": "c1a23994",
   "metadata": {},
   "source": [
    "3. How can you achieve encapsulation in Python classes? Provide an example."
   ]
  },
  {
   "cell_type": "markdown",
   "id": "4aa7e1c2",
   "metadata": {},
   "source": [
    "In Python, encapsulation can be achieved using access modifiers and conventions rather than strict enforcement. Here's how you can achieve encapsulation in Python classes:\n",
    "\n",
    "Using Access Modifiers:\n",
    "\n",
    "Private Attributes: Prefix attribute names with a single underscore _. This convention indicates that the attribute is intended to be private, although it doesn't prevent direct access from outside the class.\n",
    "\n",
    "Protected Attributes: Prefix attribute names with a single underscore _. Although not enforced, this convention indicates that the attribute is intended to be protected, accessible within the class and its subclasses.\n",
    "\n",
    "Public Attributes: Attributes without any prefix are considered public and can be freely accessed from outside the class.\n",
    "\n",
    "Getter and Setter Methods:\n",
    "\n",
    "Define methods to provide controlled access to private attributes. Getter methods retrieve the value of an attribute, and setter methods modify its value."
   ]
  },
  {
   "cell_type": "code",
   "execution_count": 170,
   "id": "1b882b60",
   "metadata": {},
   "outputs": [],
   "source": [
    "class employee:\n",
    "    \n",
    "    def __init__(self): \n",
    "        self._id = 'E101'                #protected \n",
    "        self.name = 'Riya'\n",
    "        self.__salary = 1000000          #private\n",
    "        \n",
    "    def describe(self):\n",
    "        return self.__salary\n",
    "    \n",
    "class manager(employee):\n",
    "    \n",
    "    def age_detail(self,age):\n",
    "        return age\n",
    "    \n",
    "    def describe(self):\n",
    "        return self._salary\n",
    "        \n",
    "    def details(self):\n",
    "        print('The details of employee are : ')\n",
    "        print('Employee Name : ', self.name)\n",
    "        print('Employee ID : ', self._id)\n",
    "        print('Employee age : ', self.age_detail(25))\n",
    "        print('Employee salary : ', self.__salary)\n",
    "        \n",
    "\n",
    "#id is protected so it can be accessed from subclass manager\n",
    "#salary is private so it cannot be accessed from subclass manager and therefore we get error, instead we can only access salary from the parent class employee\n",
    "        \n",
    "\n",
    "        \n",
    "\n",
    "        "
   ]
  },
  {
   "cell_type": "code",
   "execution_count": 171,
   "id": "163eb069",
   "metadata": {},
   "outputs": [],
   "source": [
    "employee_1 = employee()"
   ]
  },
  {
   "cell_type": "code",
   "execution_count": 172,
   "id": "bd380e54",
   "metadata": {},
   "outputs": [
    {
     "data": {
      "text/plain": [
       "1000000"
      ]
     },
     "execution_count": 172,
     "metadata": {},
     "output_type": "execute_result"
    }
   ],
   "source": [
    "employee_1.describe()"
   ]
  },
  {
   "cell_type": "code",
   "execution_count": 173,
   "id": "ea3d0eb9",
   "metadata": {},
   "outputs": [],
   "source": [
    "x = manager()"
   ]
  },
  {
   "cell_type": "code",
   "execution_count": 174,
   "id": "b404d5f7",
   "metadata": {},
   "outputs": [
    {
     "data": {
      "text/plain": [
       "22"
      ]
     },
     "execution_count": 174,
     "metadata": {},
     "output_type": "execute_result"
    }
   ],
   "source": [
    "x.age_detail(22)\n"
   ]
  },
  {
   "cell_type": "code",
   "execution_count": 175,
   "id": "2e0e2360",
   "metadata": {},
   "outputs": [
    {
     "name": "stdout",
     "output_type": "stream",
     "text": [
      "The details of employee are : \n",
      "Employee Name :  Riya\n",
      "Employee ID :  E101\n",
      "Employee age :  25\n"
     ]
    },
    {
     "ename": "AttributeError",
     "evalue": "'manager' object has no attribute '_manager__salary'",
     "output_type": "error",
     "traceback": [
      "\u001b[1;31m---------------------------------------------------------------------------\u001b[0m",
      "\u001b[1;31mAttributeError\u001b[0m                            Traceback (most recent call last)",
      "\u001b[1;32m~\\AppData\\Local\\Temp\\ipykernel_3432\\1124218036.py\u001b[0m in \u001b[0;36m<module>\u001b[1;34m\u001b[0m\n\u001b[1;32m----> 1\u001b[1;33m \u001b[0mx\u001b[0m\u001b[1;33m.\u001b[0m\u001b[0mdetails\u001b[0m\u001b[1;33m(\u001b[0m\u001b[1;33m)\u001b[0m\u001b[1;33m\u001b[0m\u001b[1;33m\u001b[0m\u001b[0m\n\u001b[0m",
      "\u001b[1;32m~\\AppData\\Local\\Temp\\ipykernel_3432\\2242773986.py\u001b[0m in \u001b[0;36mdetails\u001b[1;34m(self)\u001b[0m\n\u001b[0;32m     23\u001b[0m         \u001b[0mprint\u001b[0m\u001b[1;33m(\u001b[0m\u001b[1;34m'Employee ID : '\u001b[0m\u001b[1;33m,\u001b[0m \u001b[0mself\u001b[0m\u001b[1;33m.\u001b[0m\u001b[0m_id\u001b[0m\u001b[1;33m)\u001b[0m\u001b[1;33m\u001b[0m\u001b[1;33m\u001b[0m\u001b[0m\n\u001b[0;32m     24\u001b[0m         \u001b[0mprint\u001b[0m\u001b[1;33m(\u001b[0m\u001b[1;34m'Employee age : '\u001b[0m\u001b[1;33m,\u001b[0m \u001b[0mself\u001b[0m\u001b[1;33m.\u001b[0m\u001b[0mage_detail\u001b[0m\u001b[1;33m(\u001b[0m\u001b[1;36m25\u001b[0m\u001b[1;33m)\u001b[0m\u001b[1;33m)\u001b[0m\u001b[1;33m\u001b[0m\u001b[1;33m\u001b[0m\u001b[0m\n\u001b[1;32m---> 25\u001b[1;33m         \u001b[0mprint\u001b[0m\u001b[1;33m(\u001b[0m\u001b[1;34m'Employee salary : '\u001b[0m\u001b[1;33m,\u001b[0m \u001b[0mself\u001b[0m\u001b[1;33m.\u001b[0m\u001b[0m__salary\u001b[0m\u001b[1;33m)\u001b[0m\u001b[1;33m\u001b[0m\u001b[1;33m\u001b[0m\u001b[0m\n\u001b[0m\u001b[0;32m     26\u001b[0m \u001b[1;33m\u001b[0m\u001b[0m\n\u001b[0;32m     27\u001b[0m \u001b[1;33m\u001b[0m\u001b[0m\n",
      "\u001b[1;31mAttributeError\u001b[0m: 'manager' object has no attribute '_manager__salary'"
     ]
    }
   ],
   "source": [
    "x.details()"
   ]
  },
  {
   "cell_type": "code",
   "execution_count": 138,
   "id": "7d12ec64",
   "metadata": {},
   "outputs": [
    {
     "ename": "AttributeError",
     "evalue": "'manager' object has no attribute '_salary'",
     "output_type": "error",
     "traceback": [
      "\u001b[1;31m---------------------------------------------------------------------------\u001b[0m",
      "\u001b[1;31mAttributeError\u001b[0m                            Traceback (most recent call last)",
      "\u001b[1;32m~\\AppData\\Local\\Temp\\ipykernel_3432\\1655674568.py\u001b[0m in \u001b[0;36m<module>\u001b[1;34m\u001b[0m\n\u001b[1;32m----> 1\u001b[1;33m \u001b[0mx\u001b[0m\u001b[1;33m.\u001b[0m\u001b[0mdescribe\u001b[0m\u001b[1;33m(\u001b[0m\u001b[1;33m)\u001b[0m\u001b[1;33m\u001b[0m\u001b[1;33m\u001b[0m\u001b[0m\n\u001b[0m",
      "\u001b[1;32m~\\AppData\\Local\\Temp\\ipykernel_3432\\3374891359.py\u001b[0m in \u001b[0;36mdescribe\u001b[1;34m(self)\u001b[0m\n\u001b[0;32m     19\u001b[0m \u001b[1;33m\u001b[0m\u001b[0m\n\u001b[0;32m     20\u001b[0m     \u001b[1;32mdef\u001b[0m \u001b[0mdescribe\u001b[0m\u001b[1;33m(\u001b[0m\u001b[0mself\u001b[0m\u001b[1;33m)\u001b[0m\u001b[1;33m:\u001b[0m\u001b[1;33m\u001b[0m\u001b[1;33m\u001b[0m\u001b[0m\n\u001b[1;32m---> 21\u001b[1;33m         \u001b[1;32mreturn\u001b[0m \u001b[0mself\u001b[0m\u001b[1;33m.\u001b[0m\u001b[0m_salary\u001b[0m\u001b[1;33m\u001b[0m\u001b[1;33m\u001b[0m\u001b[0m\n\u001b[0m\u001b[0;32m     22\u001b[0m \u001b[1;33m\u001b[0m\u001b[0m\n\u001b[0;32m     23\u001b[0m     \u001b[1;32mdef\u001b[0m \u001b[0mdetails\u001b[0m\u001b[1;33m(\u001b[0m\u001b[0mself\u001b[0m\u001b[1;33m)\u001b[0m\u001b[1;33m:\u001b[0m\u001b[1;33m\u001b[0m\u001b[1;33m\u001b[0m\u001b[0m\n",
      "\u001b[1;31mAttributeError\u001b[0m: 'manager' object has no attribute '_salary'"
     ]
    }
   ],
   "source": [
    "x.describe()              #error because object x of sublass manager cannot access salary beacuase it is private "
   ]
  },
  {
   "cell_type": "markdown",
   "id": "f3f35914",
   "metadata": {},
   "source": [
    "4. Discuss the difference between public, private, and protected access modifiers in Python."
   ]
  },
  {
   "cell_type": "markdown",
   "id": "e19b17f7",
   "metadata": {},
   "source": [
    "In Python, access modifiers are used to control the visibility of class members (attributes and methods) from outside the class. These modifiers help in implementing encapsulation and enforcing data hiding. Here's a discussion of the differences between public, private, and protected access modifiers in Python:\n",
    "\n",
    "1. **Public Access Modifier**:\n",
    "   - Attributes or methods without any leading underscore are considered public.\n",
    "   - Public members can be freely accessed and modified from outside the class.\n",
    "   - There are no restrictions on accessing public members.\n",
    "   - Example:\n",
    "     ```python\n",
    "     class MyClass:\n",
    "         def __init__(self):\n",
    "             self.public_attribute = 42\n",
    "\n",
    "         def public_method(self):\n",
    "             return \"This is a public method\"\n",
    "\n",
    "     obj = MyClass()\n",
    "     print(obj.public_attribute)  # Accessing public attribute\n",
    "     print(obj.public_method())   # Calling public method\n",
    "     ```\n",
    "\n",
    "2. **Private Access Modifier**:\n",
    "   - Attributes or methods with a leading double underscore `__` are considered private.\n",
    "   - Private members cannot be accessed or modified directly from outside the class.\n",
    "   - Python enforces name mangling to make it harder to access private members from outside the class, but it's still possible.\n",
    "   - Private members are typically accessed indirectly using getter and setter methods.\n",
    "   - Example:\n",
    "     ```python\n",
    "     class MyClass:\n",
    "         def __init__(self):\n",
    "             self.__private_attribute = 42\n",
    "\n",
    "         def __private_method(self):\n",
    "             return \"This is a private method\"\n",
    "\n",
    "         def get_private_attribute(self):\n",
    "             return self.__private_attribute\n",
    "\n",
    "         def set_private_attribute(self, value):\n",
    "             self.__private_attribute = value\n",
    "\n",
    "     obj = MyClass()\n",
    "     # Attempting to access private attribute directly (will raise an AttributeError)\n",
    "     # print(obj.__private_attribute)\n",
    "     print(obj.get_private_attribute())  # Accessing private attribute indirectly\n",
    "     # Attempting to call private method directly (will raise an AttributeError)\n",
    "     # print(obj.__private_method())\n",
    "     ```\n",
    "\n",
    "3. **Protected Access Modifier**:\n",
    "   - Attributes or methods with a leading underscore `_` are considered protected (by convention).\n",
    "   - Protected members are intended to be accessible within the class and its subclasses (inheritance hierarchy).\n",
    "   - Python does not enforce strict access control for protected members; it's more of a naming convention.\n",
    "   - Protected members are typically accessed similarly to public members, but they are marked as non-public to indicate their intended usage.\n",
    "   - Example:\n",
    "     ```python\n",
    "     class MyClass:\n",
    "         def __init__(self):\n",
    "             self._protected_attribute = 42\n",
    "\n",
    "         def _protected_method(self):\n",
    "             return \"This is a protected method\"\n",
    "\n",
    "     class SubClass(MyClass):\n",
    "         def access_protected(self):\n",
    "             return self._protected_attribute\n",
    "\n",
    "     obj = SubClass()\n",
    "     print(obj.access_protected())  # Accessing protected attribute in subclass\n",
    "     ```\n",
    "\n",
    "In summary, public members are accessible from anywhere, private members are only accessible within the class itself (with some name mangling), and protected members are accessible within the class and its subclasses (by convention). However, in Python, these access modifiers are more about conventions and intentions rather than strict enforcement, and they can be overridden or bypassed if necessary."
   ]
  },
  {
   "cell_type": "markdown",
   "id": "4b0cc191",
   "metadata": {},
   "source": [
    "5. Create a Python class called `Person` with a private attribute `__name`. Provide methods to get and set the\n",
    "name attribute."
   ]
  },
  {
   "cell_type": "code",
   "execution_count": 209,
   "id": "176a1e1e",
   "metadata": {},
   "outputs": [
    {
     "data": {
      "text/plain": [
       "'Elena'"
      ]
     },
     "execution_count": 209,
     "metadata": {},
     "output_type": "execute_result"
    }
   ],
   "source": [
    "class Person:\n",
    "    \n",
    "     def __init__(self,name):\n",
    "            self.__name = name\n",
    "            \n",
    "     def get_name(self):\n",
    "        return self.__name\n",
    "    \n",
    "     def set_name(self,name):\n",
    "        self.__name = name\n",
    "        return self.__name\n",
    "    \n",
    "obj_1  =  Person('Sam')\n",
    "obj_1.set_name('Elena')\n",
    "    "
   ]
  },
  {
   "cell_type": "markdown",
   "id": "f25dfda3",
   "metadata": {},
   "source": [
    "6. Explain the purpose of getter and setter methods in encapsulation. Provide examples."
   ]
  },
  {
   "cell_type": "markdown",
   "id": "4877b9cd",
   "metadata": {},
   "source": [
    "Getter and setter methods, also known as accessor and mutator methods, are used in object-oriented programming to implement encapsulation by providing controlled access to the attributes (properties) of a class. Getter methods retrieve the values of attributes, while setter methods modify the values of attributes. This allows classes to enforce validation, perform additional actions, and maintain control over how their internal state is accessed and modified.\n",
    "\n",
    "**Purpose of Getter Methods**:\n",
    "- Getter methods are used to retrieve the values of private attributes.\n",
    "- They provide controlled access to the internal state of an object.\n",
    "- Getter methods can include additional logic such as data transformation or validation before returning the attribute value.\n",
    "\n",
    "**Purpose of Setter Methods**:\n",
    "- Setter methods are used to modify the values of private attributes.\n",
    "- They provide controlled modification of the internal state of an object.\n",
    "- Setter methods can include validation logic to ensure that the new value meets certain criteria before updating the attribute.\n",
    "\n",
    "Here's an example demonstrating the use of getter and setter methods in Python:\n",
    "\n",
    "```python\n",
    "class Circle:\n",
    "    def __init__(self, radius):\n",
    "        self._radius = radius  # private attribute\n",
    "\n",
    "    # Getter method for radius\n",
    "    def get_radius(self):\n",
    "        return self._radius\n",
    "\n",
    "    # Setter method for radius\n",
    "    def set_radius(self, radius):\n",
    "        if radius > 0:\n",
    "            self._radius = radius\n",
    "        else:\n",
    "            print(\"Radius must be greater than zero.\")\n",
    "\n",
    "    # Method to calculate area\n",
    "    def calculate_area(self):\n",
    "        return 3.14 * self._radius ** 2\n",
    "\n",
    "# Creating an instance of the Circle class\n",
    "circle = Circle(5)\n",
    "\n",
    "# Getting the radius using the getter method\n",
    "print(\"Radius:\", circle.get_radius())  # Output: Radius: 5\n",
    "\n",
    "# Calculating and printing the area\n",
    "print(\"Area:\", circle.calculate_area())  # Output: Area: 78.5\n",
    "\n",
    "# Modifying the radius using the setter method\n",
    "circle.set_radius(7)\n",
    "\n",
    "# Getting the updated radius\n",
    "print(\"Updated Radius:\", circle.get_radius())  # Output: Updated Radius: 7\n",
    "\n",
    "# Calculating and printing the updated area\n",
    "print(\"Updated Area:\", circle.calculate_area())  # Output: Updated Area: 153.86\n",
    "```\n",
    "\n",
    "In this example, the `Circle` class encapsulates the radius attribute as a private attribute `_radius`. Getter and setter methods (`get_radius` and `set_radius`) are provided to access and modify the radius attribute, respectively. The setter method ensures that the new radius value is greater than zero before updating the attribute. This demonstrates encapsulation, where the internal state of the `Circle` object is protected and accessed only through controlled methods."
   ]
  },
  {
   "cell_type": "markdown",
   "id": "c8e65627",
   "metadata": {},
   "source": [
    "7. What is name mangling in Python, and how does it affect encapsulation?"
   ]
  },
  {
   "cell_type": "markdown",
   "id": "09dac883",
   "metadata": {},
   "source": [
    "Name mangling in Python is a mechanism used to make class members with double underscores in their names (such as `__attribute` or `__method`) harder to access directly from outside the class where they are defined. This feature is primarily intended to avoid accidental name clashes in subclasses that might inadvertently override methods or attributes of the superclass.\n",
    "\n",
    "When Python encounters a double underscore prefix in an attribute or method name within a class definition, it automatically performs name mangling by prefixing the name with `_ClassName`, where `ClassName` is the name of the current class. This effectively changes the name of the attribute or method to something that is less likely to clash with names in subclasses.\n",
    "\n",
    "Name mangling affects encapsulation by providing a degree of privacy to class members marked with double underscores. While it doesn't provide true privacy or access control, it makes it more difficult for external code to access these members directly, reducing the likelihood of accidental interference or misuse.\n",
    "\n",
    "Here's an example to illustrate how name mangling works:\n",
    "\n",
    "```python\n",
    "class MyClass:\n",
    "    def __init__(self):\n",
    "        self.__private_attribute = 42\n",
    "\n",
    "    def __private_method(self):\n",
    "        return \"This is a private method\"\n",
    "\n",
    "obj = MyClass()\n",
    "\n",
    "# Accessing a private attribute directly (will raise an AttributeError due to name mangling)\n",
    "# print(obj.__private_attribute)  # Uncommenting this line will raise an AttributeError\n",
    "\n",
    "# Calling a private method directly (will raise an AttributeError due to name mangling)\n",
    "# print(obj.__private_method())  # Uncommenting this line will raise an AttributeError\n",
    "\n",
    "# Accessing a private attribute after name mangling\n",
    "print(obj._MyClass__private_attribute)  # Output: 42\n",
    "\n",
    "# Calling a private method after name mangling\n",
    "print(obj._MyClass__private_method())   # Output: This is a private method\n",
    "```\n",
    "\n",
    "In this example, attempts to access the `__private_attribute` or `__private_method` directly from outside the class will raise an `AttributeError` due to name mangling. However, Python allows access to these members by using the mangled names (`_MyClass__private_attribute` and `_MyClass__private_method`) from outside the class, although this is generally discouraged because it undermines encapsulation."
   ]
  },
  {
   "cell_type": "markdown",
   "id": "fcd31519",
   "metadata": {},
   "source": [
    "8. Create a Python class called `BankAccount` with private attributes for the account balance (`__balance`) and account number (`__account_number`). Provide methods for depositing and withdrawing money."
   ]
  },
  {
   "cell_type": "code",
   "execution_count": 301,
   "id": "e77b0115",
   "metadata": {},
   "outputs": [],
   "source": [
    "class BankAccount:\n",
    "    \n",
    "    def __init__(self,balance,acc_no):\n",
    "        self.__balance = balance\n",
    "        self.__account_number = acc_no\n",
    "        \n",
    "    def deposit(self, money):\n",
    "        print('Amount credited in your account is : ', money)\n",
    "        if money >= 0:\n",
    "            self.__balance = self.__balance + money\n",
    "            print('Current balance in the account is : ', self.__balance)\n",
    "        else:\n",
    "            print('Money cannot be deposited')\n",
    "    \n",
    "    def withdrawing(self, amount):\n",
    "        if 0 < amount < self.__balance:\n",
    "            print('Amount debited from your account is : ', amount)\n",
    "            self.__balance = self.__balance - amount\n",
    "            print('Remainning balance is : ', self.__balance)\n",
    "        else:\n",
    "            print('Insufficient amount in the account')\n",
    "\n",
    "    def get_balance(self):\n",
    "        return self.__balance\n",
    "    \n",
    "    def get_account_number(self):\n",
    "        return self.__account_number\n",
    "    "
   ]
  },
  {
   "cell_type": "code",
   "execution_count": 308,
   "id": "4fb3a7de",
   "metadata": {},
   "outputs": [],
   "source": [
    "obj_1 = BankAccount(5000,'RT102345')"
   ]
  },
  {
   "cell_type": "code",
   "execution_count": 309,
   "id": "b6a3df00",
   "metadata": {},
   "outputs": [
    {
     "name": "stdout",
     "output_type": "stream",
     "text": [
      "Amount credited in your account is :  20\n",
      "Current balance in the account is :  5020\n"
     ]
    }
   ],
   "source": [
    "obj_1.deposit(20)"
   ]
  },
  {
   "cell_type": "code",
   "execution_count": 310,
   "id": "0f09c219",
   "metadata": {},
   "outputs": [
    {
     "name": "stdout",
     "output_type": "stream",
     "text": [
      "Amount debited from your account is :  1000\n",
      "Remainning balance is :  4020\n"
     ]
    }
   ],
   "source": [
    "obj_1.withdrawing(1000)"
   ]
  },
  {
   "cell_type": "code",
   "execution_count": 311,
   "id": "c043d9a5",
   "metadata": {},
   "outputs": [
    {
     "ename": "AttributeError",
     "evalue": "'BankAccount' object has no attribute 'self'",
     "output_type": "error",
     "traceback": [
      "\u001b[1;31m---------------------------------------------------------------------------\u001b[0m",
      "\u001b[1;31mAttributeError\u001b[0m                            Traceback (most recent call last)",
      "\u001b[1;32m~\\AppData\\Local\\Temp\\ipykernel_3432\\689642026.py\u001b[0m in \u001b[0;36m<module>\u001b[1;34m\u001b[0m\n\u001b[1;32m----> 1\u001b[1;33m \u001b[0mobj_1\u001b[0m\u001b[1;33m.\u001b[0m\u001b[0mself\u001b[0m\u001b[1;33m.\u001b[0m\u001b[0m__account_number\u001b[0m           \u001b[1;31m#since account number is a private variable we cannot access it directly, therefore we get error\u001b[0m\u001b[1;33m\u001b[0m\u001b[1;33m\u001b[0m\u001b[0m\n\u001b[0m",
      "\u001b[1;31mAttributeError\u001b[0m: 'BankAccount' object has no attribute 'self'"
     ]
    }
   ],
   "source": [
    "obj_1.self.__account_number           #since account number is a private variable we cannot access it directly, therefore we get error"
   ]
  },
  {
   "cell_type": "code",
   "execution_count": 312,
   "id": "14f221b2",
   "metadata": {},
   "outputs": [
    {
     "data": {
      "text/plain": [
       "'RT102345'"
      ]
     },
     "execution_count": 312,
     "metadata": {},
     "output_type": "execute_result"
    }
   ],
   "source": [
    "obj_1.get_account_number()       #so we use getter method"
   ]
  },
  {
   "cell_type": "code",
   "execution_count": 313,
   "id": "5e28c375",
   "metadata": {},
   "outputs": [
    {
     "data": {
      "text/plain": [
       "4020"
      ]
     },
     "execution_count": 313,
     "metadata": {},
     "output_type": "execute_result"
    }
   ],
   "source": [
    "obj_1.get_balance() "
   ]
  },
  {
   "cell_type": "markdown",
   "id": "393c52b1",
   "metadata": {},
   "source": [
    "9. Discuss the advantages of encapsulation in terms of code maintainability and security."
   ]
  },
  {
   "cell_type": "markdown",
   "id": "cac0303f",
   "metadata": {},
   "source": [
    "Encapsulation offers several advantages in terms of code maintainability and security:\n",
    "\n",
    "1. **Modularity and Code Maintainability**:\n",
    "   - Encapsulation promotes modularity by bundling related data and functionality into a single unit (class), making the code more organized and easier to understand.\n",
    "   - By hiding the internal implementation details of a class, encapsulation allows developers to focus on the class's interface (public methods), rather than its internal complexities. This abstraction simplifies the usage of the class and reduces the likelihood of introducing errors when making changes to the class's implementation.\n",
    "   - Encapsulation helps in isolating changes, as modifications to the internal implementation of a class do not affect other parts of the program as long as the class's interface remains unchanged. This facilitates code maintenance and updates, as changes can be made to a class without impacting the rest of the codebase.\n",
    "\n",
    "2. **Data Hiding and Security**:\n",
    "   - Encapsulation facilitates data hiding by allowing classes to hide their internal state (attributes) from outside code, ensuring that data is accessed and modified only through controlled methods (getter and setter methods).\n",
    "   - By controlling access to data, encapsulation helps in enforcing constraints, validation rules, and business logic, thus ensuring data integrity and consistency.\n",
    "   - Encapsulation enhances security by preventing unauthorized access and manipulation of sensitive data. Private attributes and methods cannot be accessed directly from outside the class, reducing the risk of unintended modification or misuse.\n",
    "   - With encapsulation, sensitive data can be protected from accidental or intentional corruption, as access to data is restricted to well-defined interfaces and controlled methods, reducing the likelihood of security vulnerabilities.\n",
    "\n",
    "3. **Promotion of Reusability and Encapsulation**:\n",
    "   - Encapsulation promotes code reusability by encapsulating common functionality into classes that can be easily reused in different parts of the program or in different programs altogether.\n",
    "   - Encapsulation encourages the creation of modular, self-contained components that can be independently developed, tested, and maintained, promoting code reuse and reducing redundancy.\n",
    "   - By encapsulating implementation details, encapsulation allows classes to be used as black boxes, where the internal workings are hidden, and only the interface is exposed. This abstraction enables developers to focus on using classes without needing to understand their internal complexities, thereby improving code reuse and maintainability.\n",
    "\n",
    "Overall, encapsulation plays a crucial role in enhancing code maintainability and security by promoting modularity, data hiding, and code reuse, while also providing a clear and controlled interface for accessing and manipulating class members."
   ]
  },
  {
   "cell_type": "markdown",
   "id": "50029175",
   "metadata": {},
   "source": [
    "10. How can you access private attributes in Python? Provide an example demonstrating the use of name\n",
    "mangling."
   ]
  },
  {
   "cell_type": "markdown",
   "id": "30ba98e0",
   "metadata": {},
   "source": [
    "In Python, private attributes are intended to be accessible only within the class where they are defined. However, it's still possible to access private attributes from outside the class using a mechanism called name mangling. Name mangling involves prefixing the private attribute's name with `_ClassName`, where `ClassName` is the name of the class where the attribute is defined. This makes it more difficult to access private attributes directly from outside the class, but it's not an impenetrable barrier and should be used judiciously.\n",
    "\n",
    "Here's an example demonstrating how to access private attributes using name mangling in Python:\n",
    "\n",
    "```python\n",
    "class MyClass:\n",
    "    def __init__(self):\n",
    "        self.__private_attribute = 42  # Private attribute\n",
    "\n",
    "obj = MyClass()\n",
    "\n",
    "# Accessing a private attribute directly (will raise an AttributeError due to name mangling)\n",
    "# print(obj.__private_attribute)  # Uncommenting this line will raise an AttributeError\n",
    "\n",
    "# Accessing a private attribute using name mangling\n",
    "print(obj._MyClass__private_attribute)  # Output: 42\n",
    "```\n",
    "\n",
    "In this example, `__private_attribute` is a private attribute of the `MyClass` class. Attempting to access it directly from outside the class would raise an `AttributeError`. However, by using name mangling, we can access the private attribute indirectly by prefixing its name with `_MyClass`, which is the name of the class where it is defined. This demonstrates that while private attributes are not truly inaccessible from outside the class, their names are mangled to discourage direct access and promote encapsulation."
   ]
  },
  {
   "cell_type": "markdown",
   "id": "ac56999c",
   "metadata": {},
   "source": [
    "11. Create a Python class hierarchy for a school system, including classes for students, teachers, and courses,\n",
    "and implement encapsulation principles to protect sensitive information."
   ]
  },
  {
   "cell_type": "code",
   "execution_count": 53,
   "id": "947a2049",
   "metadata": {},
   "outputs": [
    {
     "name": "stdout",
     "output_type": "stream",
     "text": [
      "Teacher: John Doe\n",
      "Courses Taught: [<__main__.Course object at 0x000002C773AA65B0>]\n",
      "\n",
      "Student: Alice Smith\n",
      "Courses Enrolled: ['Introduction to Python']\n"
     ]
    }
   ],
   "source": [
    "class school_system:\n",
    "    def __init__(self, name, age, gender):\n",
    "        self._name = name\n",
    "        self._age = age\n",
    "        self._gender = gender\n",
    "    \n",
    "    def get_name(self):\n",
    "        return self._name\n",
    "    \n",
    "    def get_age(self):\n",
    "        return self._age\n",
    "    \n",
    "    def get_gender(self):\n",
    "        return self._gender\n",
    "\n",
    "\n",
    "class Student(school_system):\n",
    "    def __init__(self, name, age, gender, student_id):\n",
    "        super().__init__(name, age, gender)\n",
    "        self._student_id = student_id\n",
    "        self._courses = []\n",
    "    \n",
    "    def get_student_id(self):\n",
    "        return self._student_id\n",
    "    \n",
    "    def enroll_course(self, course):\n",
    "        self._courses.append(course)\n",
    "    \n",
    "    def get_courses(self):\n",
    "        return self._courses\n",
    "\n",
    "\n",
    "class Teacher(school_system):\n",
    "    def __init__(self, name, age, gender, employee_id):\n",
    "        super().__init__(name, age, gender)\n",
    "        self._employee_id = employee_id\n",
    "        self._courses_taught = []\n",
    "    \n",
    "    def get_employee_id(self):\n",
    "        return self._employee_id\n",
    "    \n",
    "    def assign_course(self, course):\n",
    "        self._courses_taught.append(course)\n",
    "    \n",
    "    def get_courses_taught(self):\n",
    "        return self._courses_taught\n",
    "\n",
    "\n",
    "class Course:\n",
    "    def __init__(self, course_code, course_name, teacher):\n",
    "        self._course_code = course_code\n",
    "        self._course_name = course_name\n",
    "        self._teacher = teacher\n",
    "    \n",
    "    def get_course_code(self):\n",
    "        return self._course_code\n",
    "    \n",
    "    def get_course_name(self):\n",
    "        return self._course_name\n",
    "    \n",
    "    def get_teacher(self):\n",
    "        return self._teacher.get_name()\n",
    "    \n",
    "\n",
    "teacher1 = Teacher(\"John Doe\", 35, \"Male\", \"EMP123\")\n",
    "student1 = Student(\"Alice Smith\", 18, \"Female\", \"STU456\")\n",
    "\n",
    "python_course = Course(\"PY101\", \"Introduction to Python\", teacher1)\n",
    "\n",
    "teacher1.assign_course(python_course)\n",
    "student1.enroll_course(python_course)\n",
    "\n",
    "print(\"Teacher:\", teacher1.get_name())\n",
    "print(\"Courses Taught:\", teacher1.get_courses_taught())\n",
    "\n",
    "print(\"\\nStudent:\", student1.get_name())\n",
    "print(\"Courses Enrolled:\", [course.get_course_name() for course in student1.get_courses()])\n",
    "\n",
    "\n"
   ]
  },
  {
   "cell_type": "markdown",
   "id": "7b28b8df",
   "metadata": {},
   "source": [
    "12. Explain the concept of property decorators in Python and how they relate to encapsulation."
   ]
  },
  {
   "cell_type": "markdown",
   "id": "9050a860",
   "metadata": {},
   "source": [
    "In Python, property decorators are a way to define special methods within a class that provide controlled access to class attributes. They are used to encapsulate the internal state of an object by controlling how its attributes are accessed, set, or deleted. This encapsulation helps maintain data integrity and provides a clean interface for interacting with objects.\n",
    "\n",
    "Property decorators allow you to define getter, setter, and deleter methods for class attributes, making it possible to customize attribute access while still maintaining a simple and intuitive syntax. They are often used when you want to perform additional logic, such as validation or computation, before allowing access to or modification of an attribute.\n",
    "\n",
    "Here's how property decorators work and how they relate to encapsulation:\n",
    "\n",
    "1. **Getter Method**: The `@property` decorator is used to define a getter method for an attribute. This method is called whenever the attribute is accessed. It allows you to perform any necessary logic before returning the attribute's value.\n",
    "\n",
    "2. **Setter Method**: You can define a setter method using the `@<attribute_name>.setter` decorator. This method is called when the attribute is assigned a new value. It allows you to validate the new value or perform any other necessary actions before updating the attribute.\n",
    "\n",
    "3. **Deleter Method**: Similarly, you can define a deleter method using the `@<attribute_name>.deleter` decorator. This method is called when the attribute is deleted using the `del` statement. It allows you to perform any cleanup actions before removing the attribute.\n",
    "\n",
    "Property decorators help encapsulate the internal state of an object by providing a controlled interface for accessing and modifying its attributes. By defining getter, setter, and deleter methods, you can enforce validation rules, compute attribute values dynamically, or perform other operations without exposing the internal details of the class to its users.\n",
    "\n",
    "Here's a simple example demonstrating the use of property decorators for encapsulation:\n",
    "\n",
    "```python\n",
    "class Circle:\n",
    "    def __init__(self, radius):\n",
    "        self._radius = radius\n",
    "\n",
    "    @property\n",
    "    def radius(self):\n",
    "        return self._radius\n",
    "\n",
    "    @radius.setter\n",
    "    def radius(self, value):\n",
    "        if value <= 0:\n",
    "            raise ValueError(\"Radius must be positive\")\n",
    "        self._radius = value\n",
    "\n",
    "    @property\n",
    "    def area(self):\n",
    "        return 3.14 * self._radius ** 2\n",
    "\n",
    "# Usage\n",
    "c = Circle(5)\n",
    "print(\"Radius:\", c.radius)  # Output: 5\n",
    "print(\"Area:\", c.area)      # Output: 78.5\n",
    "\n",
    "c.radius = 7\n",
    "print(\"Radius:\", c.radius)  # Output: 7\n",
    "print(\"Area:\", c.area)      # Output: 153.86\n",
    "\n",
    "c.radius = -3  # Raises ValueError: Radius must be positive\n",
    "```\n",
    "\n",
    "In this example, the `Circle` class encapsulates the radius attribute using property decorators. The `radius` property provides controlled access to the `_radius` attribute, ensuring that only valid values are accepted. Additionally, the `area` property allows users to retrieve the area of the circle without directly accessing the radius attribute. This encapsulation helps maintain the integrity of the `Circle` object's internal state while providing a simple and intuitive interface for interacting with it."
   ]
  },
  {
   "cell_type": "markdown",
   "id": "d481f07d",
   "metadata": {},
   "source": [
    "13. What is data hiding, and why is it important in encapsulation? Provide examples."
   ]
  },
  {
   "cell_type": "markdown",
   "id": "c1dfbf46",
   "metadata": {},
   "source": [
    "Data hiding, also known as information hiding, is the practice of hiding the internal implementation details of a class or module and exposing only the necessary interfaces to interact with it. In other words, it's the concept of restricting access to certain parts of an object's data or methods from outside the object.\n",
    "\n",
    "Data hiding is important in encapsulation because it helps ensure that the internal state of an object is not directly accessible or modifiable by external code. This helps maintain the integrity and consistency of the object's data, as well as preventing unintended side effects from external manipulation.\n",
    "\n",
    "Here are some reasons why data hiding is important in encapsulation:\n",
    "\n",
    "1. **Modularity**: By hiding the internal implementation details of a class, you can define clear and well-defined interfaces for interacting with the class. This promotes modularity and makes it easier to maintain and extend the codebase.\n",
    "\n",
    "2. **Security**: Hiding sensitive data or methods helps protect them from unauthorized access or modification. This is particularly important for security-sensitive applications where certain data should only be accessible to authorized users or processes.\n",
    "\n",
    "3. **Abstraction**: Data hiding allows you to abstract away the implementation details of a class, focusing instead on the essential behavior and properties that should be exposed to users. This promotes a higher level of abstraction and makes the code easier to understand and reason about.\n",
    "\n",
    "4. **Flexibility**: By hiding the internal details of a class, you can change or refactor the implementation without affecting the external code that interacts with it. This provides flexibility and allows you to improve or optimize the implementation without breaking existing functionality.\n",
    "\n",
    "Now, let's illustrate data hiding with an example:\n",
    "\n",
    "```python\n",
    "class BankAccount:\n",
    "    def __init__(self, account_number, balance):\n",
    "        self._account_number = account_number  # Hiding account number\n",
    "        self._balance = balance                # Hiding balance\n",
    "\n",
    "    def deposit(self, amount):\n",
    "        self._balance += amount\n",
    "\n",
    "    def withdraw(self, amount):\n",
    "        if self._balance >= amount:\n",
    "            self._balance -= amount\n",
    "        else:\n",
    "            print(\"Insufficient funds\")\n",
    "\n",
    "    def get_balance(self):\n",
    "        return self._balance\n",
    "\n",
    "# Usage\n",
    "account = BankAccount(\"123456789\", 1000)\n",
    "print(\"Initial Balance:\", account.get_balance())  # Output: 1000\n",
    "\n",
    "account.deposit(500)\n",
    "print(\"Balance after deposit:\", account.get_balance())  # Output: 1500\n",
    "\n",
    "account.withdraw(200)\n",
    "print(\"Balance after withdrawal:\", account.get_balance())  # Output: 1300\n",
    "```\n",
    "\n",
    "In this example, the `BankAccount` class hides the account number and balance attributes by prefixing them with an underscore `_`. These attributes are accessed and modified only through methods like `deposit`, `withdraw`, and `get_balance`. This ensures that the internal state of the `BankAccount` object is protected from direct access or modification by external code, promoting encapsulation and data hiding."
   ]
  },
  {
   "cell_type": "markdown",
   "id": "0bbcaccb",
   "metadata": {},
   "source": [
    "14. Create a Python class called `Employee` with private attributes for salary (`__salary`) and employee ID (`__employee_id`). Provide a method to calculate yearly bonuses."
   ]
  },
  {
   "cell_type": "code",
   "execution_count": 68,
   "id": "076b535f",
   "metadata": {},
   "outputs": [
    {
     "name": "stdout",
     "output_type": "stream",
     "text": [
      "The yearly bonus is :  5000.0\n"
     ]
    }
   ],
   "source": [
    "\n",
    "class Employee:\n",
    "    def __init__(self, employee_id, salary):\n",
    "        self.__employee_id = employee_id\n",
    "        self.__salary = salary\n",
    "\n",
    "    def calculate_yearly_bonus(self, bonus_percentage):\n",
    "        bonus_amount = (bonus_percentage / 100) * self.__salary\n",
    "        return bonus_amount\n",
    "    \n",
    "    def get_employee_id(self):\n",
    "        return self.employee_id\n",
    "\n",
    "\n",
    "emp1 = Employee(\"EMP001\", 50000)\n",
    "bonus_percentage = 10  # 10% bonus\n",
    "yearly_bonus = emp1.calculate_yearly_bonus(bonus_percentage)\n",
    "print('The yearly bonus is : ', yearly_bonus)\n"
   ]
  },
  {
   "cell_type": "markdown",
   "id": "ea2a996b",
   "metadata": {},
   "source": [
    "15. Discuss the use of accessors and mutators in encapsulation. How do they help maintain control over\n",
    "attribute access?"
   ]
  },
  {
   "cell_type": "markdown",
   "id": "d484339b",
   "metadata": {},
   "source": [
    "Accessors and mutators, also known as getters and setters, are methods used in object-oriented programming to control access to the attributes of a class. They are a fundamental aspect of encapsulation and help maintain control over attribute access by providing a controlled interface for reading (accessors) and modifying (mutators) the values of attributes.\n",
    "\n",
    "Here's how accessors and mutators help maintain control over attribute access:\n",
    "\n",
    "1. **Accessors (Getters)**:\n",
    "   - Accessors are methods used to retrieve the values of attributes.\n",
    "   - They provide controlled read-only access to the attributes.\n",
    "   - Accessors can include additional logic such as validation or computation before returning the attribute value.\n",
    "   - By encapsulating attribute access within accessors, you can ensure that the internal state of an object is not directly exposed to external code.\n",
    "   - Accessors help maintain data integrity by preventing external code from accessing or modifying the attributes directly.\n",
    "\n",
    "2. **Mutators (Setters)**:\n",
    "   - Mutators are methods used to modify the values of attributes.\n",
    "   - They provide controlled write-only access to the attributes.\n",
    "   - Mutators can include validation logic to ensure that only valid values are assigned to the attributes.\n",
    "   - By encapsulating attribute modification within mutators, you can enforce constraints or perform necessary actions before updating the attribute value.\n",
    "   - Mutators help maintain data consistency by enforcing validation rules and preventing invalid data from being assigned to attributes.\n"
   ]
  },
  {
   "cell_type": "markdown",
   "id": "472ea488",
   "metadata": {},
   "source": [
    "16. What are the potential drawbacks or disadvantages of using encapsulation in Python?"
   ]
  },
  {
   "cell_type": "markdown",
   "id": "9d523fbf",
   "metadata": {},
   "source": [
    "While encapsulation is a fundamental concept in object-oriented programming that offers many benefits, there are also potential drawbacks or disadvantages associated with its use in Python:\n",
    "\n",
    "1. **Increased Complexity**: Encapsulation can lead to increased complexity, especially when dealing with large codebases or complex class hierarchies. It may require additional effort to design and maintain the encapsulation mechanisms, such as defining accessors, mutators, and other encapsulation-related methods.\n",
    "\n",
    "2. **Performance Overhead**: Accessing attributes through accessor and mutator methods may introduce a performance overhead compared to accessing them directly. While this overhead is usually negligible for most applications, it can become significant in performance-critical code.\n",
    "\n",
    "3. **Boilerplate Code**: Implementing encapsulation in Python often involves writing boilerplate code for accessors, mutators, and other encapsulation-related methods. This can lead to code duplication and decreased readability, especially if there are many attributes to encapsulate.\n",
    "\n",
    "4. **Flexibility vs. Rigidity**: Encapsulation can sometimes make it more difficult to extend or modify the behavior of a class, especially if the encapsulation mechanisms are too rigid. For example, changing the internal representation of an attribute may require modifying multiple accessors and mutators, potentially breaking existing code.\n",
    "\n",
    "5. **Testing Complexity**: Encapsulation can make unit testing more challenging, as it may be necessary to mock or stub out accessor and mutator methods to isolate the behavior of the class under test. This can increase the complexity of unit tests and make them more brittle.\n",
    "\n",
    "6. **Violation of Pythonic Idioms**: Python follows the principle of \"we are all consenting adults here,\" meaning that developers are trusted to use objects responsibly without strict enforcement of encapsulation. Overuse of encapsulation in Python may violate this principle and lead to less idiomatic code.\n",
    "\n",
    "7. **Less Dynamic Code**: Python is known for its dynamic nature, allowing attributes to be added, modified, or deleted at runtime. Encapsulation may restrict this dynamic behavior by enforcing strict access control over attributes.\n",
    "\n",
    "8. **Debugging Complexity**: Encapsulation can sometimes make debugging more difficult, as it may obscure the internal state of objects and make it harder to diagnose issues. Accessing attributes directly can sometimes be more straightforward for debugging purposes.\n",
    "\n",
    "Despite these potential drawbacks, encapsulation remains a valuable tool for managing complexity, promoting code reuse, and ensuring data integrity in object-oriented programming. It's essential to strike a balance between encapsulation and other programming principles, considering the specific requirements and constraints of each project."
   ]
  },
  {
   "cell_type": "markdown",
   "id": "df580059",
   "metadata": {},
   "source": [
    "17. Create a Python class for a library system that encapsulates book information, including titles, authors,\n",
    "and availability status."
   ]
  },
  {
   "cell_type": "code",
   "execution_count": 69,
   "id": "4ca56ebd",
   "metadata": {},
   "outputs": [
    {
     "name": "stdout",
     "output_type": "stream",
     "text": [
      "Book 'The Great Gatsby' by F. Scott Fitzgerald has been checked out.\n",
      "Book 'To Kill a Mockingbird' by Harper Lee has been checked out.\n",
      "Sorry, the book 'The Great Gatsby' by F. Scott Fitzgerald is currently not available.\n",
      "Book 'The Great Gatsby' by F. Scott Fitzgerald has been checked in.\n"
     ]
    }
   ],
   "source": [
    "class Book:\n",
    "    def __init__(self, title, author):\n",
    "        self.title = title\n",
    "        self.author = author\n",
    "        self.available = True\n",
    "\n",
    "    def check_out(self):\n",
    "        if self.available:\n",
    "            self.available = False\n",
    "            print(f\"Book '{self.title}' by {self.author} has been checked out.\")\n",
    "        else:\n",
    "            print(f\"Sorry, the book '{self.title}' by {self.author} is currently not available.\")\n",
    "\n",
    "    def check_in(self):\n",
    "        if not self.available:\n",
    "            self.available = True\n",
    "            print(f\"Book '{self.title}' by {self.author} has been checked in.\")\n",
    "        else:\n",
    "            print(f\"The book '{self.title}' by {self.author} is already available.\")\n",
    "\n",
    "book1 = Book(\"The Great Gatsby\", \"F. Scott Fitzgerald\")\n",
    "book2 = Book(\"To Kill a Mockingbird\", \"Harper Lee\")\n",
    "\n",
    "book1.check_out()  \n",
    "book2.check_out()  \n",
    "\n",
    "book1.check_out()  \n",
    "\n",
    "book1.check_in()  \n"
   ]
  },
  {
   "cell_type": "markdown",
   "id": "1a2aa1e1",
   "metadata": {},
   "source": [
    "18. Explain how encapsulation enhances code reusability and modularity in Python programs."
   ]
  },
  {
   "cell_type": "markdown",
   "id": "eee6e000",
   "metadata": {},
   "source": [
    "Encapsulation enhances code reusability and modularity in Python programs by promoting the separation of concerns and providing well-defined interfaces for interacting with objects. Here's how encapsulation achieves these benefits:\n",
    "\n",
    "1. **Separation of Concerns**: Encapsulation allows you to encapsulate the internal state and behavior of objects within well-defined boundaries. This separation of concerns ensures that each component of the program focuses on a specific task or responsibility, making the codebase easier to understand, maintain, and extend.\n",
    "\n",
    "2. **Code Reusability**: Encapsulation promotes code reusability by encapsulating reusable components (objects) with clearly defined interfaces. Once encapsulated, objects can be reused in different parts of the program without needing to understand their internal implementation details. This reduces code duplication and promotes the development of modular, reusable components.\n",
    "\n",
    "3. **Modularity**: Encapsulation facilitates modularity by breaking down complex systems into smaller, more manageable components (objects). Each object encapsulates a specific set of attributes and methods related to a particular concept or entity. These modular components can then be easily composed and combined to build larger systems, promoting scalability and flexibility.\n",
    "\n",
    "4. **Information Hiding**: Encapsulation allows you to hide the internal implementation details of objects from external code, exposing only the necessary interfaces for interacting with them. This information hiding protects the integrity of the object's internal state and behavior, preventing unintended side effects from external manipulation and promoting a clear separation of concerns.\n",
    "\n",
    "5. **Reduced Dependency**: Encapsulation reduces dependency between different parts of the codebase by encapsulating the interactions between objects within well-defined interfaces. This reduces coupling between components, making it easier to modify, replace, or extend individual components without affecting the rest of the system.\n",
    "\n",
    "Overall, encapsulation enhances code reusability and modularity in Python programs by promoting the separation of concerns, providing well-defined interfaces, and encapsulating reusable components with clearly defined boundaries. This leads to more maintainable, scalable, and flexible codebases that are easier to understand, extend, and maintain."
   ]
  },
  {
   "cell_type": "markdown",
   "id": "8a289b11",
   "metadata": {},
   "source": [
    "19. Describe the concept of information hiding in encapsulation. Why is it essential in software development?"
   ]
  },
  {
   "cell_type": "markdown",
   "id": "dae270a7",
   "metadata": {},
   "source": [
    "Information hiding is a principle in software engineering and object-oriented programming that involves hiding the internal details of a module, class, or component from the outside world, exposing only what is necessary for external interaction. It is a key aspect of encapsulation, which is one of the fundamental principles of object-oriented design.\n",
    "\n",
    "The concept of information hiding aims to:\n",
    "1. **Protect Internal State**: By hiding the internal state of an object or module, information hiding ensures that the implementation details are not directly accessible or modifiable from outside the object or module. This protects the integrity of the internal state and prevents unintended modifications or misuse.\n",
    "\n",
    "2. **Promote Abstraction**: Information hiding promotes abstraction by providing a clear separation between the interface (public API) and the implementation details. External users interact with the object or module through a well-defined interface without needing to understand or rely on the internal implementation.\n",
    "\n",
    "3. **Reduce Complexity**: By hiding unnecessary details and exposing only what is essential for external interaction, information hiding reduces complexity and cognitive overhead. It allows developers to focus on the essential aspects of the system without being overwhelmed by unnecessary details.\n",
    "\n",
    "4. **Facilitate Modularity**: Information hiding facilitates modularity by encapsulating the internal details of a module or class within well-defined boundaries. This allows modules to be developed, tested, and maintained independently, promoting code reuse, scalability, and maintainability.\n",
    "\n",
    "5. **Enhance Security**: Information hiding helps enhance security by restricting access to sensitive data or critical functionality. By exposing only what is necessary for external interaction, information hiding reduces the risk of unauthorized access, manipulation, or exploitation of system vulnerabilities.\n",
    "\n",
    "In software development, information hiding is essential for building robust, maintainable, and secure systems. It promotes good design practices, such as encapsulation and abstraction, which are crucial for managing complexity, reducing dependencies, and ensuring the integrity and security of software systems. By hiding implementation details and exposing well-defined interfaces, information hiding enables developers to create modular, reusable components that can be easily integrated, extended, and maintained over time."
   ]
  },
  {
   "cell_type": "code",
   "execution_count": null,
   "id": "15abd4e1",
   "metadata": {},
   "outputs": [],
   "source": [
    "20. Create a Python class called `Customer` with private attributes for customer details like name, address,\n",
    "and contact information. Implement encapsulation to ensure data integrity and security."
   ]
  },
  {
   "cell_type": "code",
   "execution_count": 70,
   "id": "ee06b34c",
   "metadata": {},
   "outputs": [
    {
     "name": "stdout",
     "output_type": "stream",
     "text": [
      "Name: John Doe\n",
      "Address: 123 Main St\n",
      "Contact Info: john@example.com\n",
      "\n",
      "Updated Address: 456 Elm St\n",
      "Updated Contact Info: john.doe@example.com\n"
     ]
    }
   ],
   "source": [
    "class Customer:\n",
    "    def __init__(self, name, address, contact_info):\n",
    "        self.__name = name\n",
    "        self.__address = address\n",
    "        self.__contact_info = contact_info\n",
    "    \n",
    "    def get_name(self):\n",
    "        return self.__name\n",
    "    \n",
    "    def set_name(self, name):\n",
    "        self.__name = name\n",
    "    \n",
    "    def get_address(self):\n",
    "        return self.__address\n",
    "    \n",
    "    def set_address(self, address):\n",
    "        self.__address = address\n",
    "    \n",
    "    def get_contact_info(self):\n",
    "        return self.__contact_info\n",
    "    \n",
    "    def set_contact_info(self, contact_info):\n",
    "        self.__contact_info = contact_info\n",
    "\n",
    "\n",
    "customer1 = Customer(\"John Doe\", \"123 Main St\", \"john@example.com\")\n",
    "\n",
    "#Accessing attributes using getter methods\n",
    "print(\"Name:\", customer1.get_name())\n",
    "print(\"Address:\", customer1.get_address())\n",
    "print(\"Contact Info:\", customer1.get_contact_info())\n",
    "\n",
    "#Modifying attributes using setter methods\n",
    "customer1.set_address(\"456 Elm St\")\n",
    "customer1.set_contact_info(\"john.doe@example.com\")\n",
    "\n",
    "print(\"\\nUpdated Address:\", customer1.get_address())\n",
    "print(\"Updated Contact Info:\", customer1.get_contact_info())\n"
   ]
  },
  {
   "cell_type": "code",
   "execution_count": null,
   "id": "ee4b7943",
   "metadata": {},
   "outputs": [],
   "source": []
  },
  {
   "cell_type": "markdown",
   "id": "0e59fefa",
   "metadata": {},
   "source": [
    "## Polymorphism:"
   ]
  },
  {
   "cell_type": "markdown",
   "id": "a77c40c7",
   "metadata": {},
   "source": [
    "1. What is polymorphism in Python? Explain how it is related to object-oriented programming."
   ]
  },
  {
   "cell_type": "markdown",
   "id": "8502bcf1",
   "metadata": {},
   "source": [
    "Polymorphism in Python, as well as in other object-oriented programming languages, refers to the ability of different objects to respond to the same method or function call in different ways. This means that objects of different classes can be treated as objects of a common superclass, allowing for more flexible and dynamic code.\n",
    "\n",
    "There are two main types of polymorphism in Python:\n",
    "\n",
    "1. **Compile-time polymorphism (also known as method overloading)**: This occurs when multiple methods in the same class have the same name but different parameters. The appropriate method to call is determined by the number and types of arguments passed to it at compile time. However, Python does not support method overloading directly like some other languages (e.g., Java or C++), but you can achieve similar behavior using default arguments or variable arguments.\n",
    "\n",
    "2. **Run-time polymorphism (also known as method overriding)**: This occurs when a method in a subclass has the same name and parameters as a method in its superclass. The method in the subclass overrides the method in the superclass, providing a specific implementation for that method. When the method is called on an object of the subclass, the overridden method is executed.\n",
    "\n",
    "Polymorphism is closely related to object-oriented programming (OOP) because it allows for abstraction, encapsulation, inheritance, and code reuse, which are fundamental principles of OOP.\n",
    "\n",
    "Polymorphism enables code to be written in a way that is more generic and adaptable to different types of objects, which can lead to more modular and maintainable code. It also facilitates the use of interfaces and abstract classes, allowing different implementations to be easily interchanged without affecting the rest of the codebase."
   ]
  },
  {
   "cell_type": "markdown",
   "id": "4e0d1d85",
   "metadata": {},
   "source": [
    "2. Describe the difference between compile-time polymorphism and runtime polymorphism in Python."
   ]
  },
  {
   "cell_type": "markdown",
   "id": "397e656f",
   "metadata": {},
   "source": [
    "In Python, there isn't a clear-cut distinction between compile-time polymorphism and runtime polymorphism as you might find in statically-typed languages like C++ or Java. However, the concepts of method overloading and method overriding can still be understood in terms of how Python behaves during execution.\n",
    "\n",
    "1. **Compile-time polymorphism**:\n",
    "   - In statically-typed languages, compile-time polymorphism is typically achieved through method overloading, where multiple methods can have the same name but different parameter types or numbers.\n",
    "   - The appropriate method to call is determined at compile time based on the number and types of arguments passed to it.\n",
    "   - Python does not support method overloading in the same sense as statically-typed languages. While you can define multiple functions or methods with the same name, only the latest defined function or method will be accessible.\n",
    "\n",
    "2. **Runtime polymorphism**:\n",
    "   - Runtime polymorphism, also known as method overriding, occurs when a method in a subclass has the same name and parameters as a method in its superclass.\n",
    "   - The method in the subclass overrides the method in the superclass, providing a specific implementation for that method.\n",
    "   - When the method is called on an object of the subclass, the overridden method is executed.\n",
    "   - Python fully supports runtime polymorphism, allowing subclasses to override methods inherited from their superclasses. This allows for dynamic dispatch of methods based on the actual type of the object at runtime.\n",
    "\n",
    "In summary, while the concept of polymorphism is applicable in Python, the distinction between compile-time and runtime polymorphism is less explicit due to Python's dynamic nature and lack of strict type checking during compilation. However, the principles of method overriding and inheritance still allow for runtime polymorphism in Python."
   ]
  },
  {
   "cell_type": "markdown",
   "id": "6124b6dc",
   "metadata": {},
   "source": [
    "3. Create a Python class hierarchy for shapes (e.g., circle, square, triangle) and demonstrate polymorphism\n",
    "through a common method, such as `calculate_area()`."
   ]
  },
  {
   "cell_type": "code",
   "execution_count": 71,
   "id": "f33b7b94",
   "metadata": {},
   "outputs": [
    {
     "name": "stdout",
     "output_type": "stream",
     "text": [
      "Area of the circle: 78.5\n",
      "Area of the square: 9\n",
      "Area of the triangle: 56\n"
     ]
    }
   ],
   "source": [
    "class shapes:\n",
    "    def __init__(self):\n",
    "        pass\n",
    "        \n",
    "class circle(shapes):\n",
    "    def __init__(self, radius):\n",
    "        self.radius = radius\n",
    "       \n",
    "    def calculate_area(self, pi = 3.14):\n",
    "        area = pi * self.radius * self.radius\n",
    "        return area\n",
    "    \n",
    "class square(shapes):\n",
    "    \n",
    "    def __init__(self, side_length):\n",
    "        self.side_length = side_length\n",
    "        \n",
    "    def calculate_area(self):\n",
    "        area = self.side_length**2\n",
    "        return area\n",
    "    \n",
    "class triangle:\n",
    "    \n",
    "    def __init__(self, base, height):\n",
    "        self.base = base\n",
    "        self.height = height\n",
    "        \n",
    "    def calculate_area(self):\n",
    "        area = self.base * self.height\n",
    "        return area\n",
    "    \n",
    "obj_1 = circle(5)\n",
    "obj_2 = square(3)\n",
    "obj_3 = triangle(7,8)\n",
    "    \n",
    "print(\"Area of the circle:\", obj_1.calculate_area())  \n",
    "print(\"Area of the square:\", obj_2.calculate_area())  \n",
    "print(\"Area of the triangle:\", obj_3.calculate_area())\n",
    "        "
   ]
  },
  {
   "cell_type": "markdown",
   "id": "fd18edea",
   "metadata": {},
   "source": [
    "4. Explain the concept of method overriding in polymorphism. Provide an example."
   ]
  },
  {
   "cell_type": "markdown",
   "id": "f718ec62",
   "metadata": {},
   "source": [
    "Method overriding is a concept in object-oriented programming (OOP) that allows a subclass to provide a specific implementation of a method that is already defined in its superclass. When a method is overridden in a subclass, the subclass version of the method is executed instead of the superclass version when called on an object of the subclass.\n",
    "\n",
    "Here's a step-by-step explanation of method overriding:\n",
    "\n",
    "1. **Inheritance**: Method overriding is only possible in an inheritance hierarchy, where a subclass inherits methods from its superclass.\n",
    "\n",
    "2. **Same Method Signature**: To override a method in a subclass, the method in the subclass must have the same name, return type, and parameter list as the method in the superclass.\n",
    "\n",
    "3. **Dynamic Dispatch**: The decision of which method to call is made at runtime based on the actual type of the object. This is known as dynamic dispatch or late binding.\n",
    "\n",
    "4. **Subclass-Specific Implementation**: When a method is overridden in a subclass, the subclass provides its own implementation of the method, which may differ from the implementation in the superclass.\n",
    "\n",
    "5. **Access to Superclass Method**: Inside the overridden method, you can still call the superclass method using the `super()` keyword if needed. This allows you to extend or modify the behavior of the superclass method in the subclass.\n"
   ]
  },
  {
   "cell_type": "code",
   "execution_count": 72,
   "id": "b729038c",
   "metadata": {},
   "outputs": [
    {
     "name": "stdout",
     "output_type": "stream",
     "text": [
      "Woof!\n",
      "Meow!\n"
     ]
    }
   ],
   "source": [
    "class Animal:\n",
    "    def make_sound(self):\n",
    "        return \"Some generic sound\"\n",
    "\n",
    "class Dog(Animal):\n",
    "    def make_sound(self):\n",
    "        return \"Woof!\"\n",
    "\n",
    "class Cat(Animal):\n",
    "    def make_sound(self):\n",
    "        return \"Meow!\"\n",
    "\n",
    "\n",
    "animal1 = Dog()\n",
    "animal2 = Cat()\n",
    "\n",
    "print(animal1.make_sound())  \n",
    "print(animal2.make_sound())  \n",
    "\n"
   ]
  },
  {
   "cell_type": "markdown",
   "id": "4f28d6a6",
   "metadata": {},
   "source": [
    "5. How is polymorphism different from method overloading in Python? Provide examples for both."
   ]
  },
  {
   "cell_type": "markdown",
   "id": "49b13d87",
   "metadata": {},
   "source": [
    "In Python, polymorphism and method overloading are related concepts but differ in their implementation and usage.\n",
    "\n",
    "**Polymorphism** refers to the ability of different objects to respond to the same method or function call in different ways. It allows objects of different classes to be treated as objects of a common superclass, providing flexibility and dynamic behavior in code execution.\n",
    "\n",
    "**Method overloading**, on the other hand, refers to defining multiple methods with the same name within a single class, but with different numbers or types of parameters. When a method is overloaded, the appropriate method to call is determined at compile time based on the number and types of arguments passed to it.\n",
    "\n",
    "Here are examples demonstrating both concepts:\n",
    "\n",
    "1. **Polymorphism**:\n",
    "\n",
    "```python\n",
    "class Animal:\n",
    "    def sound(self):\n",
    "        pass\n",
    "\n",
    "class Dog(Animal):\n",
    "    def sound(self):\n",
    "        return \"Woof!\"\n",
    "\n",
    "class Cat(Animal):\n",
    "    def sound(self):\n",
    "        return \"Meow!\"\n",
    "\n",
    "def make_sound(animal):\n",
    "    return animal.sound()\n",
    "\n",
    "# Example usage:\n",
    "dog = Dog()\n",
    "cat = Cat()\n",
    "\n",
    "print(make_sound(dog))  # Output: Woof!\n",
    "print(make_sound(cat))  # Output: Meow!\n",
    "```\n",
    "\n",
    "In this example, both `Dog` and `Cat` classes inherit from the `Animal` class and override the `sound()` method with their own implementations. The `make_sound()` function takes an `Animal` object as an argument and calls its `sound()` method, demonstrating polymorphism.\n",
    "\n",
    "2. **Method Overloading**:\n",
    "\n",
    "```python\n",
    "class Calculator:\n",
    "    def add(self, x, y):\n",
    "        return x + y\n",
    "\n",
    "    def add(self, x, y, z):\n",
    "        return x + y + z\n",
    "\n",
    "# Example usage:\n",
    "calc = Calculator()\n",
    "\n",
    "print(calc.add(2, 3))     # This will raise an error because the last definition of add method overwrites the first one\n",
    "print(calc.add(2, 3, 4))  # Output: 9\n",
    "```\n",
    "\n",
    "In this example, we define two `add()` methods within the `Calculator` class. The second `add()` method overloads the first one by accepting an additional parameter. However, in Python, method overloading like this is not supported directly. The second definition of the `add()` method overwrites the first one, so attempting to call `calc.add(2, 3)` will result in an error because it's missing the required third argument. Therefore, true method overloading is not possible in Python in the same way it is in languages like Java or C++."
   ]
  },
  {
   "cell_type": "markdown",
   "id": "3d242780",
   "metadata": {},
   "source": [
    "6. Create a Python class called `Animal` with a method `speak()`. Then, create child classes like `Dog`, `Cat`, and `Bird`, each with their own `speak()` method. Demonstrate polymorphism by calling the `speak()` method on objects of different subclasses."
   ]
  },
  {
   "cell_type": "code",
   "execution_count": 86,
   "id": "e839adbd",
   "metadata": {},
   "outputs": [
    {
     "name": "stdout",
     "output_type": "stream",
     "text": [
      "Dogs says :  I am a Dog\n",
      "Cat says :  I am a Cat\n",
      "Bird says :  I am a Bird\n"
     ]
    }
   ],
   "source": [
    "class Animal:\n",
    "    \n",
    "    def speak(self):\n",
    "        pass\n",
    "\n",
    "class Dog(Animal):\n",
    "    def speak(self):\n",
    "        return 'I am a Dog'\n",
    "    \n",
    "class Cat(Animal):\n",
    "    def speak(self):\n",
    "        return 'I am a Cat'\n",
    "\n",
    "class Bird(Animal):\n",
    "    def speak(self):\n",
    "        return 'I am a Bird'\n",
    "    \n",
    "obj_1 = Dog()\n",
    "obj_2 = Cat()\n",
    "obj_3 = Bird()\n",
    "print('Dogs says : ', obj_1.speak())\n",
    "print('Cat says : ', obj_2.speak())\n",
    "print('Bird says : ', obj_3.speak())\n",
    "\n",
    "\n",
    "    \n",
    "    \n",
    "    "
   ]
  },
  {
   "cell_type": "markdown",
   "id": "f3298b0f",
   "metadata": {},
   "source": [
    "7. Discuss the use of abstract methods and classes in achieving polymorphism in Python. Provide an example using the `abc` module.\n",
    "\n",
    "An abstract class can be considered a blueprint for other classes. It allows you to create a set of methods that must be created within any child classes built from the abstract class.\n",
    "A class that contains one or more abstract methods is called an abstract class. An abstract method is a method that has a declaration but does not have an implementation.\n",
    "We use an abstract class while we are designing large functional units or when we want to provide a common interface for different implementations of a component. \n",
    "By defining an abstract base class, you can define a common Application Program Interface(API) for a set of subclasses. This capability is especially useful in situations where a third party is going to provide implementations, such as with plugins, but can also help you when working in a large team or with a large code base where keeping all classes in your mind is difficult or not possible. \n",
    "By default, Python does not provide abstract classes. Python comes with a module that provides the base for defining Abstract Base classes(ABC) and that module name is ABC.\n",
    "ABC works by decorating methods of the base class as an abstract and then registering concrete classes as implementations of the abstract base. A method becomes abstract when decorated with the keyword @abstractmethod.\n",
    "\n",
    "In the below example:\n",
    "- The `Animal` class is an abstract base class (ABC) with an abstract method `speak()`. An abstract method is defined using the `@abstractmethod` decorator, and it must be overridden in subclasses.\n",
    "- The `Dog`, `Cat`, and `Bird` classes are concrete subclasses of `Animal` that provide their own implementations of the `speak()` method.\n",
    "- By defining `Animal` as an abstract class with an abstract method, we ensure that any subclass of `Animal` must implement the `speak()` method. This guarantees a common interface across different subclasses, facilitating polymorphism.\n",
    "- Polymorphism is demonstrated by calling the `speak()` method on objects of different subclasses (`dog`, `cat`, and `bird`). Despite calling the same method, each object responds differently based on its specific implementation, showcasing polymorphism."
   ]
  },
  {
   "cell_type": "code",
   "execution_count": 88,
   "id": "3bd3eb09",
   "metadata": {},
   "outputs": [
    {
     "name": "stdout",
     "output_type": "stream",
     "text": [
      "Woof!\n",
      "Meow!\n",
      "Chirp!\n"
     ]
    }
   ],
   "source": [
    "from abc import ABC, abstractmethod\n",
    "\n",
    "class Animal(ABC):\n",
    "    @abstractmethod\n",
    "    def speak(self):\n",
    "        pass\n",
    "\n",
    "class Dog(Animal):\n",
    "    def speak(self):\n",
    "        return \"Woof!\"\n",
    "\n",
    "class Cat(Animal):\n",
    "    def speak(self):\n",
    "        return \"Meow!\"\n",
    "\n",
    "class Bird(Animal):\n",
    "    def speak(self):\n",
    "        return \"Chirp!\"\n",
    "\n",
    "dog = Dog()\n",
    "cat = Cat()\n",
    "bird = Bird()\n",
    "\n",
    "print(dog.speak())  \n",
    "print(cat.speak())  \n",
    "print(bird.speak()) \n"
   ]
  },
  {
   "cell_type": "markdown",
   "id": "2c1fa7b9",
   "metadata": {},
   "source": [
    "8. Create a Python class hierarchy for a vehicle system (e.g., car, bicycle, boat) and implement a polymorphic `start()` method that prints a message specific to each vehicle type."
   ]
  },
  {
   "cell_type": "code",
   "execution_count": 93,
   "id": "6d461469",
   "metadata": {},
   "outputs": [
    {
     "name": "stdout",
     "output_type": "stream",
     "text": [
      "Starting the Toyota. Ignition activated. Fuel type: Petrol.\n",
      "Starting to pedal the Trek. Bicycle type: Mountain.\n",
      "Starting the engine of Yamaha. Propulsion type: Outboard motor.\n"
     ]
    }
   ],
   "source": [
    "class Vehicle:\n",
    "    def __init__(self, name):\n",
    "        self.name = name\n",
    "\n",
    "    def start(self):\n",
    "        return f\"Starting the {self.name}.\"\n",
    "\n",
    "class Car(Vehicle):\n",
    "    def __init__(self, name, fuel_type):\n",
    "        super().__init__(name)\n",
    "        self.fuel_type = fuel_type\n",
    "\n",
    "    def start(self):\n",
    "        return f\"Starting the {self.name}. Ignition activated. Fuel type: {self.fuel_type}.\"\n",
    "\n",
    "class Bicycle(Vehicle):\n",
    "    def __init__(self, name, type):\n",
    "        super().__init__(name)\n",
    "        self.type = type\n",
    "\n",
    "    def start(self):\n",
    "        return f\"Starting to pedal the {self.name}. Bicycle type: {self.type}.\"\n",
    "\n",
    "class Boat(Vehicle):\n",
    "    def __init__(self, name, propulsion):\n",
    "        super().__init__(name)\n",
    "        self.propulsion = propulsion\n",
    "\n",
    "    def start(self):\n",
    "        return f\"Starting the engine of {self.name}. Propulsion type: {self.propulsion}.\"\n",
    "\n",
    "\n",
    "car = Car(\"Toyota\", \"Petrol\")\n",
    "bicycle = Bicycle(\"Trek\", \"Mountain\")\n",
    "boat = Boat(\"Yamaha\", \"Outboard motor\")\n",
    "\n",
    "print(car.start())      \n",
    "print(bicycle.start())  \n",
    "print(boat.start())    \n"
   ]
  },
  {
   "cell_type": "markdown",
   "id": "170f08b4",
   "metadata": {},
   "source": [
    "9. Explain the significance of the `isinstance()` and `issubclass()` functions in Python polymorphism."
   ]
  },
  {
   "cell_type": "markdown",
   "id": "b20779e9",
   "metadata": {},
   "source": [
    "The `isinstance()` and `issubclass()` functions in Python are significant for working with polymorphism by allowing you to check the type or class hierarchy of objects and classes, respectively. They are commonly used to determine if an object belongs to a certain class or if a class is a subclass of another class. These functions are essential for implementing polymorphic behavior in Python.\n",
    "\n",
    "1. **`isinstance()` function**:\n",
    "   - This function is used to check if an object belongs to a specific class or any of its subclasses.\n",
    "   - It takes two arguments: the object to be checked and the class or type to check against.\n",
    "   - It returns `True` if the object is an instance of the specified class or any subclass of it, otherwise returns `False`.\n",
    "   - This function is useful for implementing polymorphic behavior, where the behavior of a function or method can vary depending on the type of object passed to it.\n",
    "\n",
    "2. **`issubclass()` function**:\n",
    "   - This function is used to check if a class is a subclass of another class.\n",
    "   - It takes two arguments: the subclass to be checked and the superclass to check against.\n",
    "   - It returns `True` if the subclass is a subclass of the specified superclass, otherwise returns `False`.\n",
    "   - This function is useful for checking class hierarchies and ensuring that subclasses implement certain methods or behaviors defined in their superclasses.\n",
    "\n",
    "class Animal:\n",
    "    pass\n",
    "\n",
    "class Dog(Animal):\n",
    "    pass\n",
    "\n",
    "class Cat(Animal):\n",
    "    pass\n",
    "\n",
    "dog = Dog()\n",
    "cat = Cat()\n",
    "\n",
    "#isinstance() example\n",
    "print(isinstance(dog, Dog))   # Output: True\n",
    "print(isinstance(dog, Animal))# Output: True\n",
    "print(isinstance(cat, Cat))    # Output: True\n",
    "print(isinstance(cat, Animal)) # Output: True\n",
    "\n",
    "#issubclass() example\n",
    "print(issubclass(Dog, Animal)) # Output: True\n",
    "print(issubclass(Cat, Animal)) # Output: True\n",
    "print(issubclass(Animal, Dog)) # Output: False\n"
   ]
  },
  {
   "cell_type": "markdown",
   "id": "48a7f69c",
   "metadata": {},
   "source": [
    "10. What is the role of the `@abstractmethod` decorator in achieving polymorphism in Python? Provide an\n",
    "example.\n",
    "\n",
    "The `@abstractmethod` decorator from the `abc` (Abstract Base Classes) module in Python plays a crucial role in achieving polymorphism by allowing you to define abstract methods within abstract base classes. Abstract methods are methods defined in a base class but not implemented; instead, they must be overridden in subclasses. This ensures that all subclasses provide their own implementation of the method, facilitating polymorphism.\n"
   ]
  },
  {
   "cell_type": "code",
   "execution_count": 95,
   "id": "e0b5b0d0",
   "metadata": {},
   "outputs": [
    {
     "name": "stdout",
     "output_type": "stream",
     "text": [
      "Area of the circle: 78.5\n",
      "Area of the square: 16\n",
      "Area of the triangle: 9.0\n"
     ]
    }
   ],
   "source": [
    "from abc import ABC, abstractmethod\n",
    "\n",
    "class Shape(ABC):\n",
    "    @abstractmethod\n",
    "    def calculate_area(self):\n",
    "        pass\n",
    "\n",
    "class Circle(Shape):\n",
    "    def __init__(self, radius):\n",
    "        self.radius = radius\n",
    "\n",
    "    def calculate_area(self):\n",
    "        return 3.14 * self.radius ** 2\n",
    "\n",
    "class Square(Shape):\n",
    "    def __init__(self, side_length):\n",
    "        self.side_length = side_length\n",
    "\n",
    "    def calculate_area(self):\n",
    "        return self.side_length ** 2\n",
    "\n",
    "class Triangle(Shape):\n",
    "    def __init__(self, base, height):\n",
    "        self.base = base\n",
    "        self.height = height\n",
    "\n",
    "    def calculate_area(self):\n",
    "        return 0.5 * self.base * self.height\n",
    "\n",
    "\n",
    "circle = Circle(5)\n",
    "square = Square(4)\n",
    "triangle = Triangle(3, 6)\n",
    "\n",
    "print(\"Area of the circle:\", circle.calculate_area())   \n",
    "print(\"Area of the square:\", square.calculate_area())   \n",
    "print(\"Area of the triangle:\", triangle.calculate_area())\n"
   ]
  },
  {
   "cell_type": "markdown",
   "id": "d904fe8f",
   "metadata": {},
   "source": [
    "11. Create a Python class called `Shape` with a polymorphic method `area()` that calculates the area of different shapes (e.g., circle, rectangle, triangle)."
   ]
  },
  {
   "cell_type": "code",
   "execution_count": 96,
   "id": "93c4bf9e",
   "metadata": {},
   "outputs": [
    {
     "name": "stdout",
     "output_type": "stream",
     "text": [
      "Area of the circle: 78.53981633974483\n",
      "Area of the rectangle: 24\n",
      "Area of the triangle: 9.0\n"
     ]
    }
   ],
   "source": [
    "import math\n",
    "\n",
    "class Shape:\n",
    "    def area(self):\n",
    "        pass\n",
    "\n",
    "class Circle(Shape):\n",
    "    def __init__(self, radius):\n",
    "        self.radius = radius\n",
    "\n",
    "    def area(self):\n",
    "        return math.pi * self.radius ** 2\n",
    "\n",
    "class Rectangle(Shape):\n",
    "    def __init__(self, length, width):\n",
    "        self.length = length\n",
    "        self.width = width\n",
    "\n",
    "    def area(self):\n",
    "        return self.length * self.width\n",
    "\n",
    "class Triangle(Shape):\n",
    "    def __init__(self, base, height):\n",
    "        self.base = base\n",
    "        self.height = height\n",
    "\n",
    "    def area(self):\n",
    "        return 0.5 * self.base * self.height\n",
    "\n",
    "# Example usage:\n",
    "circle = Circle(5)\n",
    "rectangle = Rectangle(4, 6)\n",
    "triangle = Triangle(3, 6)\n",
    "\n",
    "print(\"Area of the circle:\", circle.area())       # Output: Area of the circle: 78.53981633974483\n",
    "print(\"Area of the rectangle:\", rectangle.area()) # Output: Area of the rectangle: 24\n",
    "print(\"Area of the triangle:\", triangle.area())   # Output: Area of the triangle: 9.0\n"
   ]
  },
  {
   "cell_type": "markdown",
   "id": "4f36b0b2",
   "metadata": {},
   "source": [
    "12. Discuss the benefits of polymorphism in terms of code reusability and flexibility in Python programs."
   ]
  },
  {
   "cell_type": "markdown",
   "id": "6d0b0b4f",
   "metadata": {},
   "source": [
    "Polymorphism in Python offers several benefits in terms of code reusability and flexibility, making it a powerful concept in object-oriented programming. Here are some of the key advantages:\n",
    "\n",
    "1. **Code Reusability**: Polymorphism allows you to write reusable code that can work with objects of different types, classes, or interfaces. This means that once you define a common interface or superclass, you can create multiple subclasses that provide their own specific implementations. This promotes code reuse and reduces redundancy by allowing you to leverage existing code across different parts of your program.\n",
    "\n",
    "2. **Flexibility**: Polymorphism enhances the flexibility of your code by enabling you to write more generic and modular programs. You can design your code to interact with objects based on their common interface rather than their specific implementations. This means that you can easily swap out different implementations without affecting the overall functionality of your code. It also allows for easier maintenance and future modifications, as changes to one part of the codebase are less likely to have ripple effects on other parts.\n",
    "\n",
    "3. **Simplified Design**: Polymorphism encourages a more modular and simplified design approach by promoting loose coupling between components. By defining common interfaces or superclass methods, you can decouple different parts of your program, making them more independent and easier to understand. This also facilitates testing and debugging, as individual components can be tested in isolation without relying on the specifics of other components.\n",
    "\n",
    "4. **Extensibility**: Polymorphism makes it easier to extend the functionality of your codebase by adding new subclasses or implementations. Since existing code interacts with objects based on their common interface, adding new implementations does not require modifying existing code. This promotes a more agile and scalable development process, allowing you to quickly adapt to changing requirements or add new features without disrupting existing functionality.\n",
    "\n",
    "5. **Enhanced Readability**: Polymorphism can improve the readability of your code by promoting a more intuitive and concise design. By using common interfaces and superclass methods, the intent of your code becomes clearer, making it easier for other developers to understand and maintain. This can lead to better collaboration and more maintainable codebases over time.\n",
    "\n",
    "Overall, polymorphism in Python promotes code reusability, flexibility, and maintainability, leading to more efficient and scalable software development. It encourages modular and extensible designs that are easier to understand, modify, and extend, making it a valuable concept for building robust and adaptable Python programs."
   ]
  },
  {
   "cell_type": "markdown",
   "id": "175f8cb3",
   "metadata": {},
   "source": [
    "13. Explain the use of the `super()` function in Python polymorphism. How does it help call methods of parent\n",
    "classes?"
   ]
  },
  {
   "cell_type": "markdown",
   "id": "3aea3612",
   "metadata": {},
   "source": [
    "In Python, the `super()` function plays a vital role in achieving polymorphism by allowing you to call methods or access attributes from the superclass within a subclass. It provides a way to invoke methods or constructors from the superclass, facilitating code reuse and ensuring that the behavior of the superclass is preserved in subclasses.\n",
    "\n",
    "Here's how `super()` helps call methods of parent classes in the context of polymorphism:\n",
    "\n",
    "1. **Accessing Methods of Parent Classes**:\n",
    "   - When a method is overridden in a subclass, you may still want to access and execute the method from the superclass within the overridden method of the subclass.\n",
    "   - The `super()` function allows you to do this by providing a proxy object that delegates method calls to the superclass of the current class.\n",
    "\n",
    "2. **Maintaining the Method Resolution Order (MRO)**:\n",
    "   - Python follows the Method Resolution Order (MRO) to determine the order in which methods are resolved or called in inheritance hierarchies.\n",
    "   - The `super()` function automatically takes care of resolving methods according to the MRO, ensuring that the method is called from the correct superclass.\n",
    "\n",
    "3. **Support for Multiple Inheritance**:\n",
    "   - In the case of multiple inheritance, where a subclass inherits from multiple superclasses, `super()` helps in invoking methods from the next class in the MRO.\n",
    "   - It ensures that methods are called in a consistent and predictable manner, regardless of the complexity of the inheritance hierarchy.\n",
    "\n",
    "Here's an example demonstrating the use of `super()` to call methods of parent classes:\n",
    "\n",
    "```python\n",
    "class Parent:\n",
    "    def show(self):\n",
    "        print(\"Parent method\")\n",
    "\n",
    "class Child(Parent):\n",
    "    def show(self):\n",
    "        super().show()  # Call the show() method of the Parent class\n",
    "        print(\"Child method\")\n",
    "\n",
    "# Example usage:\n",
    "child = Child()\n",
    "child.show()\n",
    "\n",
    "# Output:\n",
    "# Parent method\n",
    "# Child method\n",
    "```\n",
    "\n",
    "In this example:\n",
    "- The `Child` class inherits from the `Parent` class.\n",
    "- The `show()` method is overridden in the `Child` class, but within the overridden method, `super().show()` is used to call the `show()` method of the `Parent` class first before executing the additional functionality defined in the `Child` class.\n",
    "- This ensures that the behavior of the `Parent` class is preserved and extended in the `Child` class, demonstrating the use of `super()` in achieving polymorphism."
   ]
  },
  {
   "cell_type": "markdown",
   "id": "d9dcb5c2",
   "metadata": {},
   "source": [
    "14. Create a Python class hierarchy for a banking system with various account types (e.g., savings, checking, credit card) and demonstrate polymorphism by implementing a common `withdraw()` method."
   ]
  },
  {
   "cell_type": "code",
   "execution_count": 97,
   "id": "f9901adc",
   "metadata": {},
   "outputs": [
    {
     "name": "stdout",
     "output_type": "stream",
     "text": [
      "Withdrew 500. Current balance: 500\n",
      "Withdrew 300. Current balance: 200\n",
      "Withdrew 500 using credit. Current balance: -300\n"
     ]
    }
   ],
   "source": [
    "class Account:\n",
    "    def __init__(self, account_number, balance=0):\n",
    "        self.account_number = account_number\n",
    "        self.balance = balance\n",
    "\n",
    "    def deposit(self, amount):\n",
    "        self.balance += amount\n",
    "        return f\"Deposited {amount}. Current balance: {self.balance}\"\n",
    "\n",
    "    def withdraw(self, amount):\n",
    "        if amount <= self.balance:\n",
    "            self.balance -= amount\n",
    "            return f\"Withdrew {amount}. Current balance: {self.balance}\"\n",
    "        else:\n",
    "            return \"Insufficient funds\"\n",
    "\n",
    "    def __str__(self):\n",
    "        return f\"Account Number: {self.account_number}, Balance: {self.balance}\"\n",
    "\n",
    "class SavingsAccount(Account):\n",
    "    def __init__(self, account_number, balance=0, interest_rate=0.01):\n",
    "        super().__init__(account_number, balance)\n",
    "        self.interest_rate = interest_rate\n",
    "\n",
    "    def add_interest(self):\n",
    "        interest = self.balance * self.interest_rate\n",
    "        self.balance += interest\n",
    "        return f\"Added interest. Current balance: {self.balance}\"\n",
    "\n",
    "class CheckingAccount(Account):\n",
    "    def __init__(self, account_number, balance=0, overdraft_limit=100):\n",
    "        super().__init__(account_number, balance)\n",
    "        self.overdraft_limit = overdraft_limit\n",
    "\n",
    "    def withdraw(self, amount):\n",
    "        if amount <= self.balance + self.overdraft_limit:\n",
    "            self.balance -= amount\n",
    "            return f\"Withdrew {amount}. Current balance: {self.balance}\"\n",
    "        else:\n",
    "            return \"Exceeded overdraft limit\"\n",
    "\n",
    "class CreditCard(Account):\n",
    "    def __init__(self, account_number, balance=0, credit_limit=1000):\n",
    "        super().__init__(account_number, balance)\n",
    "        self.credit_limit = credit_limit\n",
    "\n",
    "    def withdraw(self, amount):\n",
    "        if amount <= self.balance + self.credit_limit:\n",
    "            self.balance -= amount\n",
    "            return f\"Withdrew {amount} using credit. Current balance: {self.balance}\"\n",
    "        else:\n",
    "            return \"Exceeded credit limit\"\n",
    "\n",
    "\n",
    "savings_account = SavingsAccount(\"SA001\", 1000)\n",
    "print(savings_account.withdraw(500))\n",
    "\n",
    "checking_account = CheckingAccount(\"CA001\", 500, 200)\n",
    "print(checking_account.withdraw(300))\n",
    "\n",
    "credit_card = CreditCard(\"CC001\", 200, 1000)\n",
    "print(credit_card.withdraw(500))\n",
    "\n",
    "\n",
    "#In this example:\n",
    "#- The `Account` class serves as the base class representing a generic bank account with methods for depositing and withdrawing money.\n",
    "#- The `SavingsAccount`, `CheckingAccount`, and `CreditCard` classes are subclasses of `Account` representing specific types of #bank accounts with additional functionality specific to each type.\n",
    "#- Each subclass overrides the `withdraw()` method with its own implementation to handle withdrawals differently based on the #account type.\n",
    "#- Polymorphism is demonstrated by calling the `withdraw()` method on objects of different subclasses (`savings_account`, #`checking_account`, and `credit_card`). Despite calling the same method, each object responds differently based on its specific #implementation, showcasing polymorphism."
   ]
  },
  {
   "cell_type": "markdown",
   "id": "95b3c2ff",
   "metadata": {},
   "source": [
    "15. Describe the concept of operator overloading in Python and how it relates to polymorphism. Provide\n",
    "examples using operators like `+` and `*`.\n",
    "\n",
    "\n",
    "Operator overloading in Python refers to the ability to define custom behavior for operators such as `+`, `-`, `*`, `/`, and others, depending on the types of operands involved. This allows objects of user-defined classes to support standard Python operators, enabling more intuitive and concise code.\n",
    "\n",
    "Operator overloading is closely related to polymorphism because it allows objects of different classes to respond to the same operator in different ways. This facilitates polymorphic behavior by enabling the same operator to perform different actions depending on the types of operands involved. In other words, the behavior of an operator can vary depending on the types of objects it operates on, promoting flexibility and code reuse.\n",
    "\n",
    "Here's how operator overloading relates to polymorphism:\n",
    "\n",
    "1. **Multiple Implementations**: Different classes can define their own implementations of operators such as `+`, `-`, `*`, etc., allowing objects of those classes to behave differently when these operators are applied to them.\n",
    "\n",
    "2. **Dynamic Dispatch**: When an operator is applied to objects of different classes, Python dynamically dispatches the appropriate implementation of the operator based on the types of the operands, similar to how polymorphism works with method calls.\n",
    "\n",
    "3. **Consistent Interface**: Operator overloading provides a consistent interface for interacting with objects of different classes, making code more readable and intuitive. This consistency promotes polymorphic behavior by allowing the same operator to be used with different types of objects interchangeably.\n",
    "\n"
   ]
  },
  {
   "cell_type": "code",
   "execution_count": 98,
   "id": "91c498fc",
   "metadata": {},
   "outputs": [
    {
     "name": "stdout",
     "output_type": "stream",
     "text": [
      "(3, 7)\n",
      "(4, 6)\n"
     ]
    }
   ],
   "source": [
    "class Vector:\n",
    "    def __init__(self, x, y):\n",
    "        self.x = x\n",
    "        self.y = y\n",
    "\n",
    "    def __add__(self, other):  # Overloading the '+' operator\n",
    "        return Vector(self.x + other.x, self.y + other.y)\n",
    "\n",
    "    def __mul__(self, scalar):  # Overloading the '*' operator\n",
    "        return Vector(self.x * scalar, self.y * scalar)\n",
    "\n",
    "    def __str__(self):\n",
    "        return f\"({self.x}, {self.y})\"\n",
    "\n",
    "\n",
    "v1 = Vector(2, 3)\n",
    "v2 = Vector(1, 4)\n",
    "\n",
    "print(v1 + v2)  # Output: (3, 7)\n",
    "\n",
    "v3 = v1 * 2\n",
    "print(v3)       # Output: (4, 6)\n",
    "\n",
    "\n",
    "#In this example:\n",
    "#- We define a `Vector` class representing a 2D vector with `x` and `y` components.\n",
    "#- We overload the `+` and `*` operators to define custom behavior for adding vectors and scaling vectors by a scalar.\n",
    "#- The `__add__()` method is called when the `+` operator is used with `Vector` objects, and the `__mul__()` method is called #when the `*` operator is used with a `Vector` object and a scalar.\n",
    "#- Operator overloading allows us to use the `+` and `*` operators with `Vector` objects just like with built-in numeric types, #demonstrating polymorphic behavior."
   ]
  },
  {
   "cell_type": "markdown",
   "id": "2f0c8546",
   "metadata": {},
   "source": [
    "16. What is dynamic polymorphism, and how is it achieved in Python?"
   ]
  },
  {
   "cell_type": "markdown",
   "id": "b5cdb487",
   "metadata": {},
   "source": [
    "Dynamic polymorphism, also known as runtime polymorphism, is a type of polymorphism in which the actual method or function call is resolved or determined at runtime rather than compile time. This allows different objects to respond to the same message or method call in different ways based on their specific implementations. Dynamic polymorphism enables flexibility and extensibility in object-oriented programs by promoting loose coupling and enabling code reuse.\n",
    "\n",
    "In Python, dynamic polymorphism is achieved primarily through method overriding and inheritance, along with the use of concepts such as duck typing and the `super()` function. Here's how dynamic polymorphism is achieved in Python:\n",
    "\n",
    "1. **Method Overriding**: Subclasses can override methods defined in their superclass, providing their own implementations. When a method is called on an object, Python dynamically dispatches the call to the appropriate implementation based on the actual type of the object at runtime.\n",
    "\n",
    "2. **Inheritance**: Python supports single and multiple inheritance, allowing subclasses to inherit attributes and methods from their superclass(es). This enables objects of different classes to respond to the same message or method call in different ways, based on their place in the class hierarchy.\n",
    "\n",
    "3. **Duck Typing**: Python follows the principle of \"duck typing,\" which means that the suitability of an object for a particular operation is determined by the presence of certain methods or attributes, rather than its specific type. This allows different types of objects to be treated interchangeably if they support the required interface.\n",
    "\n",
    "4. **`super()` Function**: The `super()` function allows subclasses to invoke methods or constructors from their superclass, facilitating method chaining and ensuring that the behavior of the superclass is preserved in subclasses. This promotes dynamic polymorphism by enabling subclasses to access and extend the behavior of their superclass at runtime.\n",
    "\n",
    "Overall, dynamic polymorphism in Python allows for flexible and extensible object-oriented programming, where the behavior of objects can vary dynamically based on their specific types and method implementations. This promotes code reuse, modularity, and maintainability in Python programs."
   ]
  },
  {
   "cell_type": "markdown",
   "id": "db4ccade",
   "metadata": {},
   "source": [
    "17. Create a Python class hierarchy for employees in a company (e.g., manager, developer, designer) and implement polymorphism through a common `calculate_salary()` method."
   ]
  },
  {
   "cell_type": "code",
   "execution_count": 99,
   "id": "a2afb0b4",
   "metadata": {},
   "outputs": [
    {
     "name": "stdout",
     "output_type": "stream",
     "text": [
      "John's salary: $8000\n",
      "Alice's salary: $8000\n",
      "Bob's salary: $5000\n"
     ]
    }
   ],
   "source": [
    "class Employee:\n",
    "    def __init__(self, name, role):\n",
    "        self.name = name\n",
    "        self.role = role\n",
    "\n",
    "    def calculate_salary(self):\n",
    "        raise NotImplementedError(\"Subclasses must implement calculate_salary method\")\n",
    "\n",
    "class Manager(Employee):\n",
    "    def __init__(self, name, salary):\n",
    "        super().__init__(name, \"Manager\")\n",
    "        self.salary = salary\n",
    "\n",
    "    def calculate_salary(self):\n",
    "        return self.salary\n",
    "\n",
    "class Developer(Employee):\n",
    "    def __init__(self, name, hours_worked, hourly_rate):\n",
    "        super().__init__(name, \"Developer\")\n",
    "        self.hours_worked = hours_worked\n",
    "        self.hourly_rate = hourly_rate\n",
    "\n",
    "    def calculate_salary(self):\n",
    "        return self.hours_worked * self.hourly_rate\n",
    "\n",
    "class Designer(Employee):\n",
    "    def __init__(self, name, project_completed, bonus_per_project):\n",
    "        super().__init__(name, \"Designer\")\n",
    "        self.project_completed = project_completed\n",
    "        self.bonus_per_project = bonus_per_project\n",
    "\n",
    "    def calculate_salary(self):\n",
    "        return self.project_completed * self.bonus_per_project\n",
    "\n",
    "\n",
    "manager = Manager(\"John\", 8000)\n",
    "developer = Developer(\"Alice\", 160, 50)\n",
    "designer = Designer(\"Bob\", 5, 1000)\n",
    "\n",
    "print(f\"{manager.name}'s salary: ${manager.calculate_salary()}\")\n",
    "print(f\"{developer.name}'s salary: ${developer.calculate_salary()}\")\n",
    "print(f\"{designer.name}'s salary: ${designer.calculate_salary()}\")\n",
    "\n",
    "\n",
    "#In this example:\n",
    "#- The `Employee` class serves as the base class representing a generic employee with an abstract method `calculate_salary()`.\n",
    "#- The `Manager`, `Developer`, and `Designer` classes are subclasses of `Employee` representing specific types of employees with #different salary calculation methods.\n",
    "#- Each subclass overrides the `calculate_salary()` method with its own implementation specific to the type of employee.\n",
    "#- Polymorphism is demonstrated by calling the `calculate_salary()` method on objects of different subclasses (`manager`, #`developer`, and `designer`). Despite calling the same method, each object responds differently based on its specific #implementation, showcasing polymorphism."
   ]
  },
  {
   "cell_type": "markdown",
   "id": "284ca481",
   "metadata": {},
   "source": [
    "18. Discuss the concept of function pointers and how they can be used to achieve polymorphism in Python."
   ]
  },
  {
   "cell_type": "markdown",
   "id": "d09ec619",
   "metadata": {},
   "source": [
    "Function pointers, also known as first-class functions or callable objects, are references to functions that can be passed around as arguments, stored in data structures, and returned from other functions. In Python, functions are first-class citizens, meaning they can be assigned to variables, passed as arguments to other functions, and returned from other functions just like any other object. This enables powerful programming paradigms, including polymorphism.\n",
    "\n",
    "Polymorphism refers to the ability of different objects to respond to the same message or method call in different ways. In Python, polymorphism can be achieved through function pointers by defining functions that accept callable objects (functions or methods) as arguments. This allows the same function to operate on different types of objects, leading to polymorphic behavior.\n",
    "\n",
    "Here's how function pointers can be used to achieve polymorphism in Python:\n",
    "\n",
    "1. **Accepting Callable Objects as Arguments**: Functions can accept callable objects as arguments, allowing them to operate on different types of objects. By passing different functions or methods as arguments, the behavior of the function can vary dynamically based on the type of callable object passed.\n",
    "\n",
    "2. **Dynamic Dispatch**: When a function is called with a callable object as an argument, Python dynamically dispatches the call to the appropriate implementation of the callable object based on its type. This enables different types of objects to respond to the same function call in different ways, leading to polymorphic behavior.\n",
    "\n",
    "3. **Flexible and Extensible Design**: By defining functions that accept callable objects as arguments, you can create flexible and extensible designs that promote code reuse and modularity. This allows you to write generic functions that can operate on a wide range of objects, enabling polymorphic behavior without explicitly implementing polymorphism in the traditional object-oriented sense.\n",
    "\n",
    "Here's a simple example demonstrating how function pointers can achieve polymorphism in Python:\n",
    "\n",
    "```python\n",
    "def calculate_area(shape_func, *args):\n",
    "    return shape_func(*args)\n",
    "\n",
    "def square_area(side_length):\n",
    "    return side_length ** 2\n",
    "\n",
    "def circle_area(radius):\n",
    "    return 3.14 * radius ** 2\n",
    "\n",
    "# Example usage:\n",
    "print(\"Area of square:\", calculate_area(square_area, 5))\n",
    "print(\"Area of circle:\", calculate_area(circle_area, 3))\n",
    "```\n",
    "\n",
    "In this example:\n",
    "- The `calculate_area()` function accepts a callable object (`shape_func`) as its first argument and any additional arguments (`*args`) required by the callable object.\n",
    "- The `square_area()` and `circle_area()` functions are defined as callable objects that calculate the area of a square and a circle, respectively.\n",
    "- Polymorphism is achieved by passing different callable objects (`square_area` and `circle_area`) to the `calculate_area()` function. Despite calling the same function (`calculate_area()`), each object responds differently based on its specific implementation, showcasing polymorphic behavior."
   ]
  },
  {
   "cell_type": "markdown",
   "id": "ddbbae0c",
   "metadata": {},
   "source": [
    "19. Explain the role of interfaces and abstract classes in polymorphism, drawing comparisons between them."
   ]
  },
  {
   "cell_type": "markdown",
   "id": "bc9afa57",
   "metadata": {},
   "source": [
    "In Python, interfaces and abstract classes play crucial roles in achieving polymorphism, allowing different objects to respond to the same method calls in different ways. Let's delve into the specifics of each and then draw comparisons between them:\n",
    "\n",
    "### Abstract Classes:\n",
    "\n",
    "1. **Definition**:\n",
    "   - Abstract classes in Python are classes that contain one or more abstract methods, which are methods without implementations.\n",
    "   - Abstract classes cannot be instantiated directly; they serve as blueprints for other classes and provide common functionality that subclasses can inherit and override.\n",
    "\n",
    "2. **Usage**:\n",
    "   - Abstract classes are defined using the `abc` module, where the `abstractmethod` decorator is used to mark methods as abstract.\n",
    "   - Subclasses of abstract classes must provide implementations for all abstract methods, or they themselves must be declared abstract.\n",
    "\n",
    "3. **Role in Polymorphism**:\n",
    "   - Abstract classes define a common interface for subclasses to adhere to, ensuring that all subclasses provide certain methods with specified behavior.\n",
    "   - Polymorphism is achieved by calling methods on instances of different subclasses that inherit from the same abstract class. Despite calling the same method, each subclass provides its own implementation, leading to polymorphic behavior.\n",
    "\n",
    "4. **Example**:\n",
    "   ```python\n",
    "   from abc import ABC, abstractmethod\n",
    "\n",
    "   class Shape(ABC):\n",
    "       @abstractmethod\n",
    "       def area(self):\n",
    "           pass\n",
    "\n",
    "   class Circle(Shape):\n",
    "       def __init__(self, radius):\n",
    "           self.radius = radius\n",
    "       def area(self):\n",
    "           return 3.14 * self.radius ** 2\n",
    "\n",
    "   class Rectangle(Shape):\n",
    "       def __init__(self, width, height):\n",
    "           self.width = width\n",
    "           self.height = height\n",
    "       def area(self):\n",
    "           return self.width * self.height\n",
    "   ```\n",
    "\n",
    "### Interfaces:\n",
    "\n",
    "1. **Definition**:\n",
    "   - Interfaces in Python are classes that define a set of methods without any implementations. They serve as contracts for classes, specifying what methods must be implemented.\n",
    "   - Unlike abstract classes, interfaces do not contain any method implementations; they only declare method signatures.\n",
    "\n",
    "2. **Usage**:\n",
    "   - Interfaces can be defined by creating a class with method declarations but no method implementations.\n",
    "   - Classes that implement an interface must provide concrete implementations for all methods declared in the interface.\n",
    "\n",
    "3. **Role in Polymorphism**:\n",
    "   - Interfaces provide a common interface that multiple classes can implement, ensuring that they all provide the same set of methods with consistent behavior.\n",
    "   - Polymorphism is achieved by treating objects of different classes that implement the same interface interchangeably. Despite being instances of different classes, they can all respond to the same method calls defined in the interface.\n",
    "\n",
    "4. **Example**:\n",
    "   ```python\n",
    "   class Shape:\n",
    "       def area(self):\n",
    "           raise NotImplementedError(\"Subclasses must implement area method\")\n",
    "\n",
    "   class Circle(Shape):\n",
    "       def __init__(self, radius):\n",
    "           self.radius = radius\n",
    "       def area(self):\n",
    "           return 3.14 * self.radius ** 2\n",
    "\n",
    "   class Rectangle(Shape):\n",
    "       def __init__(self, width, height):\n",
    "           self.width = width\n",
    "           self.height = height\n",
    "       def area(self):\n",
    "           return self.width * self.height\n",
    "   ```\n",
    "\n",
    "### Comparison:\n",
    "\n",
    "- **Implementation**:\n",
    "  - Abstract classes are implemented using the `abc` module in Python, whereas interfaces are implemented using regular classes with method declarations.\n",
    "- **Method Implementations**:\n",
    "  - Abstract classes can contain method implementations in addition to abstract methods, whereas interfaces only contain method declarations without any implementations.\n",
    "- **Inheritance**:\n",
    "  - Abstract classes support inheritance, allowing subclasses to inherit methods and attributes, whereas interfaces do not support inheritance directly.\n",
    "- **Multiple Implementations**:\n",
    "  - A class can inherit from multiple abstract classes, but it cannot implement multiple interfaces directly. However, Python supports multiple inheritance, so a class can implement multiple interfaces through inheritance from multiple parent classes.\n",
    "\n",
    "In summary, both abstract classes and interfaces play important roles in achieving polymorphism in Python. Abstract classes provide a blueprint for classes to inherit and override methods, while interfaces define a contract that classes must adhere to by implementing specified methods. The choice between them depends on the specific requirements and design goals of the application."
   ]
  },
  {
   "cell_type": "markdown",
   "id": "ee186b1c",
   "metadata": {},
   "source": [
    "20. Create a Python class for a zoo simulation, demonstrating polymorphism with different animal types (e.g., mammals, birds, reptiles) and their behavior (e.g., eating, sleeping, making sounds)."
   ]
  },
  {
   "cell_type": "code",
   "execution_count": 102,
   "id": "c4812a0e",
   "metadata": {},
   "outputs": [
    {
     "name": "stdout",
     "output_type": "stream",
     "text": [
      "Lion the mammal is eating\n",
      "Eagle the bird is sleeping\n",
      "Snake the reptile hisses\n",
      "Lion the mammal is sleeping\n"
     ]
    }
   ],
   "source": [
    "class Animal:\n",
    "    def __init__(self, name):\n",
    "        self.name = name\n",
    "\n",
    "    def eat(self):\n",
    "        pass\n",
    "\n",
    "    def sleep(self):\n",
    "        pass\n",
    "\n",
    "    def make_sound(self):\n",
    "        pass\n",
    "\n",
    "class Mammal(Animal):\n",
    "    def eat(self):\n",
    "        return f\"{self.name} the mammal is eating\"\n",
    "\n",
    "    def sleep(self):\n",
    "        return f\"{self.name} the mammal is sleeping\"\n",
    "\n",
    "    def make_sound(self):\n",
    "        return f\"{self.name} the mammal makes a sound\"\n",
    "\n",
    "class Bird(Animal):\n",
    "    def eat(self):\n",
    "        return f\"{self.name} the bird is eating\"\n",
    "\n",
    "    def sleep(self):\n",
    "        return f\"{self.name} the bird is sleeping\"\n",
    "\n",
    "    def make_sound(self):\n",
    "        return f\"{self.name} the bird chirps\"\n",
    "\n",
    "class Reptile(Animal):\n",
    "    def eat(self):\n",
    "        return f\"{self.name} the reptile is eating\"\n",
    "\n",
    "    def sleep(self):\n",
    "        return f\"{self.name} the reptile is sleeping\"\n",
    "\n",
    "    def make_sound(self):\n",
    "        return f\"{self.name} the reptile hisses\"\n",
    "\n",
    "\n",
    "mammal = Mammal(\"Lion\")\n",
    "bird = Bird(\"Eagle\")\n",
    "reptile = Reptile(\"Snake\")\n",
    "\n",
    "print(mammal.eat())\n",
    "print(bird.sleep())\n",
    "print(reptile.make_sound())\n",
    "print(mammal.sleep())\n",
    "\n",
    "\n",
    "#In this example:\n",
    "#- The `Animal` class serves as the base class representing a generic animal with methods for eating, sleeping, and making sounds. These methods are marked as abstract and must be overridden by subclasses.\n",
    "#- The `Mammal`, `Bird`, and `Reptile` classes are subclasses of `Animal`, representing specific types of animals with different implementations of the `eat()`, `sleep()`, and `make_sound()` methods.\n",
    "#- Each subclass overrides the methods inherited from the `Animal` class with its own implementation specific to the type of animal.\n",
    "#- Polymorphism is demonstrated by calling the methods on objects of different subclasses (`mammal`, `bird`, and `reptile`). Despite calling the same method, each object responds differently based on its specific implementation, showcasing polymorphic behavior."
   ]
  },
  {
   "cell_type": "code",
   "execution_count": null,
   "id": "0c0acb7f",
   "metadata": {},
   "outputs": [],
   "source": []
  },
  {
   "cell_type": "code",
   "execution_count": null,
   "id": "9f56ee84",
   "metadata": {},
   "outputs": [],
   "source": []
  },
  {
   "cell_type": "markdown",
   "id": "d4f15308",
   "metadata": {},
   "source": [
    "## Abstraction:"
   ]
  },
  {
   "cell_type": "markdown",
   "id": "fe91ca0a",
   "metadata": {},
   "source": [
    "1. What is abstraction in Python, and how does it relate to object-oriented programming?"
   ]
  },
  {
   "cell_type": "markdown",
   "id": "a0cb04a4",
   "metadata": {},
   "source": [
    "Abstraction in Python, as well as in object-oriented programming (OOP) in general, refers to the concept of hiding the complex implementation details of a system and exposing only the necessary functionalities or interfaces to the outside world. It allows developers to focus on the essential aspects of an object or system while hiding the irrelevant details.\n",
    "\n",
    "In Python, abstraction is often achieved through classes and objects. Classes serve as blueprints for creating objects, and they encapsulate data (attributes) and behaviors (methods). By defining classes with well-defined interfaces, developers can hide the internal implementation details of those classes from users, thus providing a level of abstraction.\n",
    "\n",
    "Abstraction helps in simplifying the complexities of a system, making it easier to understand, use, and maintain. It also promotes code reusability and modularity by allowing different components of a system to interact through well-defined interfaces without having to understand each other's internal workings.\n",
    "\n",
    "For example, consider a `Car` class in Python:\n",
    "\n",
    "```python\n",
    "class Car:\n",
    "    def __init__(self, make, model, year):\n",
    "        self.make = make\n",
    "        self.model = model\n",
    "        self.year = year\n",
    "    \n",
    "    def start_engine(self):\n",
    "        print(f\"{self.make} {self.model} engine started.\")\n",
    "    \n",
    "    def drive(self):\n",
    "        print(f\"{self.make} {self.model} is now driving.\")\n",
    "```\n",
    "\n",
    "Here, the `Car` class abstracts the concept of a car. Users of this class don't need to know how the engine starts or how driving is implemented internally; they just need to know the public interface provided by the class (`start_engine()` and `drive()` methods).\n",
    "\n",
    "Abstraction, therefore, plays a crucial role in making object-oriented programming more manageable, maintainable, and scalable."
   ]
  },
  {
   "cell_type": "markdown",
   "id": "65c8603b",
   "metadata": {},
   "source": [
    "2. Describe the benefits of abstraction in terms of code organization and complexity reduction."
   ]
  },
  {
   "cell_type": "markdown",
   "id": "011274ac",
   "metadata": {},
   "source": [
    "Abstraction offers several benefits in terms of code organization and complexity reduction:\n",
    "\n",
    "1. **Encapsulation**: Abstraction allows you to encapsulate the implementation details within classes, hiding unnecessary complexities from the outside world. This promotes information hiding and reduces the chances of unintended interference or misuse of the internal components of a system.\n",
    "\n",
    "2. **Modularity**: Abstraction facilitates modularity by breaking down a complex system into smaller, manageable units (classes or modules). Each unit can be developed, tested, and maintained independently, making the overall system easier to understand and modify.\n",
    "\n",
    "3. **Code Reusability**: By providing well-defined interfaces, abstraction encourages code reuse. Once a class or module has been implemented and tested, it can be reused in different parts of the system or even in other projects, saving development time and effort.\n",
    "\n",
    "4. **Maintainability**: Abstraction improves code maintainability by isolating changes. If the internal implementation of a class needs to be modified, other parts of the system that use the class's interface are unaffected as long as the interface remains unchanged. This reduces the risk of introducing bugs during maintenance and makes it easier to update or extend the system over time.\n",
    "\n",
    "5. **Understanding and Communication**: Abstraction helps in understanding and communicating the system's architecture and design. By focusing on high-level concepts and interfaces rather than low-level implementation details, developers can easily grasp the structure and functionality of the system, enabling better collaboration and knowledge sharing among team members.\n",
    "\n",
    "6. **Scalability**: As the size and complexity of a project increase, abstraction becomes essential for managing the complexity. By abstracting away unnecessary details, developers can maintain a clear separation of concerns and prevent the system from becoming overly complex and difficult to manage.\n",
    "\n",
    "In summary, abstraction plays a crucial role in organizing code, reducing complexity, promoting modularity and reusability, enhancing maintainability, facilitating communication, and ensuring scalability in software development projects."
   ]
  },
  {
   "cell_type": "markdown",
   "id": "aa7fdb80",
   "metadata": {},
   "source": [
    "3. Create a Python class called `Shape` with an abstract method `calculate_area()`. Then, create child classes (e.g., `Circle`, `Rectangle`) that implement the `calculate_area()` method. Provide an example of using these classes.\n"
   ]
  },
  {
   "cell_type": "markdown",
   "id": "b5c54a54",
   "metadata": {},
   "source": [
    "Here's a Python implementation of the `Shape` class with an abstract method `calculate_area()`, along with child classes `Circle` and `Rectangle` that implement the method:\n",
    "\n",
    "```python\n",
    "from abc import ABC, abstractmethod\n",
    "import math\n",
    "\n",
    "class Shape(ABC):\n",
    "    @abstractmethod\n",
    "    def calculate_area(self):\n",
    "        pass\n",
    "\n",
    "class Circle(Shape):\n",
    "    def __init__(self, radius):\n",
    "        self.radius = radius\n",
    "\n",
    "    def calculate_area(self):\n",
    "        return math.pi * self.radius ** 2\n",
    "\n",
    "class Rectangle(Shape):\n",
    "    def __init__(self, width, height):\n",
    "        self.width = width\n",
    "        self.height = height\n",
    "\n",
    "    def calculate_area(self):\n",
    "        return self.width * self.height\n",
    "\n",
    "# Example usage:\n",
    "circle = Circle(5)\n",
    "print(\"Area of the circle:\", circle.calculate_area())\n",
    "\n",
    "rectangle = Rectangle(4, 6)\n",
    "print(\"Area of the rectangle:\", rectangle.calculate_area())\n",
    "```\n",
    "\n",
    "In this example:\n",
    "\n",
    "- We define an abstract class `Shape` with an abstract method `calculate_area()`. This method is meant to be implemented by the child classes.\n",
    "- We define child classes `Circle` and `Rectangle`, each implementing the `calculate_area()` method according to the specific formula for calculating the area of a circle and rectangle, respectively.\n",
    "- We then create instances of `Circle` and `Rectangle` and demonstrate how to use their `calculate_area()` methods to compute the areas of specific shapes."
   ]
  },
  {
   "cell_type": "markdown",
   "id": "3ddea8d1",
   "metadata": {},
   "source": [
    "4. Explain the concept of abstract classes in Python and how they are defined using the `abc` module. Provide\n",
    "an example."
   ]
  },
  {
   "cell_type": "markdown",
   "id": "a80004cb",
   "metadata": {},
   "source": [
    "In Python, abstract classes are classes that cannot be instantiated directly. Instead, they are meant to be used as base classes for other classes. Abstract classes often contain one or more abstract methods, which are methods declared but not implemented in the abstract class itself. Subclasses of abstract classes are required to implement these abstract methods, providing their own implementations.\n",
    "\n",
    "The `abc` (Abstract Base Classes) module in Python provides tools for defining and working with abstract classes. Abstract classes are created by subclassing the `ABC` (Abstract Base Class) class from the `abc` module. Abstract methods are defined using the `@abstractmethod` decorator from the `abc` module, indicating that the method must be implemented by subclasses.\n",
    "\n",
    "Here's an example demonstrating the concept of abstract classes in Python using the `abc` module:\n",
    "\n",
    "```python\n",
    "from abc import ABC, abstractmethod\n",
    "\n",
    "class Animal(ABC):  # Abstract base class\n",
    "    def __init__(self, name):\n",
    "        self.name = name\n",
    "\n",
    "    @abstractmethod\n",
    "    def make_sound(self):\n",
    "        pass\n",
    "\n",
    "class Dog(Animal):  # Concrete subclass of Animal\n",
    "    def make_sound(self):\n",
    "        return \"Woof!\"\n",
    "\n",
    "class Cat(Animal):  # Concrete subclass of Animal\n",
    "    def make_sound(self):\n",
    "        return \"Meow!\"\n",
    "\n",
    "# Instantiate concrete subclasses\n",
    "dog = Dog(\"Buddy\")\n",
    "cat = Cat(\"Whiskers\")\n",
    "\n",
    "# Call make_sound method on concrete subclasses\n",
    "print(dog.make_sound())  # Output: Woof!\n",
    "print(cat.make_sound())  # Output: Meow!\n",
    "```\n",
    "\n",
    "In this example:\n",
    "\n",
    "- `Animal` is an abstract base class defined by subclassing `ABC` from the `abc` module.\n",
    "- `Animal` has one abstract method `make_sound()`, which is declared using the `@abstractmethod` decorator. Subclasses of `Animal` must implement this method.\n",
    "- `Dog` and `Cat` are concrete subclasses of `Animal`. They provide implementations for the abstract method `make_sound()`.\n",
    "- Instances of `Dog` and `Cat` can be created and their `make_sound()` methods can be called. Since they provide implementations for the abstract method, no `TypeError` is raised."
   ]
  },
  {
   "cell_type": "markdown",
   "id": "c43c8147",
   "metadata": {},
   "source": [
    "5. How do abstract classes differ from regular classes in Python? Discuss their use cases."
   ]
  },
  {
   "cell_type": "markdown",
   "id": "6f5b444c",
   "metadata": {},
   "source": [
    "Abstract classes and regular classes in Python differ in several key aspects:\n",
    "\n",
    "1. **Instantiation**: Abstract classes cannot be instantiated directly, meaning you cannot create objects of an abstract class. Regular classes, on the other hand, can be instantiated, allowing you to create objects of those classes.\n",
    "\n",
    "2. **Abstract Methods**: Abstract classes may contain abstract methods, which are methods declared but not implemented in the abstract class itself. Subclasses of abstract classes must provide concrete implementations for all abstract methods. Regular classes do not have abstract methods, and all methods must be implemented.\n",
    "\n",
    "3. **Purpose**: Abstract classes are typically used as base classes from which other classes can inherit common functionality. They serve as templates for subclasses to implement specific behaviors. Regular classes are used to create objects that have specific attributes and behaviors defined within the class.\n",
    "\n",
    "4. **Enforcement**: Abstract classes can enforce the implementation of specific methods by subclasses through the use of abstract methods. Regular classes do not enforce any specific method implementation requirements on subclasses.\n",
    "\n",
    "5. **Direct Use**: Abstract classes are not meant to be used directly. They are intended to be subclassed, and their abstract methods implemented, before they can be instantiated. Regular classes can be used directly to create objects.\n",
    "\n",
    "Use cases for abstract classes include:\n",
    "\n",
    "- **Defining Interfaces**: Abstract classes can define interfaces by declaring abstract methods that must be implemented by subclasses. This allows for consistency and standardization in the behavior of related classes.\n",
    "\n",
    "- **Code Reuse**: Abstract classes can encapsulate common functionality that is shared among multiple subclasses. By providing a base class with abstract methods, you can ensure that subclasses share a common interface while allowing them to provide customized implementations.\n",
    "\n",
    "- **Enforcing Contracts**: Abstract classes can enforce contracts by specifying the methods that subclasses must implement. This ensures that subclasses adhere to a certain API or behavior, making the code more reliable and maintainable.\n",
    "\n",
    "- **Polymorphism**: Abstract classes facilitate polymorphism, allowing different subclasses to be treated interchangeably through their common interface. This promotes flexibility and extensibility in the codebase.\n",
    "\n",
    "Regular classes, on the other hand, are used when you want to create concrete objects with specific attributes and behaviors, without the need for subclassing or implementing abstract methods. They are suitable for modeling real-world entities or implementing specific functionality within a system."
   ]
  },
  {
   "cell_type": "markdown",
   "id": "b829696b",
   "metadata": {},
   "source": [
    "6. Create a Python class for a bank account and demonstrate abstraction by hiding the account balance and providing methods to deposit and withdraw funds."
   ]
  },
  {
   "cell_type": "code",
   "execution_count": 103,
   "id": "276d9a99",
   "metadata": {},
   "outputs": [
    {
     "name": "stdout",
     "output_type": "stream",
     "text": [
      "Initial balance: 1000\n",
      "Deposited $500. New balance: $1500\n",
      "Withdrew $200. New balance: $1300\n",
      "Current balance: 1300\n"
     ]
    }
   ],
   "source": [
    "class BankAccount:\n",
    "    def __init__(self, account_number, initial_balance=0):\n",
    "        self._account_number = account_number         # Account number\n",
    "        self._balance = initial_balance              # Initial balance\n",
    "    \n",
    "    def deposit(self, amount):\n",
    "        \"\"\"Deposit funds into the account.\"\"\"\n",
    "        if amount > 0:\n",
    "            self._balance += amount\n",
    "            print(f\"Deposited ${amount}. New balance: ${self._balance}\")\n",
    "        else:\n",
    "            print(\"Invalid deposit amount. Amount must be greater than 0.\")\n",
    "    \n",
    "    def withdraw(self, amount):\n",
    "        \"\"\"Withdraw funds from the account.\"\"\"\n",
    "        if 0 < amount <= self._balance:\n",
    "            self._balance -= amount\n",
    "            print(f\"Withdrew ${amount}. New balance: ${self._balance}\")\n",
    "        else:\n",
    "            print(\"Insufficient funds or invalid withdrawal amount.\")\n",
    "    \n",
    "    def get_balance(self):\n",
    "        \"\"\"Get the current balance of the account.\"\"\"\n",
    "        return self._balance\n",
    "    \n",
    "    def get_account_number(self):\n",
    "        \"\"\"Get the account number.\"\"\"\n",
    "        return self._account_number\n",
    "\n",
    "\n",
    "account = BankAccount(\"1234567890\", 1000)\n",
    "print(\"Initial balance:\", account.get_balance())  # Output: 1000\n",
    "\n",
    "account.deposit(500)  # Output: Deposited $500. New balance: $1500\n",
    "account.withdraw(200)  # Output: Withdrew $200. New balance: $1300\n",
    "\n",
    "print(\"Current balance:\", account.get_balance())  # Output: 1300\n"
   ]
  },
  {
   "cell_type": "markdown",
   "id": "553ab6f7",
   "metadata": {},
   "source": [
    "7. Discuss the concept of interface classes in Python and their role in achieving abstraction."
   ]
  },
  {
   "cell_type": "markdown",
   "id": "21350ebb",
   "metadata": {},
   "source": [
    "In Python, interface classes are classes that define a set of methods without providing any implementation details. They serve as a blueprint or contract that specifies the behavior expected from classes that implement the interface. While Python doesn't have a built-in interface keyword like some other programming languages (e.g., Java), interfaces can be achieved using abstract base classes (ABCs) from the `abc` module or through informal conventions.\n",
    "\n",
    "Interface classes play a crucial role in achieving abstraction by:\n",
    "\n",
    "1. **Defining Contracts**: Interface classes define contracts that specify the methods that implementing classes must provide. By defining a clear interface, interface classes establish a set of rules or requirements that implementing classes must adhere to, promoting consistency and interoperability.\n",
    "\n",
    "2. **Enforcing Polymorphism**: Interface classes facilitate polymorphism by allowing different classes to be treated interchangeably based on their shared interface. Code that interacts with objects through their interfaces can work with any class that implements the interface, without needing to know the specific implementation details of each class.\n",
    "\n",
    "3. **Hiding Implementation Details**: Interface classes hide the implementation details of the methods they define. Users of the interface only need to know what methods are available and what parameters they expect, without being concerned with how those methods are implemented. This allows for a higher level of abstraction and encapsulation.\n",
    "\n",
    "4. **Promoting Code Reusability**: Interface classes promote code reusability by defining common sets of methods that can be implemented by multiple classes. This allows developers to create interchangeable components that can be easily reused in different contexts, reducing duplication and promoting modular design.\n",
    "\n",
    "5. **Facilitating Testing and Mocking**: Interface classes make it easier to test and mock components in isolation. By defining interfaces, developers can create mock implementations of those interfaces for testing purposes, allowing them to isolate the behavior of individual components and test them independently.\n",
    "\n",
    "6. **Encouraging Loose Coupling**: Interface classes encourage loose coupling between components by focusing on interactions through well-defined interfaces rather than direct dependencies on concrete implementations. This promotes flexibility and maintainability, as components can be replaced or modified without affecting other parts of the system.\n",
    "\n",
    "Overall, interface classes in Python play a crucial role in achieving abstraction by defining contracts, promoting polymorphism, hiding implementation details, promoting code reusability, facilitating testing and mocking, and encouraging loose coupling between components. They are essential tools for building flexible, modular, and maintainable software systems."
   ]
  },
  {
   "cell_type": "markdown",
   "id": "ceaa0829",
   "metadata": {},
   "source": [
    "8. Create a Python class hierarchy for animals and implement abstraction by defining common methods (e.g., `eat()`, `sleep()`) in an abstract base class.\n"
   ]
  },
  {
   "cell_type": "code",
   "execution_count": 105,
   "id": "7db96152",
   "metadata": {},
   "outputs": [
    {
     "name": "stdout",
     "output_type": "stream",
     "text": [
      "Woof!\n",
      "Buddy the dog is running.\n",
      "Buddy the dog is eating.\n",
      "Buddy the dog is sleeping.\n",
      "Meow!\n",
      "Whiskers the cat is walking.\n",
      "Whiskers the cat is eating.\n",
      "Whiskers the cat is sleeping.\n",
      "Tweet!\n",
      "Tweety the bird is flying.\n",
      "Tweety the bird is eating.\n",
      "Tweety the bird is sleeping.\n"
     ]
    }
   ],
   "source": [
    "from abc import ABC, abstractmethod\n",
    "\n",
    "class Animal(ABC):\n",
    "    def __init__(self, name, species):\n",
    "        self.name = name\n",
    "        self.species = species\n",
    "    \n",
    "    @abstractmethod\n",
    "    def make_sound(self):\n",
    "        pass\n",
    "    \n",
    "    @abstractmethod\n",
    "    def move(self):\n",
    "        pass\n",
    "    \n",
    "    @abstractmethod\n",
    "    def eat(self):\n",
    "        pass\n",
    "    \n",
    "    @abstractmethod\n",
    "    def sleep(self):\n",
    "        pass\n",
    "\n",
    "class Dog(Animal):\n",
    "    def make_sound(self):\n",
    "        return \"Woof!\"\n",
    "    \n",
    "    def move(self):\n",
    "        return f\"{self.name} the dog is running.\"\n",
    "    \n",
    "    def eat(self):\n",
    "        return f\"{self.name} the dog is eating.\"\n",
    "    \n",
    "    def sleep(self):\n",
    "        return f\"{self.name} the dog is sleeping.\"\n",
    "\n",
    "class Cat(Animal):\n",
    "    def make_sound(self):\n",
    "        return \"Meow!\"\n",
    "    \n",
    "    def move(self):\n",
    "        return f\"{self.name} the cat is walking.\"\n",
    "    \n",
    "    def eat(self):\n",
    "        return f\"{self.name} the cat is eating.\"\n",
    "    \n",
    "    def sleep(self):\n",
    "        return f\"{self.name} the cat is sleeping.\"\n",
    "\n",
    "class Bird(Animal):\n",
    "    def make_sound(self):\n",
    "        return \"Tweet!\"\n",
    "    \n",
    "    def move(self):\n",
    "        return f\"{self.name} the bird is flying.\"\n",
    "    \n",
    "    def eat(self):\n",
    "        return f\"{self.name} the bird is eating.\"\n",
    "    \n",
    "    def sleep(self):\n",
    "        return f\"{self.name} the bird is sleeping.\"\n",
    "\n",
    "\n",
    "\n",
    "dog = Dog(\"Buddy\", \"Dog\")\n",
    "print(dog.make_sound())  # Output: Woof!\n",
    "print(dog.move())        # Output: Buddy the dog is running.\n",
    "print(dog.eat())         # Output: Buddy the dog is eating.\n",
    "print(dog.sleep())       # Output: Buddy the dog is sleeping.\n",
    "\n",
    "cat = Cat(\"Whiskers\", \"Cat\")\n",
    "print(cat.make_sound())  # Output: Meow!\n",
    "print(cat.move())        # Output: Whiskers the cat is walking.\n",
    "print(cat.eat())         # Output: Whiskers the cat is eating.\n",
    "print(cat.sleep())       # Output: Whiskers the cat is sleeping.\n",
    "\n",
    "bird = Bird(\"Tweety\", \"Bird\")\n",
    "print(bird.make_sound())  # Output: Tweet!\n",
    "print(bird.move())        # Output: Tweety the bird is flying.\n",
    "print(bird.eat())         # Output: Tweety the bird is eating.\n",
    "print(bird.sleep())       # Output: Tweety the bird is sleeping.\n",
    "\n",
    "\n"
   ]
  },
  {
   "cell_type": "markdown",
   "id": "ecd22d93",
   "metadata": {},
   "source": [
    "9. Explain the significance of encapsulation in achieving abstraction. Provide examples."
   ]
  },
  {
   "cell_type": "markdown",
   "id": "fa7751f6",
   "metadata": {},
   "source": [
    "Encapsulation is a fundamental concept in object-oriented programming that involves bundling data (attributes) and methods (functions) that operate on the data into a single unit, called a class. Encapsulation helps in achieving abstraction by hiding the internal state and implementation details of an object from the outside world. This allows for better control over how the object's data is accessed and modified, promoting modularity, security, and maintainability.\n",
    "\n",
    "The significance of encapsulation in achieving abstraction can be understood through the following points:\n",
    "\n",
    "1. **Hiding Implementation Details**: Encapsulation allows the internal implementation details of a class to be hidden from the outside world. By defining attributes as private or protected and providing access to them through methods, encapsulation ensures that the internal state of an object is not directly accessible or modifiable by external code.\n",
    "\n",
    "2. **Providing a Clear Interface**: Encapsulation provides a clear and well-defined interface through which external code can interact with objects. By exposing only necessary methods for accessing and modifying data, encapsulation hides the complexity of the underlying implementation, making it easier to use and understand the class.\n",
    "\n",
    "3. **Preventing Unintended Modifications**: Encapsulation helps in preventing unintended modifications to an object's internal state. By controlling access to data through methods, encapsulation allows for validation and error-checking logic to be implemented, ensuring that data is always in a valid and consistent state.\n",
    "\n",
    "4. **Promoting Code Reusability**: Encapsulation promotes code reusability by encapsulating related data and behaviors within a single class. This makes it easier to reuse the class in different parts of a program or in different programs altogether, without needing to understand or modify the internal implementation.\n",
    "\n",
    "5. **Enhancing Security**: Encapsulation enhances security by hiding sensitive data and providing controlled access to it. By exposing only necessary methods for interacting with the data, encapsulation helps in preventing unauthorized access or modification of sensitive information.\n",
    "\n",
    "6. **Facilitating Maintenance and Refactoring**: Encapsulation makes it easier to maintain and refactor code by localizing changes to a single class. Changes to the internal implementation of a class can be made without affecting the external code that interacts with it, as long as the class's interface remains unchanged.\n",
    "\n",
    "Here's a simple example demonstrating encapsulation in Python:\n",
    "\n",
    "```python\n",
    "class Car:\n",
    "    def __init__(self, make, model, year):\n",
    "        self._make = make  # Encapsulation: hiding attributes\n",
    "        self._model = model\n",
    "        self._year = year\n",
    "    \n",
    "    def get_make(self):  # Encapsulation: providing controlled access\n",
    "        return self._make\n",
    "    \n",
    "    def set_make(self, make):  # Encapsulation: validation and error-checking\n",
    "        if isinstance(make, str):\n",
    "            self._make = make\n",
    "        else:\n",
    "            print(\"Invalid make. Please provide a string value.\")\n",
    "\n",
    "# Usage:\n",
    "car = Car(\"Toyota\", \"Camry\", 2022)\n",
    "print(car.get_make())  # Output: Toyota\n",
    "car.set_make(\"Honda\")\n",
    "print(car.get_make())  # Output: Honda\n",
    "car.set_make(123)       # Output: Invalid make. Please provide a string value.\n",
    "``` \n",
    "\n",
    "In this example, the `Car` class encapsulates the attributes `make`, `model`, and `year` within the class, hiding them from direct access. Access to the `make` attribute is provided through the `get_make()` method, and modifications are controlled through the `set_make()` method, which includes validation logic to ensure that the provided value is of the correct type."
   ]
  },
  {
   "cell_type": "markdown",
   "id": "810394d6",
   "metadata": {},
   "source": [
    "10. What is the purpose of abstract methods, and how do they enforce abstraction in Python classes?"
   ]
  },
  {
   "cell_type": "markdown",
   "id": "05055f33",
   "metadata": {},
   "source": [
    "The purpose of abstract methods in Python is to define methods in an abstract base class (ABC) that must be implemented by concrete subclasses. Abstract methods serve as placeholders for methods that provide a common interface but have different implementations depending on the specific subclass. They enforce abstraction by ensuring that subclasses provide their own implementation for these methods, thus establishing a contract between the abstract base class and its subclasses.\n",
    "\n",
    "Abstract methods enforce abstraction in Python classes in the following ways:\n",
    "\n",
    "1. **Defining Interfaces**: Abstract methods define interfaces by specifying the methods that concrete subclasses must implement. This ensures consistency in the behavior of related classes, promoting interoperability and code reuse.\n",
    "\n",
    "2. **Forcing Implementation**: Abstract methods force subclasses to implement specific functionality. If a subclass fails to provide an implementation for an abstract method defined in the abstract base class, an error will be raised when attempting to instantiate the subclass. This helps in avoiding incomplete or inconsistent implementations.\n",
    "\n",
    "3. **Providing Structure**: Abstract methods provide structure by outlining the expected behavior of subclasses. By defining abstract methods in an abstract base class, developers can clearly document the required functionality that subclasses must provide, making it easier to understand and use the class hierarchy.\n",
    "\n",
    "4. **Enabling Polymorphism**: Abstract methods enable polymorphism by allowing different subclasses to be treated interchangeably through their common interface. Code that interacts with objects through the abstract base class can work with any subclass that implements the required abstract methods, without needing to know the specific implementation details of each subclass.\n",
    "\n",
    "5. **Facilitating Design Patterns**: Abstract methods facilitate the implementation of design patterns such as the Template Method pattern and the Strategy pattern, where the abstract base class defines a skeleton algorithm or behavior with some steps implemented as abstract methods that subclasses must fill in with their own implementations.\n",
    "\n",
    "In summary, abstract methods play a crucial role in enforcing abstraction in Python classes by defining interfaces, forcing implementation in subclasses, providing structure, enabling polymorphism, and facilitating the implementation of design patterns. They help in creating flexible and extensible class hierarchies that promote code reuse and maintainability."
   ]
  },
  {
   "cell_type": "markdown",
   "id": "34ecb257",
   "metadata": {},
   "source": [
    "11. Create a Python class for a vehicle system and demonstrate abstraction by defining common methods (e.g., `start()`, `stop()`) in an abstract base class."
   ]
  },
  {
   "cell_type": "code",
   "execution_count": 106,
   "id": "99d122a5",
   "metadata": {},
   "outputs": [
    {
     "name": "stdout",
     "output_type": "stream",
     "text": [
      "Starting the Toyota Camry car.\n",
      "Stopping the Toyota Camry car.\n",
      "Starting the Honda CBR600RR motorcycle.\n",
      "Stopping the Honda CBR600RR motorcycle.\n"
     ]
    }
   ],
   "source": [
    "from abc import ABC, abstractmethod\n",
    "\n",
    "class Vehicle(ABC):\n",
    "    def __init__(self, brand, model):\n",
    "        self.brand = brand\n",
    "        self.model = model\n",
    "    \n",
    "    @abstractmethod\n",
    "    def start(self):\n",
    "        pass\n",
    "    \n",
    "    @abstractmethod\n",
    "    def stop(self):\n",
    "        pass\n",
    "\n",
    "class Car(Vehicle):\n",
    "    def start(self):\n",
    "        return f\"Starting the {self.brand} {self.model} car.\"\n",
    "    \n",
    "    def stop(self):\n",
    "        return f\"Stopping the {self.brand} {self.model} car.\"\n",
    "\n",
    "class Motorcycle(Vehicle):\n",
    "    def start(self):\n",
    "        return f\"Starting the {self.brand} {self.model} motorcycle.\"\n",
    "    \n",
    "    def stop(self):\n",
    "        return f\"Stopping the {self.brand} {self.model} motorcycle.\"\n",
    "\n",
    "\n",
    "car = Car(\"Toyota\", \"Camry\")\n",
    "print(car.start())  # Output: Starting the Toyota Camry car.\n",
    "print(car.stop())   # Output: Stopping the Toyota Camry car.\n",
    "\n",
    "motorcycle = Motorcycle(\"Honda\", \"CBR600RR\")\n",
    "print(motorcycle.start())  # Output: Starting the Honda CBR600RR motorcycle.\n",
    "print(motorcycle.stop())   # Output: Stopping the Honda CBR600RR motorcycle.\n"
   ]
  },
  {
   "cell_type": "markdown",
   "id": "e92132b6",
   "metadata": {},
   "source": [
    "12. Describe the use of abstract properties in Python and how they can be employed in abstract classes."
   ]
  },
  {
   "cell_type": "markdown",
   "id": "104b52e1",
   "metadata": {},
   "source": [
    "Abstract properties in Python are properties defined in abstract base classes (ABCs) that must be implemented by concrete subclasses. They provide a way to define attributes without specifying their implementation, allowing subclasses to provide their own implementations based on their specific requirements.\n",
    "\n",
    "To use abstract properties in Python, you need to import the `abstractmethod` decorator from the `abc` module and apply it to the property's getter method in the abstract base class. This indicates that the property is abstract and must be implemented by subclasses. Subclasses are then required to provide their own implementations for the abstract properties.\n",
    "\n",
    "In the below example:\n",
    "- We define an abstract base class `Vehicle` with an abstract property `top_speed`.\n",
    "- The `Car` and `Motorcycle` classes inherit from the `Vehicle` class and provide concrete implementations for the `top_speed` property.\n",
    "- The `@abstractmethod` decorator is applied to the `top_speed` property getter method in the `Vehicle` class, indicating that it is abstract and must be implemented by subclasses.\n",
    "- Subclasses `Car` and `Motorcycle` override the `top_speed` property getter method to provide their own implementations based on their specific top speeds.\n",
    "\n",
    "Abstract properties allow for the definition of a common interface for attributes in abstract base classes while allowing subclasses to customize the implementation as needed. They promote code reuse and maintainability by enforcing a consistent interface across subclasses."
   ]
  },
  {
   "cell_type": "code",
   "execution_count": 107,
   "id": "94aa4141",
   "metadata": {},
   "outputs": [
    {
     "name": "stdout",
     "output_type": "stream",
     "text": [
      "150\n",
      "180\n"
     ]
    }
   ],
   "source": [
    "from abc import ABC, abstractmethod\n",
    "\n",
    "class Vehicle(ABC):\n",
    "    def __init__(self, brand, model):\n",
    "        self.brand = brand\n",
    "        self.model = model\n",
    "    \n",
    "    @property\n",
    "    @abstractmethod\n",
    "    def top_speed(self):\n",
    "        pass\n",
    "\n",
    "class Car(Vehicle):\n",
    "    def __init__(self, brand, model, top_speed):\n",
    "        super().__init__(brand, model)\n",
    "        self._top_speed = top_speed\n",
    "    \n",
    "    @property\n",
    "    def top_speed(self):\n",
    "        return self._top_speed\n",
    "\n",
    "class Motorcycle(Vehicle):\n",
    "    def __init__(self, brand, model, top_speed):\n",
    "        super().__init__(brand, model)\n",
    "        self._top_speed = top_speed\n",
    "    \n",
    "    @property\n",
    "    def top_speed(self):\n",
    "        return self._top_speed\n",
    "\n",
    "\n",
    "car = Car(\"Toyota\", \"Camry\", 150)\n",
    "print(car.top_speed)  # Output: 150\n",
    "\n",
    "motorcycle = Motorcycle(\"Honda\", \"CBR600RR\", 180)\n",
    "print(motorcycle.top_speed)  # Output: 180\n"
   ]
  },
  {
   "cell_type": "markdown",
   "id": "a4b20476",
   "metadata": {},
   "source": [
    "13. Create a Python class hierarchy for employees in a company (e.g., manager, developer, designer) and implement abstraction by defining a common `get_salary()` method."
   ]
  },
  {
   "cell_type": "code",
   "execution_count": 108,
   "id": "aa7e496a",
   "metadata": {},
   "outputs": [
    {
     "name": "stdout",
     "output_type": "stream",
     "text": [
      "5000\n",
      "8000\n",
      "6000\n"
     ]
    }
   ],
   "source": [
    "from abc import ABC, abstractmethod\n",
    "\n",
    "class Employee(ABC):\n",
    "    def __init__(self, name, employee_id):\n",
    "        self.name = name\n",
    "        self.employee_id = employee_id\n",
    "    \n",
    "    @abstractmethod\n",
    "    def get_salary(self):\n",
    "        pass\n",
    "\n",
    "class Manager(Employee):\n",
    "    def __init__(self, name, employee_id, salary):\n",
    "        super().__init__(name, employee_id)\n",
    "        self.salary = salary\n",
    "    \n",
    "    def get_salary(self):\n",
    "        return self.salary\n",
    "\n",
    "class Developer(Employee):\n",
    "    def __init__(self, name, employee_id, hourly_rate, hours_worked):\n",
    "        super().__init__(name, employee_id)\n",
    "        self.hourly_rate = hourly_rate\n",
    "        self.hours_worked = hours_worked\n",
    "    \n",
    "    def get_salary(self):\n",
    "        return self.hourly_rate * self.hours_worked\n",
    "\n",
    "class Designer(Employee):\n",
    "    def __init__(self, name, employee_id, monthly_salary):\n",
    "        super().__init__(name, employee_id)\n",
    "        self.monthly_salary = monthly_salary\n",
    "    \n",
    "    def get_salary(self):\n",
    "        return self.monthly_salary\n",
    "\n",
    "\n",
    "manager = Manager(\"John Doe\", 101, 5000)\n",
    "print(manager.get_salary())  # Output: 5000\n",
    "\n",
    "developer = Developer(\"Jane Smith\", 102, 50, 160)\n",
    "print(developer.get_salary())  # Output: 8000 (assuming 160 hours worked at $50/hour)\n",
    "\n",
    "designer = Designer(\"Alice Johnson\", 103, 6000)\n",
    "print(designer.get_salary())  # Output: 6000\n"
   ]
  },
  {
   "cell_type": "markdown",
   "id": "cda6f6ae",
   "metadata": {},
   "source": [
    "14. Discuss the differences between abstract classes and concrete classes in Python, including their\n",
    "instantiation."
   ]
  },
  {
   "cell_type": "markdown",
   "id": "21adfec7",
   "metadata": {},
   "source": [
    "In Python, abstract classes and concrete classes are two different types of classes that serve distinct purposes and have different characteristics:\n",
    "\n",
    "1. **Abstract Classes**:\n",
    "   - Abstract classes are classes that cannot be instantiated directly.\n",
    "   - They serve as templates or blueprints for other classes and typically contain one or more abstract methods that must be implemented by concrete subclasses.\n",
    "   - Abstract classes are defined using the `abc` module in Python, and they are meant to be subclassed rather than instantiated.\n",
    "   - Abstract classes are used to define common interfaces and behavior that can be shared among multiple subclasses.\n",
    "   - Abstract classes enforce abstraction and provide a way to define common methods or attributes without specifying their implementation.\n",
    "   - Example: `ABC` from the `abc` module is used to define abstract base classes, and abstract methods are marked using the `@abstractmethod` decorator.\n",
    "\n",
    "2. **Concrete Classes**:\n",
    "   - Concrete classes are classes that can be instantiated directly to create objects.\n",
    "   - They provide concrete implementations for all methods and attributes defined in the class.\n",
    "   - Concrete classes can inherit from abstract classes and provide implementations for any abstract methods defined in the abstract base class.\n",
    "   - Concrete classes are used to create objects with specific attributes and behaviors, and they can be instantiated and used directly in code.\n",
    "   - Example: Classes like `list`, `str`, and `int` are concrete classes in Python, as they can be instantiated to create objects of list, string, and integer types, respectively.\n",
    "\n",
    "**Differences**:\n",
    "\n",
    "- **Instantiation**: Abstract classes cannot be instantiated directly, while concrete classes can be instantiated to create objects.\n",
    "- **Implementation**: Abstract classes may contain one or more abstract methods that must be implemented by concrete subclasses, while concrete classes provide concrete implementations for all methods and attributes.\n",
    "- **Purpose**: Abstract classes define common interfaces and behavior that can be shared among multiple subclasses, while concrete classes define specific attributes and behaviors for creating objects.\n",
    "- **Usage**: Abstract classes are used as base classes for inheritance and cannot be used directly, while concrete classes are used to create objects with specific attributes and behaviors.\n",
    "- **Enforcement**: Abstract classes enforce abstraction by defining common methods or attributes without specifying their implementation, while concrete classes provide concrete implementations for all methods and attributes.\n",
    "\n",
    "In summary, abstract classes and concrete classes serve different purposes in Python, with abstract classes providing a way to define common interfaces and enforce abstraction, while concrete classes provide specific implementations for creating objects."
   ]
  },
  {
   "cell_type": "markdown",
   "id": "584f20f7",
   "metadata": {},
   "source": [
    "15. Explain the concept of abstract data types (ADTs) and their role in achieving abstraction in Python."
   ]
  },
  {
   "cell_type": "markdown",
   "id": "9b367eb5",
   "metadata": {},
   "source": [
    "Abstract Data Types (ADTs) are a theoretical concept in computer science that define a set of data and operations on that data, without specifying how those operations are implemented. ADTs provide a high-level abstraction that allows programmers to work with data structures and algorithms without needing to know the details of their internal implementation. Instead, ADTs focus on the interface or contract provided by the data structure, specifying what operations are allowed and what their properties are.\n",
    "\n",
    "In Python, ADTs are often implemented using classes, where the class defines the data structure and methods provide operations on that data. By encapsulating the data and operations within a class, ADTs provide a way to abstract away the implementation details and focus on the high-level behavior of the data structure.\n",
    "\n",
    "The role of ADTs in achieving abstraction in Python includes:\n",
    "\n",
    "1. **Hiding Implementation Details**: ADTs hide the internal implementation details of data structures, allowing users to interact with the data through a well-defined interface. This abstraction shields users from the complexity of the underlying implementation and promotes modularity and code reuse.\n",
    "\n",
    "2. **Defining Interfaces**: ADTs define interfaces that specify the operations that can be performed on the data structure and their properties. By defining a clear interface, ADTs establish a contract between the data structure and its users, promoting consistency and interoperability.\n",
    "\n",
    "3. **Promoting Code Reusability**: ADTs promote code reusability by providing reusable components that can be used in different contexts. By encapsulating data and operations within a class, ADTs allow the same data structure to be used across different parts of a program or in different programs altogether.\n",
    "\n",
    "4. **Enabling Algorithm Design**: ADTs provide a high-level abstraction that enables algorithm design and analysis without needing to know the specific implementation details of data structures. This allows programmers to focus on the algorithmic complexity and behavior of algorithms rather than the specifics of data structure implementations.\n",
    "\n",
    "5. **Facilitating Testing and Maintenance**: ADTs facilitate testing and maintenance by providing a well-defined interface for interacting with data structures. Testing can be performed at the level of the interface, allowing for easier validation of correctness and behavior. Additionally, maintenance becomes easier as changes to the internal implementation can be made without affecting the external interface as long as the interface remains unchanged.\n",
    "\n",
    "Overall, abstract data types play a crucial role in achieving abstraction in Python by hiding implementation details, defining interfaces, promoting code reusability, enabling algorithm design, and facilitating testing and maintenance. They provide a powerful tool for designing modular, maintainable, and scalable software systems."
   ]
  },
  {
   "cell_type": "markdown",
   "id": "2707eb6b",
   "metadata": {},
   "source": [
    "16. Create a Python class for a computer system, demonstrating abstraction by defining common methods (e.g., `power_on()`, `shutdown()`) in an abstract base class."
   ]
  },
  {
   "cell_type": "code",
   "execution_count": 109,
   "id": "f063c857",
   "metadata": {},
   "outputs": [
    {
     "name": "stdout",
     "output_type": "stream",
     "text": [
      "Powering on the Dell XPS 15 laptop.\n",
      "Shutting down the Dell XPS 15 laptop.\n",
      "Booting up the HP Pavilion desktop.\n",
      "Shutting down the HP Pavilion desktop.\n"
     ]
    }
   ],
   "source": [
    "\n",
    "from abc import ABC, abstractmethod\n",
    "\n",
    "class Computer(ABC):\n",
    "    def __init__(self, brand, model):\n",
    "        self.brand = brand\n",
    "        self.model = model\n",
    "    \n",
    "    @abstractmethod\n",
    "    def power_on(self):\n",
    "        pass\n",
    "    \n",
    "    @abstractmethod\n",
    "    def shutdown(self):\n",
    "        pass\n",
    "\n",
    "class Laptop(Computer):\n",
    "    def power_on(self):\n",
    "        return f\"Powering on the {self.brand} {self.model} laptop.\"\n",
    "    \n",
    "    def shutdown(self):\n",
    "        return f\"Shutting down the {self.brand} {self.model} laptop.\"\n",
    "\n",
    "class Desktop(Computer):\n",
    "    def power_on(self):\n",
    "        return f\"Booting up the {self.brand} {self.model} desktop.\"\n",
    "    \n",
    "    def shutdown(self):\n",
    "        return f\"Shutting down the {self.brand} {self.model} desktop.\"\n",
    "\n",
    "\n",
    "laptop = Laptop(\"Dell\", \"XPS 15\")\n",
    "print(laptop.power_on())  # Output: Powering on the Dell XPS 15 laptop.\n",
    "print(laptop.shutdown())  # Output: Shutting down the Dell XPS 15 laptop.\n",
    "\n",
    "desktop = Desktop(\"HP\", \"Pavilion\")\n",
    "print(desktop.power_on())  # Output: Booting up the HP Pavilion desktop.\n",
    "print(desktop.shutdown())  # Output: Shutting down the HP Pavilion desktop.\n"
   ]
  },
  {
   "cell_type": "markdown",
   "id": "22aacccf",
   "metadata": {},
   "source": [
    "17. Discuss the benefits of using abstraction in large-scale software development projects."
   ]
  },
  {
   "cell_type": "markdown",
   "id": "3ec32f05",
   "metadata": {},
   "source": [
    "Abstraction plays a crucial role in large-scale software development projects by providing several benefits that contribute to the overall efficiency, maintainability, and scalability of the project. Some of the key benefits of using abstraction in large-scale software development projects include:\n",
    "\n",
    "1. **Modularity**: Abstraction allows for the decomposition of complex systems into smaller, more manageable modules. By hiding implementation details and providing well-defined interfaces, abstraction promotes modularity, making it easier to understand, develop, and maintain large software systems. Each module can be developed and tested independently, facilitating parallel development and reducing the complexity of individual components.\n",
    "\n",
    "2. **Code Reusability**: Abstraction facilitates code reusability by defining common interfaces and behaviors that can be shared across different parts of the software system. By encapsulating reusable components within abstract data types, classes, or modules, abstraction promotes code reuse, reducing duplication and promoting consistency across the codebase. This leads to faster development cycles and fewer errors introduced through copy-pasting code.\n",
    "\n",
    "3. **Flexibility and Extensibility**: Abstraction allows software systems to be designed in a flexible and extensible manner, enabling them to adapt to changing requirements and accommodate future enhancements. By defining abstract interfaces and separating them from concrete implementations, abstraction decouples components within the system, making it easier to replace or extend functionality without affecting other parts of the system. This promotes agility and reduces the risk of introducing unintended side effects during changes.\n",
    "\n",
    "4. **Maintainability**: Abstraction enhances the maintainability of large-scale software projects by providing clear separation of concerns and encapsulating complexity within well-defined abstractions. By hiding implementation details behind abstract interfaces, abstraction allows developers to focus on high-level design decisions and business logic, rather than getting bogged down in the details of individual components. This makes it easier to understand, debug, and modify the codebase over time, reducing the cost and effort required for maintenance.\n",
    "\n",
    "5. **Scalability**: Abstraction facilitates scalability by promoting a modular and flexible architecture that can accommodate growth and accommodate increasing complexity over time. By breaking down the system into smaller, more manageable components, abstraction allows developers to scale the software system horizontally by adding new features or vertically by increasing the depth of functionality within existing components. This enables large-scale software projects to evolve and grow in response to changing user needs and market demands.\n",
    "\n",
    "6. **Interoperability and Integration**: Abstraction promotes interoperability and integration by defining well-defined interfaces that allow different components or systems to communicate and interact with each other. By adhering to common standards and protocols, abstraction facilitates seamless integration with third-party libraries, services, or APIs, enabling large-scale software projects to leverage external resources and functionality without reinventing the wheel.\n",
    "\n",
    "Overall, abstraction is essential for large-scale software development projects as it promotes modularity, code reusability, flexibility, maintainability, scalability, interoperability, and integration. By providing a higher level of abstraction that hides implementation details and focuses on essential concepts and behaviors, abstraction enables developers to build complex software systems that are easier to understand, develop, maintain, and evolve over time."
   ]
  },
  {
   "cell_type": "markdown",
   "id": "cb007270",
   "metadata": {},
   "source": [
    "18. Explain how abstraction enhances code reusability and modularity in Python programs."
   ]
  },
  {
   "cell_type": "markdown",
   "id": "2c447c52",
   "metadata": {},
   "source": [
    "Abstraction enhances code reusability and modularity in Python programs by providing a way to define common interfaces, behaviors, and structures that can be reused across different parts of the codebase. Here's how abstraction achieves these goals:\n",
    "\n",
    "1. **Code Reusability**:\n",
    "   - Abstraction allows developers to encapsulate reusable components within abstract data types, classes, or functions.\n",
    "   - By defining abstract interfaces, classes, or functions, developers can create reusable building blocks that can be used in multiple parts of the codebase.\n",
    "   - Reusable components defined through abstraction can be easily shared and reused across different modules, packages, or even projects, reducing duplication and promoting consistency.\n",
    "   - Examples of reusable components include abstract base classes, utility functions, and generic algorithms that can be adapted to various scenarios.\n",
    "\n",
    "2. **Modularity**:\n",
    "   - Abstraction promotes modularity by breaking down complex systems into smaller, more manageable modules or components.\n",
    "   - By hiding implementation details behind well-defined interfaces, abstraction allows modules to be developed, tested, and maintained independently, reducing dependencies and promoting separation of concerns.\n",
    "   - Modular design facilitated by abstraction makes it easier to understand, develop, and maintain large codebases by organizing related functionality into cohesive units.\n",
    "   - Modules defined through abstraction can be easily reused and composed to build larger systems, promoting code organization and scalability.\n",
    "   - Abstraction allows for clear separation of concerns, with each module responsible for a specific aspect of the system's functionality, such as data processing, user interface, or business logic.\n",
    "\n",
    "In Python, abstraction is commonly achieved through techniques such as defining abstract base classes (ABCs), creating generic functions or methods, and encapsulating reusable code within libraries or packages. By leveraging abstraction, Python programmers can create more maintainable, reusable, and scalable codebases that are easier to understand, extend, and adapt to changing requirements."
   ]
  },
  {
   "cell_type": "markdown",
   "id": "53ec7cef",
   "metadata": {},
   "source": [
    "19. Create a Python class for a library system, implementing abstraction by defining common methods (e.g., `add_book()`, `borrow_book()`) in an abstract base class."
   ]
  },
  {
   "cell_type": "code",
   "execution_count": 110,
   "id": "f26f18a8",
   "metadata": {},
   "outputs": [
    {
     "name": "stdout",
     "output_type": "stream",
     "text": [
      "Book 'Harry Potter' added to Public Library.\n",
      "Book 'The Great Gatsby' added to Public Library.\n",
      "You have borrowed the book 'Harry Potter' from Public Library.\n",
      "The book 'The Catcher in the Rye' is not available in Public Library.\n",
      "You have returned the book 'Harry Potter' to Public Library.\n",
      "You have borrowed the book 'Harry Potter' from Public Library.\n"
     ]
    }
   ],
   "source": [
    "from abc import ABC, abstractmethod\n",
    "\n",
    "class LibrarySystem(ABC):\n",
    "    def __init__(self, name):\n",
    "        self.name = name\n",
    "        self.books = []\n",
    "    \n",
    "    @abstractmethod\n",
    "    def add_book(self, book):\n",
    "        pass\n",
    "    \n",
    "    @abstractmethod\n",
    "    def borrow_book(self, book_title):\n",
    "        pass\n",
    "    \n",
    "    @abstractmethod\n",
    "    def return_book(self, book_title):\n",
    "        pass\n",
    "\n",
    "class PublicLibrary(LibrarySystem):\n",
    "    def add_book(self, book):\n",
    "        self.books.append(book)\n",
    "        print(f\"Book '{book}' added to {self.name}.\")\n",
    "    \n",
    "    def borrow_book(self, book_title):\n",
    "        if book_title in self.books:\n",
    "            self.books.remove(book_title)\n",
    "            print(f\"You have borrowed the book '{book_title}' from {self.name}.\")\n",
    "        else:\n",
    "            print(f\"The book '{book_title}' is not available in {self.name}.\")\n",
    "    \n",
    "    def return_book(self, book_title):\n",
    "        self.books.append(book_title)\n",
    "        print(f\"You have returned the book '{book_title}' to {self.name}.\")\n",
    "\n",
    "\n",
    "public_library = PublicLibrary(\"Public Library\")\n",
    "public_library.add_book(\"Harry Potter\")\n",
    "public_library.add_book(\"The Great Gatsby\")\n",
    "\n",
    "public_library.borrow_book(\"Harry Potter\")\n",
    "public_library.borrow_book(\"The Catcher in the Rye\")\n",
    "\n",
    "public_library.return_book(\"Harry Potter\")\n",
    "public_library.borrow_book(\"Harry Potter\")\n"
   ]
  },
  {
   "cell_type": "markdown",
   "id": "c16df9a0",
   "metadata": {},
   "source": [
    "20. Describe the concept of method abstraction in Python and how it relates to polymorphism."
   ]
  },
  {
   "cell_type": "markdown",
   "id": "a73baffb",
   "metadata": {},
   "source": [
    "Method abstraction in Python refers to the practice of defining methods in a way that hides the implementation details from the caller, allowing the caller to interact with the method through a well-defined interface without needing to know how the method achieves its functionality internally. This concept is closely related to polymorphism, which allows objects of different classes to be treated uniformly through a common interface.\n",
    "\n",
    "Here's how method abstraction relates to polymorphism in Python:\n",
    "\n",
    "1. **Method Abstraction**:\n",
    "   - Method abstraction involves defining methods in classes with abstract interfaces, hiding the implementation details from the caller.\n",
    "   - Abstract methods serve as placeholders for methods that provide a common interface but have different implementations depending on the specific subclass.\n",
    "   - By defining abstract methods in a superclass and providing concrete implementations in subclasses, method abstraction allows for polymorphic behavior, where different objects can respond to the same method call in different ways.\n",
    "\n",
    "2. **Polymorphism**:\n",
    "   - Polymorphism allows objects of different classes to be treated uniformly through a common interface, enabling code reuse and flexibility.\n",
    "   - In Python, polymorphism is achieved through method overriding, where a method in a subclass provides a new implementation that overrides the method with the same name in the superclass.\n",
    "   - When a method is called on an object, Python dynamically dispatches the call to the appropriate method implementation based on the type of the object at runtime. This is known as dynamic dispatch or late binding.\n",
    "   - Polymorphism allows for flexible and extensible code, as it enables code to work with objects of different types without needing to know the specific implementation details of each type.\n",
    "\n",
    "In summary, method abstraction in Python involves defining methods with abstract interfaces that hide implementation details, while polymorphism allows objects of different classes to respond to the same method call in different ways. Method abstraction and polymorphism work together to enable flexible, extensible, and maintainable code by promoting code reuse, modularity, and abstraction. They are essential concepts in object-oriented programming and are widely used in Python to achieve abstraction and polymorphic behavior."
   ]
  },
  {
   "cell_type": "code",
   "execution_count": null,
   "id": "4deba2c8",
   "metadata": {},
   "outputs": [],
   "source": []
  },
  {
   "cell_type": "code",
   "execution_count": null,
   "id": "29ac49f1",
   "metadata": {},
   "outputs": [],
   "source": []
  },
  {
   "cell_type": "markdown",
   "id": "893517ac",
   "metadata": {},
   "source": [
    "## Composition:"
   ]
  },
  {
   "cell_type": "markdown",
   "id": "df8d87f3",
   "metadata": {},
   "source": [
    "1. Explain the concept of composition in Python and how it is used to build complex objects from simpler ones."
   ]
  },
  {
   "cell_type": "markdown",
   "id": "b01e5161",
   "metadata": {},
   "source": [
    "Composition is a fundamental concept in object-oriented programming (OOP) where objects are composed of other objects. It allows you to create complex objects by combining simpler ones, enabling code reuse, modularity, and flexibility.\n",
    "\n",
    "In Python, composition is typically implemented by creating classes that contain instances of other classes as attributes. These attributes represent the parts or components of the composite object. Here's a basic example to illustrate the concept:\n",
    "\n",
    "In the below example, the `Engine` class represents a car engine with methods to start and stop it. The `Car` class represents a car with attributes for make, model, year, and an instance of the `Engine` class. By composing the `Car` class with an `Engine` instance, we create a more complex object.\n",
    "\n",
    "Composition allows us to build complex objects from simpler ones, promoting code organization, reusability, and maintainability. It also facilitates the creation of objects with varying behaviors by swapping out components. For example, we could easily create different cars with different engines simply by providing different `Engine` instances to the `Car` constructor.\n",
    "\n",
    "When self.engine.start() is called, it invokes the start() method of the Engine instance that is associated with the Car instance. This allows the Car object to delegate the task of starting the engine to its internal Engine object."
   ]
  },
  {
   "cell_type": "code",
   "execution_count": 1,
   "id": "78143be0",
   "metadata": {},
   "outputs": [
    {
     "name": "stdout",
     "output_type": "stream",
     "text": [
      "Toyota Corolla (2022) starting...\n",
      "Engine started\n",
      "Toyota Corolla (2022) stopping...\n",
      "Engine stopped\n"
     ]
    }
   ],
   "source": [
    "class Engine:\n",
    "    def __init__(self, horsepower):\n",
    "        self.horsepower = horsepower\n",
    "\n",
    "    def start(self):\n",
    "        print(\"Engine started\")\n",
    "\n",
    "    def stop(self):\n",
    "        print(\"Engine stopped\")\n",
    "\n",
    "class Car:\n",
    "    def __init__(self, make, model, year, engine):\n",
    "        self.make = make\n",
    "        self.model = model\n",
    "        self.year = year\n",
    "        self.engine = engine\n",
    "\n",
    "    def start(self):\n",
    "        print(f\"{self.make} {self.model} ({self.year}) starting...\")\n",
    "        self.engine.start()                                                 #invokes start() method of object of engine class that is associayed with object of car\n",
    "\n",
    "    def stop(self):\n",
    "        print(f\"{self.make} {self.model} ({self.year}) stopping...\")\n",
    "        self.engine.stop()\n",
    "\n",
    "my_engine = Engine(horsepower=200)\n",
    "\n",
    "#Creating a Car instance with the Engine instance as an attribute\n",
    "my_car = Car(make=\"Toyota\", model=\"Corolla\", year=2022, engine=my_engine)\n",
    "\n",
    "#Using the Car's start and stop methods\n",
    "my_car.start()\n",
    "my_car.stop()\n"
   ]
  },
  {
   "cell_type": "markdown",
   "id": "0e5e9a2d",
   "metadata": {},
   "source": [
    "2. Describe the difference between composition and inheritance in object-oriented programming."
   ]
  },
  {
   "cell_type": "markdown",
   "id": "141f8f5b",
   "metadata": {},
   "source": [
    "Composition and inheritance are two fundamental concepts in object-oriented programming (OOP), but they serve different purposes and have different implications.\n",
    "\n",
    "1. **Inheritance**:\n",
    "   - Inheritance is a mechanism where a new class (derived or child class) is created from an existing class (base or parent class). The derived class inherits attributes and methods from the base class.\n",
    "   - It promotes code reuse by allowing derived classes to access and extend the functionality of the base class.\n",
    "   - Inheritance establishes an \"is-a\" relationship between classes, where the derived class is a specialized version of the base class.\n",
    "   - Example:\n",
    "     ```python\n",
    "     class Animal:\n",
    "         def speak(self):\n",
    "             print(\"Animal speaks\")\n",
    "\n",
    "     class Dog(Animal):\n",
    "         def bark(self):\n",
    "             print(\"Dog barks\")\n",
    "\n",
    "     # Dog inherits from Animal, indicating that a Dog \"is-a\" kind of Animal\n",
    "     ```\n",
    "\n",
    "2. **Composition**:\n",
    "   - Composition is a mechanism where a class contains one or more instances of other classes as attributes. Instead of inheriting behavior, a class delegates certain responsibilities to its component classes.\n",
    "   - It promotes code reuse by allowing objects to be composed of other objects, facilitating a \"has-a\" relationship.\n",
    "   - Composition enables greater flexibility and modularity compared to inheritance because it allows objects to be composed dynamically at runtime.\n",
    "   - Example:\n",
    "     ```python\n",
    "     class Engine:\n",
    "         def start(self):\n",
    "             print(\"Engine started\")\n",
    "\n",
    "     class Car:\n",
    "         def __init__(self):\n",
    "             self.engine = Engine()\n",
    "\n",
    "         def start(self):\n",
    "             print(\"Car starting...\")\n",
    "             self.engine.start()\n",
    "\n",
    "     # Car contains an instance of Engine, indicating that a Car \"has-a\" Engine\n",
    "     ```\n",
    "\n",
    "**Key Differences**:\n",
    "- Inheritance establishes an \"is-a\" relationship, while composition establishes a \"has-a\" relationship.\n",
    "- Inheritance promotes code reuse by allowing derived classes to inherit from a base class, while composition promotes code reuse by allowing objects to contain instances of other objects.\n",
    "- Inheritance can lead to tight coupling between classes, as changes in the base class can affect all derived classes, while composition typically results in looser coupling, as objects can be composed and decomposed dynamically.\n",
    "- Inheritance is often used to model hierarchical relationships between classes, while composition is used to build objects by combining simpler components.\n",
    "\n",
    "In practice, both inheritance and composition have their place, and the choice between them depends on the specific requirements of the problem domain and the design goals of the software system."
   ]
  },
  {
   "cell_type": "markdown",
   "id": "64229a8f",
   "metadata": {},
   "source": [
    "3. Create a Python class called `Author` with attributes for name and birthdate. Then, create a `Book` class\n",
    "that contains an instance of `Author` as a composition. Provide an example of creating a `Book` object."
   ]
  },
  {
   "cell_type": "code",
   "execution_count": 45,
   "id": "5b20bdd4",
   "metadata": {},
   "outputs": [
    {
     "name": "stdout",
     "output_type": "stream",
     "text": [
      "Book title: Harry Potter and the Philosopher's Stone\n",
      "Author name: J.K. Rowling\n",
      "Author birthdate: July 31, 1965\n",
      "Publication year: 1997\n"
     ]
    }
   ],
   "source": [
    "class Author:\n",
    "    def __init__(self, name, birthdate):\n",
    "        self.name = name\n",
    "        self.birthdate = birthdate\n",
    "\n",
    "class Book:\n",
    "    def __init__(self, title, author, year):\n",
    "        self.title = title\n",
    "        self.author = author\n",
    "        self.year = year\n",
    "\n",
    "#Creating an Author instance\n",
    "author1 = Author(name=\"J.K. Rowling\", birthdate=\"July 31, 1965\")\n",
    "\n",
    "#Creating a Book instance with the Author instance as composition\n",
    "book1 = Book(title=\"Harry Potter and the Philosopher's Stone\", author=author1, year=1997)\n",
    "\n",
    "#Accessing attributes of the Book instance\n",
    "print(\"Book title:\", book1.title)\n",
    "print(\"Author name:\", book1.author.name)\n",
    "print(\"Author birthdate:\", book1.author.birthdate)\n",
    "print(\"Publication year:\", book1.year)\n",
    "\n",
    "\n",
    "#In this example, the `Author` class represents an author with attributes for name and birthdate. The `Book` class represents a #book with attributes for title, author (an instance of `Author` class), and publication year. By composing the `Book` class #with an `Author` instance, we create a more complex object representing a book written by an author.\n",
    "\n",
    "#The `Book` object `book1` is created with the title \"Harry Potter and the Philosopher's Stone\", an instance of the `Author` #class `author1`, and the publication year 1997. We can then access attributes of the `Book` object such as title, author's #name, author's birthdate, and publication year."
   ]
  },
  {
   "cell_type": "markdown",
   "id": "153cb852",
   "metadata": {},
   "source": [
    "4. Discuss the benefits of using composition over inheritance in Python, especially in terms of code flexibility and reusability."
   ]
  },
  {
   "cell_type": "markdown",
   "id": "e9402358",
   "metadata": {},
   "source": [
    "Using composition over inheritance in Python can offer several benefits in terms of code flexibility and reusability:\n",
    "\n",
    "1. **Flexibility**:\n",
    "   - Composition allows for greater flexibility in constructing objects dynamically at runtime. Objects can be composed of different components, providing more options for creating complex structures.\n",
    "   - With composition, it's easier to change the behavior of an object at runtime by swapping out its components or adding new ones. This promotes a more flexible and adaptable design.\n",
    "\n",
    "2. **Code Reusability**:\n",
    "   - Composition promotes code reusability by encouraging the reuse of smaller, more specialized components. These components can be reused in multiple contexts, leading to cleaner, more modular code.\n",
    "   - Objects created through composition are often more reusable than those created through inheritance because they are not bound to a specific class hierarchy. Components can be reused across different classes without creating complex inheritance chains.\n",
    "\n",
    "3. **Reduced Coupling**:\n",
    "   - Composition typically results in looser coupling between classes compared to inheritance. Since objects are composed of other objects rather than inheriting behavior, there is less dependency between classes.\n",
    "   - Looser coupling makes the codebase more maintainable and easier to change. Modifying one class or component is less likely to have ripple effects on other parts of the system.\n",
    "\n",
    "4. **Avoidance of Fragile Base Class Problem**:\n",
    "   - Inheritance can lead to the fragile base class problem, where changes to a base class can unintentionally affect derived classes. This can introduce unexpected bugs and make the codebase more difficult to maintain.\n",
    "   - Composition helps avoid the fragile base class problem by separating concerns and reducing the reliance on a single base class. Changes to one component do not affect unrelated components, improving code stability.\n",
    "\n",
    "5. **Enhanced Testability**:\n",
    "   - Code built with composition tends to be more testable because objects can be easily mocked or replaced with stubs during testing. This allows for more effective unit testing and easier isolation of dependencies.\n",
    "   - By isolating components, composition facilitates testing of individual pieces of functionality, making it easier to identify and fix bugs.\n",
    "\n",
    "Overall, composition promotes a more flexible, modular, and maintainable codebase compared to inheritance. By composing objects from smaller, reusable components, developers can build systems that are easier to extend, modify, and test, leading to higher quality software."
   ]
  },
  {
   "cell_type": "markdown",
   "id": "e756538f",
   "metadata": {},
   "source": [
    "5. How can you implement composition in Python classes? Provide examples of using composition to create\n",
    "complex objects."
   ]
  },
  {
   "cell_type": "code",
   "execution_count": 48,
   "id": "59208cc4",
   "metadata": {},
   "outputs": [
    {
     "name": "stdout",
     "output_type": "stream",
     "text": [
      "Toyota Corolla (2022) starting...\n",
      "Engine started\n",
      "Toyota Corolla (2022) driving...\n",
      "Wheel rotating\n",
      "Wheel rotating\n",
      "Wheel rotating\n",
      "Wheel rotating\n",
      "Toyota Corolla (2022) stopping...\n",
      "Engine stopped\n"
     ]
    }
   ],
   "source": [
    "class Engine:\n",
    "    def __init__(self, horsepower):\n",
    "        self.horsepower = horsepower\n",
    "\n",
    "    def start(self):\n",
    "        print(\"Engine started\")\n",
    "\n",
    "    def stop(self):\n",
    "        print(\"Engine stopped\")\n",
    "\n",
    "class Wheel:\n",
    "    def __init__(self, diameter):\n",
    "        self.diameter = diameter\n",
    "\n",
    "    def rotate(self):\n",
    "        print(\"Wheel rotating\")\n",
    "\n",
    "class Car:\n",
    "    def __init__(self, make, model, year, engine, wheels):\n",
    "        self.make = make\n",
    "        self.model = model\n",
    "        self.year = year\n",
    "        self.engine = engine\n",
    "        self.wheels = wheels\n",
    "\n",
    "    def start(self):\n",
    "        print(f\"{self.make} {self.model} ({self.year}) starting...\")\n",
    "        self.engine.start()\n",
    "\n",
    "    def stop(self):\n",
    "        print(f\"{self.make} {self.model} ({self.year}) stopping...\")\n",
    "        self.engine.stop()\n",
    "\n",
    "    def drive(self):\n",
    "        print(f\"{self.make} {self.model} ({self.year}) driving...\")\n",
    "        for wheel in self.wheels:\n",
    "            wheel.rotate()\n",
    "\n",
    "#Create instances of Engine, Wheel, and Car\n",
    "my_engine = Engine(horsepower=200)\n",
    "my_wheels = [Wheel(diameter=20) for _ in range(4)]  # Creating 4 Wheel instances\n",
    "\n",
    "my_car = Car(make=\"Toyota\", model=\"Corolla\", year=2022, engine=my_engine, wheels=my_wheels)\n",
    "\n",
    "#Use Car methods\n",
    "my_car.start()\n",
    "my_car.drive()\n",
    "my_car.stop()\n",
    "\n",
    "\n",
    "#In this example:\n",
    "#- `Engine` and `Wheel` are two simpler classes representing the engine and wheels of a car, respectively.\n",
    "#- `Car` is a more complex class representing a car. It has attributes for make, model, year, an instance of `Engine`, and a list of `Wheel` instances.\n",
    "#- The `Car` class contains methods for starting, stopping, and driving the car. When driving, it rotates each wheel.\n",
    "\n",
    "#By composing the `Car` class with instances of `Engine` and `Wheel`, we create a more complex object representing a car. This allows for easy creation of different cars with different engines and wheel configurations, promoting code reuse and flexibility."
   ]
  },
  {
   "cell_type": "markdown",
   "id": "bfa42a28",
   "metadata": {},
   "source": [
    "6. Create a Python class hierarchy for a music player system, using composition to represent playlists and songs."
   ]
  },
  {
   "cell_type": "code",
   "execution_count": 49,
   "id": "b793f7ee",
   "metadata": {},
   "outputs": [
    {
     "name": "stdout",
     "output_type": "stream",
     "text": [
      "Playlist 'Classic Rock':\n",
      "Playing 'Bohemian Rhapsody' by Queen\n",
      "Playing 'Hotel California' by Eagles\n",
      "Playing 'Stairway to Heaven' by Led Zeppelin\n"
     ]
    }
   ],
   "source": [
    "class Song:\n",
    "    def __init__(self, title, artist):\n",
    "        self.title = title\n",
    "        self.artist = artist\n",
    "\n",
    "    def play(self):\n",
    "        print(f\"Playing '{self.title}' by {self.artist}\")\n",
    "\n",
    "\n",
    "class Playlist:\n",
    "    def __init__(self, name):\n",
    "        self.name = name\n",
    "        self.songs = []\n",
    "\n",
    "    def add_song(self, song):\n",
    "        self.songs.append(song)\n",
    "\n",
    "    def remove_song(self, song):\n",
    "        self.songs.remove(song)\n",
    "\n",
    "    def play(self):\n",
    "        print(f\"Playlist '{self.name}':\")\n",
    "        for song in self.songs:\n",
    "            song.play()\n",
    "\n",
    "\n",
    "#Example usage:\n",
    "if __name__ == \"__main__\":\n",
    "    # Creating songs\n",
    "    song1 = Song(\"Bohemian Rhapsody\", \"Queen\")\n",
    "    song2 = Song(\"Hotel California\", \"Eagles\")\n",
    "    song3 = Song(\"Stairway to Heaven\", \"Led Zeppelin\")\n",
    "\n",
    "    # Creating a playlist\n",
    "    playlist = Playlist(\"Classic Rock\")\n",
    "\n",
    "    # Adding songs to the playlist\n",
    "    playlist.add_song(song1)\n",
    "    playlist.add_song(song2)\n",
    "    playlist.add_song(song3)\n",
    "\n",
    "    # Playing the playlist\n",
    "    playlist.play()\n",
    "\n",
    "#In this simplified version:\n",
    "#- The `Song` class represents a single song with attributes for title and artist. It also has a `play()` method to simulate #playing the song.\n",
    "#- The `Playlist` class represents a collection of songs with methods to add, remove, and play songs.\n",
    "#- Composition is used to represent playlists within the `MusicPlayer` class. Each `MusicPlayer` instance contains a dictionary #where the keys are playlist names and the values are `Playlist` instances.\n",
    "\n",
    "#This simpler class hierarchy still demonstrates the use of composition to build a music player system with playlists and songs, #but with fewer methods and features compared to the previous example."
   ]
  },
  {
   "cell_type": "markdown",
   "id": "0e8921d1",
   "metadata": {},
   "source": [
    "7. Explain the concept of \"has-a\" relationships in composition and how it helps design software systems."
   ]
  },
  {
   "cell_type": "markdown",
   "id": "046f87f9",
   "metadata": {},
   "source": [
    "The concept of \"has-a\" relationships in composition refers to the relationship between two classes where one class contains an instance of another class as a member or attribute. This relationship is often used to represent the idea that one class has another class as a component or part.\n",
    "\n",
    "In composition, the containing class (often referred to as the \"container\" or \"composite\") is composed of instances of other classes (the \"components\" or \"parts\"). These instances are typically initialized within the container class, and they represent essential components that contribute to the behavior or functionality of the container class.\n",
    "\n",
    "\n",
    "class Engine:\n",
    "    def __init__(self, horsepower):\n",
    "        self.horsepower = horsepower\n",
    "\n",
    "    def start(self):\n",
    "        print(\"Engine started\")\n",
    "\n",
    "    def stop(self):\n",
    "        print(\"Engine stopped\")\n",
    "\n",
    "class Car:\n",
    "    def __init__(self, make, model, engine):\n",
    "        self.make = make\n",
    "        self.model = model\n",
    "        self.engine = engine  # Car \"has-a\" Engine\n",
    "\n",
    "    def start(self):\n",
    "        print(f\"{self.make} {self.model} starting...\")\n",
    "        self.engine.start()\n",
    "\n",
    "    def stop(self):\n",
    "        print(f\"{self.make} {self.model} stopping...\")\n",
    "        self.engine.stop()\n",
    "\n",
    "#Creating instances\n",
    "my_engine = Engine(horsepower=200)\n",
    "my_car = Car(make=\"Toyota\", model=\"Corolla\", engine=my_engine)\n",
    "\n",
    "\n",
    "In this example:\n",
    "- The `Car` class has a \"has-a\" relationship with the `Engine` class, as it contains an instance of the `Engine` class as an attribute.\n",
    "- The `Car` class is composed of an `Engine` instance, which represents the engine component of the car.\n",
    "- By using composition, the `Car` class can delegate certain responsibilities, such as starting and stopping the engine, to the `Engine` class.\n",
    "\n",
    "The concept of \"has-a\" relationships in composition helps design software systems by promoting modularity, reusability, and flexibility:\n",
    "1. **Modularity**: By decomposing complex systems into smaller, more manageable components, composition allows for modular design. Each component can be developed, tested, and maintained independently, leading to cleaner and more organized code.\n",
    "2. **Reusability**: Components can be reused in multiple contexts, enhancing code reusability. Instead of duplicating code, existing components can be composed to build new functionalities, reducing development time and effort.\n",
    "3. **Flexibility**: Composition enables flexible and dynamic construction of objects. Components can be composed and decomposed at runtime, allowing for easy customization and extension of system functionality. This flexibility promotes adaptability to changing requirements and promotes code evolution over time.\n",
    "\n",
    "Overall, \"has-a\" relationships in composition provide a powerful mechanism for designing software systems that are modular, reusable, and flexible, contributing to the development of robust and maintainable codebases."
   ]
  },
  {
   "cell_type": "markdown",
   "id": "609dd71f",
   "metadata": {},
   "source": [
    "8. Create a Python class for a computer system, using composition to represent components like CPU, RAM,\n",
    "and storage devices."
   ]
  },
  {
   "cell_type": "code",
   "execution_count": 55,
   "id": "bc49711e",
   "metadata": {},
   "outputs": [
    {
     "name": "stdout",
     "output_type": "stream",
     "text": [
      "Booting the computer system...\n",
      "Intel i7 processing...\n",
      "Reading data from 16GB RAM at 3200MHz speed.\n",
      "Reading data from 512GB SSD storage.\n"
     ]
    }
   ],
   "source": [
    "\n",
    "class CPU:\n",
    "    def __init__(self, brand, model, cores):\n",
    "        self.brand = brand\n",
    "        self.model = model\n",
    "        self.cores = cores\n",
    "\n",
    "    def process(self):\n",
    "        print(f\"{self.brand} {self.model} processing...\")\n",
    "\n",
    "\n",
    "class RAM:\n",
    "    def __init__(self, capacity_gb, speed_mhz):\n",
    "        self.capacity_gb = capacity_gb\n",
    "        self.speed_mhz = speed_mhz\n",
    "\n",
    "    def read_data(self):\n",
    "        print(f\"Reading data from {self.capacity_gb}GB RAM at {self.speed_mhz}MHz speed.\")\n",
    "\n",
    "\n",
    "class Storage:\n",
    "    def __init__(self, capacity_gb, type):\n",
    "        self.capacity_gb = capacity_gb\n",
    "        self.type = type\n",
    "\n",
    "    def read_data(self):\n",
    "        print(f\"Reading data from {self.capacity_gb}GB {self.type} storage.\")\n",
    "\n",
    "\n",
    "class ComputerSystem:\n",
    "    def __init__(self, cpu, ram, storage):\n",
    "        self.cpu = cpu\n",
    "        self.ram = ram\n",
    "        self.storage = storage\n",
    "\n",
    "    def boot(self):\n",
    "        print(\"Booting the computer system...\")\n",
    "        self.cpu.process()\n",
    "        self.ram.read_data()\n",
    "        self.storage.read_data()\n",
    "\n",
    "\n",
    "#Example usage:\n",
    "if __name__ == \"__main__\":\n",
    "    # Creating components\n",
    "    cpu = CPU(brand=\"Intel\", model=\"i7\", cores=8)\n",
    "    ram = RAM(capacity_gb=16, speed_mhz=3200)\n",
    "    storage = Storage(capacity_gb=512, type=\"SSD\")\n",
    "\n",
    "    # Creating a computer system\n",
    "    computer = ComputerSystem(cpu=cpu, ram=ram, storage=storage)\n",
    "\n",
    "    # Booting the computer system\n",
    "    computer.boot()\n"
   ]
  },
  {
   "cell_type": "markdown",
   "id": "0bfda979",
   "metadata": {},
   "source": [
    "9. Describe the concept of \"delegation\" in composition and how it simplifies the design of complex systems."
   ]
  },
  {
   "cell_type": "markdown",
   "id": "e332aed7",
   "metadata": {},
   "source": [
    "In the context of composition, delegation refers to the process of delegating certain responsibilities or behaviors of a class to its composed components. Instead of implementing all functionalities within the class itself, the class delegates specific tasks to its component objects, leveraging their specialized functionality.\n",
    "\n",
    "Delegation simplifies the design of complex systems in several ways:\n",
    "\n",
    "1. **Modularity**: Delegation promotes modularity by breaking down complex systems into smaller, more manageable components. Each component is responsible for a specific aspect of functionality, making the system easier to understand, maintain, and extend.\n",
    "\n",
    "2. **Code Reusability**: Delegation allows for greater code reusability. Since components are responsible for specific tasks, they can be reused across different classes or systems. This promotes code reuse and reduces duplication, leading to more efficient and maintainable codebases.\n",
    "\n",
    "3. **Separation of Concerns**: Delegation encourages the separation of concerns by dividing responsibilities among different classes or components. Each class focuses on a specific aspect of functionality, reducing the complexity of individual classes and improving overall code organization.\n",
    "\n",
    "4. **Flexibility**: Delegation enables greater flexibility in system design. Components can be easily replaced or upgraded without impacting the overall system architecture. This allows for easier adaptation to changing requirements and promotes system scalability.\n",
    "\n",
    "5. **Easier Testing**: Delegation facilitates easier testing by isolating components and dependencies. Since each component has well-defined responsibilities, it can be tested independently, leading to more effective unit testing and easier identification of bugs or issues.\n",
    "\n",
    "6. **Encapsulation**: Delegation promotes encapsulation by hiding the implementation details of component functionality. Classes that use delegation can focus on high-level logic without being concerned with the internal workings of their component objects. This enhances abstraction and reduces coupling between classes.\n",
    "\n",
    "Overall, delegation simplifies the design of complex systems by promoting modularity, code reusability, separation of concerns, flexibility, easier testing, and encapsulation. It allows for the creation of more maintainable, scalable, and robust software systems, making it an essential concept in software engineering and design."
   ]
  },
  {
   "cell_type": "markdown",
   "id": "b655740f",
   "metadata": {},
   "source": [
    "10. Create a Python class for a car, using composition to represent components like the engine, wheels, andtransmission."
   ]
  },
  {
   "cell_type": "code",
   "execution_count": 56,
   "id": "625c499e",
   "metadata": {},
   "outputs": [
    {
     "name": "stdout",
     "output_type": "stream",
     "text": [
      "Starting the Toyota Corolla...\n",
      "Engine started\n",
      "Driving the Toyota Corolla...\n",
      "Transmission shifted to Automatic\n",
      "Wheel rotating\n",
      "Wheel rotating\n",
      "Wheel rotating\n",
      "Wheel rotating\n",
      "Stopping the Toyota Corolla...\n",
      "Engine stopped\n"
     ]
    }
   ],
   "source": [
    "class Engine:\n",
    "    def __init__(self, horsepower):\n",
    "        self.horsepower = horsepower\n",
    "\n",
    "    def start(self):\n",
    "        print(\"Engine started\")\n",
    "\n",
    "    def stop(self):\n",
    "        print(\"Engine stopped\")\n",
    "\n",
    "\n",
    "class Wheel:\n",
    "    def __init__(self, diameter):\n",
    "        self.diameter = diameter\n",
    "\n",
    "    def rotate(self):\n",
    "        print(\"Wheel rotating\")\n",
    "\n",
    "\n",
    "class Transmission:\n",
    "    def __init__(self, type):\n",
    "        self.type = type\n",
    "\n",
    "    def shift_gear(self):\n",
    "        print(f\"Transmission shifted to {self.type}\")\n",
    "\n",
    "\n",
    "class Car:\n",
    "    def __init__(self, make, model, engine, wheels, transmission):\n",
    "        self.make = make\n",
    "        self.model = model\n",
    "        self.engine = engine\n",
    "        self.wheels = wheels\n",
    "        self.transmission = transmission\n",
    "\n",
    "    def start(self):\n",
    "        print(f\"Starting the {self.make} {self.model}...\")\n",
    "        self.engine.start()\n",
    "\n",
    "    def stop(self):\n",
    "        print(f\"Stopping the {self.make} {self.model}...\")\n",
    "        self.engine.stop()\n",
    "\n",
    "    def drive(self):\n",
    "        print(f\"Driving the {self.make} {self.model}...\")\n",
    "        self.transmission.shift_gear()\n",
    "        for wheel in self.wheels:\n",
    "            wheel.rotate()\n",
    "\n",
    "\n",
    "#Example usage:\n",
    "if __name__ == \"__main__\":\n",
    "    # Creating components\n",
    "    engine = Engine(horsepower=200)\n",
    "    wheels = [Wheel(diameter=20) for _ in range(4)]  # Creating 4 Wheel instances\n",
    "    transmission = Transmission(type=\"Automatic\")\n",
    "\n",
    "    # Creating a car\n",
    "    my_car = Car(make=\"Toyota\", model=\"Corolla\", engine=engine, wheels=wheels, transmission=transmission)\n",
    "\n",
    "    # Using car methods\n",
    "    my_car.start()\n",
    "    my_car.drive()\n",
    "    my_car.stop()\n",
    "\n",
    "\n"
   ]
  },
  {
   "cell_type": "markdown",
   "id": "544db495",
   "metadata": {},
   "source": [
    "11. How can you encapsulate and hide the details of composed objects in Python classes to maintain abstraction?"
   ]
  },
  {
   "cell_type": "markdown",
   "id": "6f896767",
   "metadata": {},
   "source": [
    "In Python, you can encapsulate and hide the details of composed objects within a class by controlling access to its attributes and methods. Here are some techniques to achieve encapsulation and maintain abstraction:\n",
    "\n",
    "1. **Private Attributes and Methods**:\n",
    "   - Use a single underscore `_` prefix to indicate that an attribute or method is intended to be private and should not be accessed from outside the class. Although not strictly enforced, it serves as a convention to indicate that the attribute or method is internal to the class and should not be relied upon by external code.\n",
    "\n",
    "2. **Property Getters and Setters**:\n",
    "   - Define properties using the `@property` decorator for getter methods and `@<property_name>.setter` decorator for setter methods. This allows you to control access to attributes and perform validation or computation before setting or returning their values.\n",
    "\n",
    "3. **Encapsulation with Composition**:\n",
    "   - Encapsulate composed objects by instantiating them within the class and exposing only necessary methods or properties. This allows you to hide the internal details of composed objects while providing a higher-level interface for interaction.\n",
    "\n",
    "\n",
    "class Engine:\n",
    "    def __init__(self, horsepower):\n",
    "        self._horsepower = horsepower\n",
    "\n",
    "    @property\n",
    "    def horsepower(self):\n",
    "        return self._horsepower\n",
    "\n",
    "    def start(self):\n",
    "        print(\"Engine started\")\n",
    "\n",
    "    def stop(self):\n",
    "        print(\"Engine stopped\")\n",
    "\n",
    "\n",
    "class Car:\n",
    "    def __init__(self, make, model, horsepower):\n",
    "        self._make = make\n",
    "        self._model = model\n",
    "        self._engine = Engine(horsepower)\n",
    "\n",
    "    @property\n",
    "    def make(self):\n",
    "        return self._make\n",
    "\n",
    "    @property\n",
    "    def model(self):\n",
    "        return self._model\n",
    "\n",
    "    def start(self):\n",
    "        print(f\"Starting the {self._make} {self._model}...\")\n",
    "        self._engine.start()\n",
    "\n",
    "    def stop(self):\n",
    "        print(f\"Stopping the {self._make} {self._model}...\")\n",
    "        self._engine.stop()\n",
    "\n",
    "\n",
    "# Example usage:\n",
    "if __name__ == \"__main__\":\n",
    "    my_car = Car(make=\"Toyota\", model=\"Corolla\", horsepower=150)\n",
    "    my_car.start()\n",
    "    my_car.stop()\n",
    "```\n",
    "\n",
    "In this example:\n",
    "- The `Engine` class encapsulates details about the engine, including its horsepower, with a private attribute `_horsepower`.\n",
    "- The `Car` class encapsulates details about the car, including its make, model, and engine, with private attributes `_make`, `_model`, and `_engine`.\n",
    "- Access to these attributes is controlled using property getters and setters, ensuring that clients can interact with the objects through a well-defined interface while maintaining abstraction and encapsulation."
   ]
  },
  {
   "cell_type": "markdown",
   "id": "e1cde4ad",
   "metadata": {},
   "source": [
    "12. Create a Python class for a university course, using composition to represent students, instructors, and course materials."
   ]
  },
  {
   "cell_type": "code",
   "execution_count": 79,
   "id": "0937996d",
   "metadata": {},
   "outputs": [
    {
     "name": "stdout",
     "output_type": "stream",
     "text": [
      "Course Code: COMP101\n",
      "Course Name: Introduction to Python Programming\n",
      "Instructor: Instructor: Dr. Smith (ID: I001)\n",
      "\n",
      "Students Enrolled:\n",
      "Student: Alice (ID: S001)\n",
      "Student: Bob (ID: S002)\n",
      "\n",
      "Course Materials:\n",
      "--- Lecture 1: Introduction to Python ---\n",
      "...\n",
      "\n",
      "--- Assignment 1: Python Basics ---\n",
      "...\n",
      "\n"
     ]
    }
   ],
   "source": [
    "class Student:\n",
    "    def __init__(self, name, student_id):\n",
    "        self.name = name\n",
    "        self.student_id = student_id\n",
    "\n",
    "    def __str__(self):\n",
    "        return f\"Student: {self.name} (ID: {self.student_id})\"\n",
    "\n",
    "\n",
    "class Instructor:\n",
    "    def __init__(self, name, instructor_id):\n",
    "        self.name = name\n",
    "        self.instructor_id = instructor_id\n",
    "\n",
    "    def __str__(self):\n",
    "        return f\"Instructor: {self.name} (ID: {self.instructor_id})\"\n",
    "\n",
    "\n",
    "class CourseMaterial:\n",
    "    def __init__(self, title, content):\n",
    "        self.title = title\n",
    "        self.content = content\n",
    "\n",
    "    def display(self):\n",
    "        print(f\"--- {self.title} ---\\n{self.content}\\n\")\n",
    "\n",
    "\n",
    "class UniversityCourse:\n",
    "    def __init__(self, course_code, course_name, instructor, students=None, materials=None):\n",
    "        self.course_code = course_code\n",
    "        self.course_name = course_name\n",
    "        self.instructor = instructor\n",
    "        self.students = students if students is not None else []\n",
    "        self.materials = materials if materials is not None else []\n",
    "\n",
    "    def add_student(self, student):\n",
    "        self.students.append(student)\n",
    "\n",
    "    def add_material(self, material):\n",
    "        self.materials.append(material)\n",
    "\n",
    "    def display_course_info(self):\n",
    "        print(f\"Course Code: {self.course_code}\")\n",
    "        print(f\"Course Name: {self.course_name}\")\n",
    "        print(f\"Instructor: {self.instructor}\\n\")\n",
    "        print(\"Students Enrolled:\")\n",
    "        for student in self.students:\n",
    "            print(student)\n",
    "        print(\"\\nCourse Materials:\")\n",
    "        for material in self.materials:\n",
    "            material.display()\n",
    "\n",
    "\n",
    "#Example usage:\n",
    "if __name__ == \"__main__\":\n",
    "    # Create students\n",
    "    student1 = Student(name=\"Alice\", student_id=\"S001\")\n",
    "    student2 = Student(name=\"Bob\", student_id=\"S002\")\n",
    "\n",
    "    # Create instructor\n",
    "    instructor = Instructor(name=\"Dr. Smith\", instructor_id=\"I001\")\n",
    "\n",
    "    # Create course materials\n",
    "    material1 = CourseMaterial(title=\"Lecture 1: Introduction to Python\", content=\"...\")\n",
    "    material2 = CourseMaterial(title=\"Assignment 1: Python Basics\", content=\"...\")\n",
    "\n",
    "    # Create university course\n",
    "    python_course = UniversityCourse(course_code=\"COMP101\", course_name=\"Introduction to Python Programming\",\n",
    "                                     instructor=instructor, students=[student1, student2],\n",
    "                                     materials=[material1, material2])\n",
    "\n",
    "    # Display course information\n",
    "    python_course.display_course_info()\n"
   ]
  },
  {
   "cell_type": "markdown",
   "id": "8675d562",
   "metadata": {},
   "source": [
    "13. Discuss the challenges and drawbacks of composition, such as increased complexity and potential for tight coupling between objects."
   ]
  },
  {
   "cell_type": "markdown",
   "id": "ceb53b3c",
   "metadata": {},
   "source": [
    "While composition offers several benefits, such as modularity, code reuse, and flexibility, it also comes with its own set of challenges and drawbacks. Here are some of the key challenges and drawbacks associated with composition:\n",
    "\n",
    "1. **Increased Complexity**: As a system grows in complexity, managing the relationships between composed objects can become challenging. Understanding how objects are composed and interact with each other may require more effort, especially for larger systems with numerous components.\n",
    "\n",
    "2. **Potential for Tight Coupling**: Composition can lead to tight coupling between objects if not implemented carefully. Tight coupling occurs when the behavior of one object depends heavily on the implementation details of another object. This can make the system less flexible and more difficult to maintain or refactor.\n",
    "\n",
    "3. **Dependency Management**: Composed objects may have dependencies on each other, making it important to manage these dependencies effectively. Changes to one component may require modifications to other related components, leading to potential cascading changes throughout the system.\n",
    "\n",
    "4. **Increased Memory Consumption**: Each composed object adds overhead to memory consumption, especially if multiple instances of the same component are created. This can be a concern in memory-constrained environments or for systems that need to optimize memory usage.\n",
    "\n",
    "5. **Potential for Object Proliferation**: Composition may lead to a proliferation of small, specialized objects, each responsible for a specific task or aspect of functionality. Managing a large number of objects can increase the complexity of the codebase and may lead to performance issues if not handled efficiently.\n",
    "\n",
    "6. **Potential Performance Overhead**: Composition can introduce performance overhead, especially if objects need to communicate frequently or if there are layers of abstraction between components. This overhead may impact system performance, particularly in time-sensitive applications or resource-constrained environments.\n",
    "\n",
    "7. **Difficulty in Testing**: Testing composed objects can be more challenging compared to testing standalone objects. Testing interactions between objects, especially when dependencies are involved, may require more comprehensive testing strategies to ensure the correctness and robustness of the system.\n",
    "\n",
    "Overall, while composition is a powerful design technique, it is essential to carefully consider its implications and trade-offs. By understanding the challenges and drawbacks associated with composition, developers can make informed decisions when designing and implementing software systems, balancing the benefits of composition with its potential complexities and limitations."
   ]
  },
  {
   "cell_type": "markdown",
   "id": "13aa7b23",
   "metadata": {},
   "source": [
    "14. Create a Python class hierarchy for a restaurant system, using composition to represent menus, dishes, and ingredients.\n"
   ]
  },
  {
   "cell_type": "code",
   "execution_count": 107,
   "id": "cd69d952",
   "metadata": {},
   "outputs": [
    {
     "name": "stdout",
     "output_type": "stream",
     "text": [
      "Welcome to My Restaurant!\n",
      "\n",
      "Lunch Menu:\n",
      "Burger: 1 Beef Patty, 1 Lettuce, 2 Tomato, 100g Cheese\n",
      "Salad: 1 Lettuce, 2 Tomato, 100g Cheese\n",
      "\n",
      "Dinner Menu:\n",
      "Burger: 1 Beef Patty, 1 Lettuce, 2 Tomato, 100g Cheese\n"
     ]
    }
   ],
   "source": [
    "\n",
    "class Ingredient:\n",
    "    def __init__(self, name, quantity):\n",
    "        self.name = name\n",
    "        self.quantity = quantity\n",
    "\n",
    "    def __str__(self):\n",
    "        return f\"{self.quantity} {self.name}\"\n",
    "\n",
    "\n",
    "class Dish:\n",
    "    def __init__(self, name, ingredients):\n",
    "        self.name = name\n",
    "        self.ingredients = ingredients\n",
    "\n",
    "    def __str__(self):\n",
    "        return f\"{self.name}: {', '.join(str(ingredient) for ingredient in self.ingredients)}\"\n",
    "\n",
    "\n",
    "class Menu:\n",
    "    def __init__(self, name, dishes):\n",
    "        self.name = name\n",
    "        self.dishes = dishes\n",
    "\n",
    "    def __str__(self):\n",
    "        return f\"{self.name} Menu:\\n\" + \"\\n\".join(str(dish) for dish in self.dishes)\n",
    "\n",
    "\n",
    "class Restaurant:\n",
    "    def __init__(self, name, menus):\n",
    "        self.name = name\n",
    "        self.menus = menus\n",
    "\n",
    "    def __str__(self):\n",
    "        return f\"Welcome to {self.name}!\\n\\n\" + \"\\n\\n\".join(str(menu) for menu in self.menus)\n",
    "\n",
    "\n",
    "#Example usage:\n",
    "if __name__ == \"__main__\":\n",
    "    # Define ingredients\n",
    "    tomato = Ingredient(\"Tomato\", \"2\")\n",
    "    lettuce = Ingredient(\"Lettuce\", \"1\")\n",
    "    cheese = Ingredient(\"Cheese\", \"100g\")\n",
    "    beef_patty = Ingredient(\"Beef Patty\", \"1\")\n",
    "\n",
    "    # Define dishes\n",
    "    burger = Dish(\"Burger\", [beef_patty, lettuce, tomato, cheese])\n",
    "    salad = Dish(\"Salad\", [lettuce, tomato, cheese])\n",
    "\n",
    "    # Define menus\n",
    "    lunch_menu = Menu(\"Lunch\", [burger, salad])\n",
    "    dinner_menu = Menu(\"Dinner\", [burger])\n",
    "\n",
    "    # Create restaurant\n",
    "    my_restaurant = Restaurant(\"My Restaurant\", [lunch_menu, dinner_menu])\n",
    "\n",
    "    # Display restaurant information\n",
    "    print(my_restaurant)\n"
   ]
  },
  {
   "cell_type": "markdown",
   "id": "73d66189",
   "metadata": {},
   "source": [
    "15. Explain how composition enhances code maintainability and modularity in Python programs."
   ]
  },
  {
   "cell_type": "markdown",
   "id": "5de86d41",
   "metadata": {},
   "source": [
    "Composition enhances code maintainability and modularity in Python programs by promoting a modular design approach and reducing code complexity. Here's how composition achieves these benefits:\n",
    "\n",
    "1. **Modularity**: Composition allows you to break down complex systems into smaller, more manageable components. Each component encapsulates a specific aspect of functionality, making it easier to understand, maintain, and extend the codebase. By composing objects from simpler components, you can build complex systems in a structured and organized manner, promoting modularity.\n",
    "\n",
    "2. **Code Reusability**: Composition promotes code reuse by enabling you to reuse existing components across different parts of the codebase. Instead of duplicating code or functionality, you can compose objects from reusable components, reducing redundancy and improving code maintainability. This leads to cleaner, more concise code and reduces the risk of errors introduced by duplicated logic.\n",
    "\n",
    "3. **Encapsulation**: Composition encourages encapsulation by hiding the internal details of components behind well-defined interfaces. Each component exposes a set of public methods or properties, while keeping its implementation details private. This encapsulation protects the integrity of the component and prevents external code from relying on its internal state, leading to more robust and maintainable code.\n",
    "\n",
    "4. **Flexibility**: Composition provides flexibility in designing and evolving software systems. Since components are loosely coupled, you can easily replace or modify individual components without affecting the overall system architecture. This allows for incremental development, where new features can be added or existing ones can be modified with minimal impact on other parts of the codebase.\n",
    "\n",
    "5. **Separation of Concerns**: Composition encourages the separation of concerns by dividing responsibilities among different components. Each component is responsible for a specific aspect of functionality, such as data storage, processing, or presentation. This separation allows you to isolate changes related to a specific concern, making it easier to maintain and evolve the codebase over time.\n",
    "\n",
    "Overall, composition enhances code maintainability and modularity in Python programs by promoting a modular, reusable, and flexible design approach. By breaking down complex systems into smaller, more manageable components and composing objects from these components, you can build scalable, maintainable, and adaptable software systems."
   ]
  },
  {
   "cell_type": "markdown",
   "id": "a655e9e7",
   "metadata": {},
   "source": [
    "16. Create a Python class for a computer game character, using composition to represent attributes like\n",
    "weapons, armor, and inventory."
   ]
  },
  {
   "cell_type": "code",
   "execution_count": 108,
   "id": "0e9322fd",
   "metadata": {},
   "outputs": [
    {
     "name": "stdout",
     "output_type": "stream",
     "text": [
      "Hero - Health: 100\n",
      "Weapon: Sword (Damage: 20)\n",
      "Armor: Shield (Defense: 10)\n",
      "Inventory:\n",
      "- Health Potion\n"
     ]
    }
   ],
   "source": [
    "class Weapon:\n",
    "    def __init__(self, name, damage):\n",
    "        self.name = name\n",
    "        self.damage = damage\n",
    "\n",
    "    def __str__(self):\n",
    "        return f\"{self.name} (Damage: {self.damage})\"\n",
    "\n",
    "\n",
    "class Armor:\n",
    "    def __init__(self, name, defense):\n",
    "        self.name = name\n",
    "        self.defense = defense\n",
    "\n",
    "    def __str__(self):\n",
    "        return f\"{self.name} (Defense: {self.defense})\"\n",
    "\n",
    "\n",
    "class Inventory:\n",
    "    def __init__(self):\n",
    "        self.items = []\n",
    "\n",
    "    def add_item(self, item):\n",
    "        self.items.append(item)\n",
    "\n",
    "    def display_inventory(self):\n",
    "        print(\"Inventory:\")\n",
    "        for item in self.items:\n",
    "            print(f\"- {item}\")\n",
    "\n",
    "\n",
    "class GameCharacter:\n",
    "    def __init__(self, name, health, weapon=None, armor=None, inventory=None):\n",
    "        self.name = name\n",
    "        self.health = health\n",
    "        self.weapon = weapon\n",
    "        self.armor = armor\n",
    "        self.inventory = inventory if inventory is not None else Inventory()\n",
    "\n",
    "    def equip_weapon(self, weapon):\n",
    "        self.weapon = weapon\n",
    "\n",
    "    def equip_armor(self, armor):\n",
    "        self.armor = armor\n",
    "\n",
    "    def add_item_to_inventory(self, item):\n",
    "        self.inventory.add_item(item)\n",
    "\n",
    "    def display_status(self):\n",
    "        print(f\"{self.name} - Health: {self.health}\")\n",
    "        if self.weapon:\n",
    "            print(f\"Weapon: {self.weapon}\")\n",
    "        if self.armor:\n",
    "            print(f\"Armor: {self.armor}\")\n",
    "        self.inventory.display_inventory()\n",
    "\n",
    "\n",
    "\n",
    "if __name__ == \"__main__\":\n",
    "    sword = Weapon(name=\"Sword\", damage=20)\n",
    "    shield = Armor(name=\"Shield\", defense=10)\n",
    "    potion = \"Health Potion\"\n",
    "\n",
    "    player = GameCharacter(name=\"Hero\", health=100)\n",
    "    player.equip_weapon(sword)\n",
    "    player.equip_armor(shield)\n",
    "    player.add_item_to_inventory(potion)\n",
    "    player.display_status()\n"
   ]
  },
  {
   "cell_type": "markdown",
   "id": "84e9d1ca",
   "metadata": {},
   "source": [
    "17. Describe the concept of \"aggregation\" in composition and how it differs from simple composition."
   ]
  },
  {
   "cell_type": "markdown",
   "id": "2fe64ca5",
   "metadata": {},
   "source": [
    "In composition, the concept of \"aggregation\" refers to a type of relationship between objects where one object is composed of other objects, but the lifetime of the contained objects is not dependent on the lifetime of the container object. This means that the contained objects can exist independently of the container object and may be shared among multiple container objects.\n",
    "\n",
    "Aggregation is a form of association where one class is composed of one or more instances of another class, but these instances can exist independently and may be shared among multiple instances of the container class. It implies a \"has-a\" relationship, where the container object \"has\" or \"contains\" instances of the contained object.\n",
    "\n",
    "The key difference between aggregation and simple composition lies in the strength of the relationship and the lifetime dependency between objects:\n",
    "\n",
    "1. **Aggregation**:\n",
    "   - In aggregation, the contained objects can exist independently of the container object.\n",
    "   - The container object typically maintains references to the contained objects, but the contained objects are not created or destroyed along with the container object.\n",
    "   - The contained objects can be shared among multiple instances of the container class or other classes.\n",
    "   - Aggregation implies a weaker relationship compared to simple composition, as the contained objects are not strictly part of the container object's lifecycle.\n",
    "\n",
    "2. **Simple Composition**:\n",
    "   - In simple composition, the contained objects are created and destroyed along with the container object.\n",
    "   - The contained objects are tightly coupled with the container object, and their lifecycle is dependent on the container object's lifecycle.\n",
    "   - Simple composition implies a stronger relationship, where the contained objects are considered integral parts of the container object.\n",
    "\n",
    "To illustrate the difference, consider the relationship between a `University` class and a `Student` class:\n",
    "\n",
    "- If a `University` object is composed of `Student` objects using simple composition, the `Student` objects are created and destroyed along with the `University` object. They cannot exist independently of the university.\n",
    "- If a `University` object aggregates `Student` objects, the `Student` objects can exist independently of the university. They may belong to multiple universities or be unaffiliated with any university at all.\n",
    "\n",
    "In summary, aggregation in composition allows for more flexible relationships between objects, where the contained objects are not tightly bound to the lifecycle of the container object, promoting reusability and modularity in object-oriented design."
   ]
  },
  {
   "cell_type": "markdown",
   "id": "871b95e6",
   "metadata": {},
   "source": [
    "18. Create a Python class for a house, using composition to represent rooms, furniture, and appliances."
   ]
  },
  {
   "cell_type": "code",
   "execution_count": 110,
   "id": "974f6f1c",
   "metadata": {},
   "outputs": [
    {
     "name": "stdout",
     "output_type": "stream",
     "text": [
      "House located at 123 Main St:\n",
      "\n",
      "Living Room (Area: 300 sq. ft.)\n",
      "  Furniture: Sofa, Dining Table\n",
      "  Appliances: \n",
      "Kitchen (Area: 200 sq. ft.)\n",
      "  Furniture: \n",
      "  Appliances: Refrigerator, Stove\n"
     ]
    }
   ],
   "source": [
    "class Furniture:\n",
    "    def __init__(self, name):\n",
    "        self.name = name\n",
    "\n",
    "    def __str__(self):\n",
    "        return f\"{self.name}\"\n",
    "\n",
    "\n",
    "class Appliance:\n",
    "    def __init__(self, name):\n",
    "        self.name = name\n",
    "\n",
    "    def __str__(self):\n",
    "        return f\"{self.name}\"\n",
    "\n",
    "\n",
    "class Room:\n",
    "    def __init__(self, name, area):\n",
    "        self.name = name\n",
    "        self.area = area\n",
    "        self.furniture = []\n",
    "        self.appliances = []\n",
    "\n",
    "    def add_furniture(self, furniture):\n",
    "        self.furniture.append(furniture)\n",
    "\n",
    "    def add_appliance(self, appliance):\n",
    "        self.appliances.append(appliance)\n",
    "\n",
    "    def __str__(self):\n",
    "        return f\"{self.name} (Area: {self.area} sq. ft.)\"\n",
    "\n",
    "\n",
    "class House:\n",
    "    def __init__(self, address):\n",
    "        self.address = address\n",
    "        self.rooms = []\n",
    "\n",
    "    def add_room(self, room):\n",
    "        self.rooms.append(room)\n",
    "\n",
    "    def __str__(self):\n",
    "        house_info = f\"House located at {self.address}:\\n\"\n",
    "        for room in self.rooms:\n",
    "            room_info = f\"\\n{room}\\n  Furniture: {', '.join(str(item) for item in room.furniture)}\\n  Appliances: {', '.join(str(item) for item in room.appliances)}\"\n",
    "            house_info += room_info\n",
    "        return house_info\n",
    "\n",
    "\n",
    "# Example usage:\n",
    "if __name__ == \"__main__\":\n",
    "    # Define furniture and appliances\n",
    "    sofa = Furniture(\"Sofa\")\n",
    "    dining_table = Furniture(\"Dining Table\")\n",
    "    fridge = Appliance(\"Refrigerator\")\n",
    "    stove = Appliance(\"Stove\")\n",
    "\n",
    "    # Define rooms\n",
    "    living_room = Room(\"Living Room\", area=300)\n",
    "    kitchen = Room(\"Kitchen\", area=200)\n",
    "\n",
    "    # Add furniture and appliances to rooms\n",
    "    living_room.add_furniture(sofa)\n",
    "    living_room.add_furniture(dining_table)\n",
    "    kitchen.add_appliance(fridge)\n",
    "    kitchen.add_appliance(stove)\n",
    "\n",
    "    # Create a house\n",
    "    my_house = House(address=\"123 Main St\")\n",
    "    my_house.add_room(living_room)\n",
    "    my_house.add_room(kitchen)\n",
    "\n",
    "    # Display house information\n",
    "    print(my_house)\n",
    "\n",
    "\n",
    "#In this example:\n",
    "#- The `Furniture` class represents furniture items with attributes for name.\n",
    "#- The `Appliance` class represents appliances with attributes for name.\n",
    "#- The `Room` class represents rooms in a house with attributes for name, area, and lists of furniture and appliances.\n",
    "#- The `House` class represents a house with an address and a list of rooms.\n",
    "#- Composition is used to represent the house composed of rooms, and rooms composed of furniture and appliances within the `House` and `Room` classes.\n",
    "#- Example usage demonstrates defining furniture, appliances, rooms, and a house, adding furniture and appliances to rooms, and displaying the house information."
   ]
  },
  {
   "cell_type": "markdown",
   "id": "2823a168",
   "metadata": {},
   "source": [
    "19. How can you achieve flexibility in composed objects by allowing them to be replaced or modified dynamically at runtime?"
   ]
  },
  {
   "cell_type": "markdown",
   "id": "c690e294",
   "metadata": {},
   "source": [
    "You can achieve flexibility in composed objects by designing them to allow dynamic replacement or modification of their components at runtime. This can be accomplished using various techniques such as dependency injection, abstract factories, and decorators. Here's how each of these techniques can enable dynamic composition:\n",
    "\n",
    "1. **Dependency Injection**:\n",
    "   - Dependency injection involves passing dependencies (i.e., composed objects) as parameters to a class or method rather than creating them internally.\n",
    "   - By injecting dependencies from external sources, you can replace or modify the composed objects dynamically at runtime.\n",
    "   - Dependency injection frameworks such as `Django`'s `dependency_injection` module or libraries like `injector` in Python provide convenient ways to manage dependencies and facilitate dynamic composition.\n",
    "\n",
    "2. **Abstract Factories**:\n",
    "   - Abstract factories provide an interface for creating families of related or dependent objects without specifying their concrete classes.\n",
    "   - By using abstract factories, you can dynamically switch between different sets of concrete classes that implement the same interface, allowing for flexible composition.\n",
    "   - You can define multiple abstract factory classes, each responsible for creating a different set of related objects, and switch between them at runtime based on application requirements.\n",
    "\n",
    "3. **Decorators**:\n",
    "   - Decorators allow you to dynamically add behavior or modify the functionality of objects at runtime.\n",
    "   - By applying decorators to composed objects, you can dynamically extend or modify their behavior without altering their underlying implementation.\n",
    "   - Decorators can be chained together to provide a flexible and composable way to modify the behavior of objects, enabling dynamic composition.\n",
    "\n",
    "Here's a simplified example demonstrating how dependency injection can enable dynamic composition:\n",
    "\n",
    "```python\n",
    "class Engine:\n",
    "    def start(self):\n",
    "        print(\"Engine started\")\n",
    "\n",
    "\n",
    "class ElectricEngine(Engine):\n",
    "    def start(self):\n",
    "        print(\"Electric engine started\")\n",
    "\n",
    "\n",
    "class Car:\n",
    "    def __init__(self, engine):\n",
    "        self.engine = engine\n",
    "\n",
    "    def start(self):\n",
    "        self.engine.start()\n",
    "\n",
    "\n",
    "if __name__ == \"__main__\":\n",
    "    # Create a car with a gasoline engine\n",
    "    gasoline_engine = Engine()\n",
    "    my_car = Car(engine=gasoline_engine)\n",
    "    my_car.start()\n",
    "\n",
    "    # Replace the engine with an electric engine at runtime\n",
    "    electric_engine = ElectricEngine()\n",
    "    my_car.engine = electric_engine\n",
    "    my_car.start()\n",
    "```\n",
    "\n",
    "In this example, the `Car` class accepts an `engine` parameter in its constructor, allowing different types of engines to be injected dynamically. By replacing the engine with a different type (e.g., gasoline engine with an electric engine) at runtime, you achieve flexibility in composed objects."
   ]
  },
  {
   "cell_type": "markdown",
   "id": "e9679f11",
   "metadata": {},
   "source": [
    "20. Create a Python class for a social media application, using composition to represent users, posts, and comments."
   ]
  },
  {
   "cell_type": "code",
   "execution_count": 113,
   "id": "8c6dbeb4",
   "metadata": {},
   "outputs": [
    {
     "name": "stdout",
     "output_type": "stream",
     "text": [
      "Alice posted:\n",
      "Hello, world!\n",
      "Comments:\n",
      "Bob: Nice post!\n"
     ]
    }
   ],
   "source": [
    "class Comment:\n",
    "    def __init__(self, user, text):\n",
    "        self.user = user\n",
    "        self.text = text\n",
    "\n",
    "    def __str__(self):\n",
    "        return f\"{self.user}: {self.text}\"\n",
    "\n",
    "\n",
    "class Post:\n",
    "    def __init__(self, user, content):\n",
    "        self.user = user\n",
    "        self.content = content\n",
    "        self.comments = []\n",
    "\n",
    "    def add_comment(self, comment):\n",
    "        self.comments.append(comment)\n",
    "\n",
    "    def __str__(self):\n",
    "        post_info = f\"{self.user} posted:\\n{self.content}\"\n",
    "        if self.comments:\n",
    "            comments_info = \"\\nComments:\\n\" + \"\\n\".join(str(comment) for comment in self.comments)\n",
    "            post_info += comments_info\n",
    "        return post_info\n",
    "\n",
    "\n",
    "class User:\n",
    "    def __init__(self, username):\n",
    "        self.username = username\n",
    "        self.posts = []\n",
    "\n",
    "    def create_post(self, content):\n",
    "        post = Post(user=self.username, content=content)\n",
    "        self.posts.append(post)\n",
    "        return post\n",
    "\n",
    "    def __str__(self):\n",
    "        return f\"User: {self.username}\"\n",
    "\n",
    "\n",
    "class SocialMediaApp:\n",
    "    def __init__(self):\n",
    "        self.users = []\n",
    "\n",
    "    def create_user(self, username):\n",
    "        user = User(username)\n",
    "        self.users.append(user)\n",
    "        return user\n",
    "\n",
    "    def __str__(self):\n",
    "        return \"Social Media App\"\n",
    "\n",
    "\n",
    "#Example usage:\n",
    "if __name__ == \"__main__\":\n",
    "    # Create a social media app\n",
    "    app = SocialMediaApp()\n",
    "\n",
    "    # Create users\n",
    "    alice = app.create_user(\"Alice\")\n",
    "    bob = app.create_user(\"Bob\")\n",
    "\n",
    "    # Alice creates a post\n",
    "    post1 = alice.create_post(\"Hello, world!\")\n",
    "\n",
    "    # Bob comments on Alice's post\n",
    "    comment1 = Comment(user=bob.username, text=\"Nice post!\")\n",
    "    post1.add_comment(comment1)\n",
    "\n",
    "    # Display posts and comments\n",
    "    for user in app.users:\n",
    "        for post in user.posts:\n",
    "            print(post)\n",
    "\n",
    "#In this example:\n",
    "#- The `Comment` class represents comments with attributes for the user who made the comment and the comment text.\n",
    "#- The `Post` class represents posts with attributes for the user who made the post, the post content, and a list of comments.\n",
    "#- The `User` class represents users with attributes for the username and a list of posts.\n",
    "#- Composition is used to represent users composed of posts, posts composed of comments, and comments composed of user information and text within the `User`, `Post`, and `Comment` classes.\n",
    "#- The `SocialMediaApp` class represents a social media application with a list of users.\n",
    "#- Example usage demonstrates creating users, creating posts, adding comments to posts, and displaying posts and comments within the social media application.\n"
   ]
  },
  {
   "cell_type": "code",
   "execution_count": null,
   "id": "27fc2956",
   "metadata": {},
   "outputs": [],
   "source": []
  },
  {
   "cell_type": "code",
   "execution_count": null,
   "id": "6f39a00b",
   "metadata": {},
   "outputs": [],
   "source": []
  },
  {
   "cell_type": "code",
   "execution_count": null,
   "id": "56bbd09f",
   "metadata": {},
   "outputs": [],
   "source": []
  }
 ],
 "metadata": {
  "kernelspec": {
   "display_name": "Python 3 (ipykernel)",
   "language": "python",
   "name": "python3"
  },
  "language_info": {
   "codemirror_mode": {
    "name": "ipython",
    "version": 3
   },
   "file_extension": ".py",
   "mimetype": "text/x-python",
   "name": "python",
   "nbconvert_exporter": "python",
   "pygments_lexer": "ipython3",
   "version": "3.9.13"
  }
 },
 "nbformat": 4,
 "nbformat_minor": 5
}
